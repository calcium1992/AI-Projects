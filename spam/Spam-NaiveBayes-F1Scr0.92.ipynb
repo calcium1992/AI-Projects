{
 "cells": [
  {
   "cell_type": "markdown",
   "metadata": {},
   "source": [
    "Kaggle: https://www.kaggle.com/uciml/sms-spam-collection-dataset"
   ]
  },
  {
   "cell_type": "code",
   "execution_count": 1,
   "metadata": {
    "ExecuteTime": {
     "end_time": "2020-11-24T00:05:29.705477Z",
     "start_time": "2020-11-24T00:05:28.025402Z"
    }
   },
   "outputs": [],
   "source": [
    "import pandas as pd\n",
    "import numpy as np\n",
    "from matplotlib import pyplot as plt\n",
    "from tqdm import tqdm"
   ]
  },
  {
   "cell_type": "code",
   "execution_count": 2,
   "metadata": {
    "ExecuteTime": {
     "end_time": "2020-11-24T00:05:29.718751Z",
     "start_time": "2020-11-24T00:05:29.714315Z"
    }
   },
   "outputs": [],
   "source": [
    "TRAIN_DIR = './input/spam.csv'"
   ]
  },
  {
   "cell_type": "markdown",
   "metadata": {},
   "source": [
    "# Explantory Data Analysis"
   ]
  },
  {
   "cell_type": "code",
   "execution_count": 3,
   "metadata": {
    "ExecuteTime": {
     "end_time": "2020-11-24T00:05:29.751791Z",
     "start_time": "2020-11-24T00:05:29.722266Z"
    }
   },
   "outputs": [],
   "source": [
    "df = pd.read_csv(TRAIN_DIR, encoding='latin-1') "
   ]
  },
  {
   "cell_type": "markdown",
   "metadata": {},
   "source": [
    "1.Take a Glance at the Data"
   ]
  },
  {
   "cell_type": "code",
   "execution_count": 4,
   "metadata": {
    "ExecuteTime": {
     "end_time": "2020-11-24T00:05:29.782608Z",
     "start_time": "2020-11-24T00:05:29.755427Z"
    }
   },
   "outputs": [
    {
     "data": {
      "text/html": [
       "<div>\n",
       "<style scoped>\n",
       "    .dataframe tbody tr th:only-of-type {\n",
       "        vertical-align: middle;\n",
       "    }\n",
       "\n",
       "    .dataframe tbody tr th {\n",
       "        vertical-align: top;\n",
       "    }\n",
       "\n",
       "    .dataframe thead th {\n",
       "        text-align: right;\n",
       "    }\n",
       "</style>\n",
       "<table border=\"1\" class=\"dataframe\">\n",
       "  <thead>\n",
       "    <tr style=\"text-align: right;\">\n",
       "      <th></th>\n",
       "      <th>v1</th>\n",
       "      <th>v2</th>\n",
       "      <th>Unnamed: 2</th>\n",
       "      <th>Unnamed: 3</th>\n",
       "      <th>Unnamed: 4</th>\n",
       "    </tr>\n",
       "  </thead>\n",
       "  <tbody>\n",
       "    <tr>\n",
       "      <th>0</th>\n",
       "      <td>ham</td>\n",
       "      <td>Go until jurong point, crazy.. Available only ...</td>\n",
       "      <td>NaN</td>\n",
       "      <td>NaN</td>\n",
       "      <td>NaN</td>\n",
       "    </tr>\n",
       "    <tr>\n",
       "      <th>1</th>\n",
       "      <td>ham</td>\n",
       "      <td>Ok lar... Joking wif u oni...</td>\n",
       "      <td>NaN</td>\n",
       "      <td>NaN</td>\n",
       "      <td>NaN</td>\n",
       "    </tr>\n",
       "    <tr>\n",
       "      <th>2</th>\n",
       "      <td>spam</td>\n",
       "      <td>Free entry in 2 a wkly comp to win FA Cup fina...</td>\n",
       "      <td>NaN</td>\n",
       "      <td>NaN</td>\n",
       "      <td>NaN</td>\n",
       "    </tr>\n",
       "    <tr>\n",
       "      <th>3</th>\n",
       "      <td>ham</td>\n",
       "      <td>U dun say so early hor... U c already then say...</td>\n",
       "      <td>NaN</td>\n",
       "      <td>NaN</td>\n",
       "      <td>NaN</td>\n",
       "    </tr>\n",
       "    <tr>\n",
       "      <th>4</th>\n",
       "      <td>ham</td>\n",
       "      <td>Nah I don't think he goes to usf, he lives aro...</td>\n",
       "      <td>NaN</td>\n",
       "      <td>NaN</td>\n",
       "      <td>NaN</td>\n",
       "    </tr>\n",
       "  </tbody>\n",
       "</table>\n",
       "</div>"
      ],
      "text/plain": [
       "     v1                                                 v2 Unnamed: 2  \\\n",
       "0   ham  Go until jurong point, crazy.. Available only ...        NaN   \n",
       "1   ham                      Ok lar... Joking wif u oni...        NaN   \n",
       "2  spam  Free entry in 2 a wkly comp to win FA Cup fina...        NaN   \n",
       "3   ham  U dun say so early hor... U c already then say...        NaN   \n",
       "4   ham  Nah I don't think he goes to usf, he lives aro...        NaN   \n",
       "\n",
       "  Unnamed: 3 Unnamed: 4  \n",
       "0        NaN        NaN  \n",
       "1        NaN        NaN  \n",
       "2        NaN        NaN  \n",
       "3        NaN        NaN  \n",
       "4        NaN        NaN  "
      ]
     },
     "execution_count": 4,
     "metadata": {},
     "output_type": "execute_result"
    }
   ],
   "source": [
    "df.head()"
   ]
  },
  {
   "cell_type": "markdown",
   "metadata": {},
   "source": [
    "# Prepare Data"
   ]
  },
  {
   "cell_type": "code",
   "execution_count": 5,
   "metadata": {
    "ExecuteTime": {
     "end_time": "2020-11-24T00:05:30.950666Z",
     "start_time": "2020-11-24T00:05:29.785701Z"
    }
   },
   "outputs": [],
   "source": [
    "from sklearn.model_selection import train_test_split\n",
    "from sklearn.feature_extraction.text import CountVectorizer"
   ]
  },
  {
   "cell_type": "markdown",
   "metadata": {},
   "source": [
    "1.Split Training Set and Validation Set"
   ]
  },
  {
   "cell_type": "code",
   "execution_count": 6,
   "metadata": {
    "ExecuteTime": {
     "end_time": "2020-11-24T00:05:30.966568Z",
     "start_time": "2020-11-24T00:05:30.955915Z"
    }
   },
   "outputs": [
    {
     "name": "stdout",
     "output_type": "stream",
     "text": [
      "Training Set: X_train Shape: 4457 | y_train Shape: 4457\n",
      "Validation Set: X_val Shape: 1115 | y_val Shape: 1115\n"
     ]
    }
   ],
   "source": [
    "X_train, X_val, y_train, y_val = train_test_split(list(df['v2']), list(df['v1']), test_size=0.2, random_state=0) \n",
    "print(f'Training Set: X_train Shape: {len(X_train)} | y_train Shape: {len(y_train)}')\n",
    "print(f'Validation Set: X_val Shape: {len(X_val)} | y_val Shape: {len(y_val)}')"
   ]
  },
  {
   "cell_type": "code",
   "execution_count": 7,
   "metadata": {
    "ExecuteTime": {
     "end_time": "2020-11-24T00:05:30.977459Z",
     "start_time": "2020-11-24T00:05:30.972066Z"
    }
   },
   "outputs": [
    {
     "data": {
      "text/plain": [
       "'No no:)this is kallis home ground.amla home town is durban:)'"
      ]
     },
     "execution_count": 7,
     "metadata": {},
     "output_type": "execute_result"
    }
   ],
   "source": [
    "X_train[0]"
   ]
  },
  {
   "cell_type": "markdown",
   "metadata": {},
   "source": [
    "2.Build Vocab"
   ]
  },
  {
   "cell_type": "code",
   "execution_count": 8,
   "metadata": {
    "ExecuteTime": {
     "end_time": "2020-11-24T00:05:30.992177Z",
     "start_time": "2020-11-24T00:05:30.980605Z"
    },
    "code_folding": [
     0
    ]
   },
   "outputs": [],
   "source": [
    "class tokenizer:\n",
    "    def __init__(self, text_data):\n",
    "        self.vocab = {}\n",
    "        self.__get_vocab(text_data)\n",
    "        \n",
    "    def convert_text_dataset_to_matrix(self, X):\n",
    "        vocab = self.vocab\n",
    "        result = []       \n",
    "        for text in tqdm(X):\n",
    "            vector = self.__text_to_vector(text)\n",
    "            result.append(vector)\n",
    "        return result\n",
    "    \n",
    "    def __get_vocab(self, text_data):\n",
    "        word_id = 0\n",
    "        for text in text_data:\n",
    "            words = text.split()\n",
    "            for word in words:\n",
    "                word = word.lower()\n",
    "                if word not in self.vocab:\n",
    "                    self.vocab[word] = word_id\n",
    "                    word_id += 1\n",
    "        print(f'Length of Dictionary: {len(self.vocab)}')\n",
    "    \n",
    "    def __text_to_vector(self, text):\n",
    "        vocab = self.vocab\n",
    "        result = list(np.zeros(len(vocab)))\n",
    "        words = text.split()\n",
    "        for word in words:\n",
    "            word = word.lower()\n",
    "            if word in vocab:\n",
    "                result[vocab[word]] += 1\n",
    "        return result"
   ]
  },
  {
   "cell_type": "code",
   "execution_count": 9,
   "metadata": {
    "ExecuteTime": {
     "end_time": "2020-11-24T00:05:31.039707Z",
     "start_time": "2020-11-24T00:05:30.995996Z"
    }
   },
   "outputs": [
    {
     "name": "stdout",
     "output_type": "stream",
     "text": [
      "Length of Dictionary: 11706\n"
     ]
    }
   ],
   "source": [
    "tz = tokenizer(X_train)"
   ]
  },
  {
   "cell_type": "code",
   "execution_count": 10,
   "metadata": {
    "ExecuteTime": {
     "end_time": "2020-11-24T00:05:37.871610Z",
     "start_time": "2020-11-24T00:05:31.043413Z"
    }
   },
   "outputs": [
    {
     "name": "stderr",
     "output_type": "stream",
     "text": [
      "100%|██████████| 4457/4457 [00:05<00:00, 849.79it/s]\n",
      "100%|██████████| 1115/1115 [00:01<00:00, 711.72it/s]\n"
     ]
    }
   ],
   "source": [
    "X_train_matrix = tz.convert_text_dataset_to_matrix(X_train)\n",
    "X_val_matrix = tz.convert_text_dataset_to_matrix(X_val)"
   ]
  },
  {
   "cell_type": "markdown",
   "metadata": {},
   "source": [
    "# Model 1: Naive Bayes"
   ]
  },
  {
   "cell_type": "code",
   "execution_count": 11,
   "metadata": {
    "ExecuteTime": {
     "end_time": "2020-11-24T00:05:37.970259Z",
     "start_time": "2020-11-24T00:05:37.878467Z"
    }
   },
   "outputs": [],
   "source": [
    "from sklearn.naive_bayes import MultinomialNB\n",
    "from sklearn.metrics import accuracy_score, confusion_matrix, classification_report"
   ]
  },
  {
   "cell_type": "code",
   "execution_count": 12,
   "metadata": {
    "ExecuteTime": {
     "end_time": "2020-11-24T00:05:37.995530Z",
     "start_time": "2020-11-24T00:05:37.977568Z"
    },
    "code_folding": [
     0
    ]
   },
   "outputs": [],
   "source": [
    "def plot_confusion_matrix(conf_mtrx, classes, cmap=plt.cm.Blues):\n",
    "    num_class = conf_mtrx.shape[0]\n",
    "    \n",
    "    fig, ax = plt.subplots()\n",
    "    im = ax.imshow(conf_mtrx, interpolation='nearest', cmap=cmap)\n",
    "    ax.figure.colorbar(im, ax=ax)\n",
    "    ax.set(xticks=np.arange(num_class), yticks=np.arange(num_class),\n",
    "           xticklabels=classes, yticklabels=classes, \n",
    "           ylabel='True label', xlabel='Predicted label')\n",
    "\n",
    "    middle_threshold = conf_mtrx.max() / 2.\n",
    "    for row in range(num_class):\n",
    "        for col in range(num_class):\n",
    "            ax.text(col, row, format(conf_mtrx[row, col], '.0f'), ha=\"center\", va=\"center\",\n",
    "                    color=\"white\" if conf_mtrx[row, col] > middle_threshold else \"black\")\n",
    "    fig.tight_layout()\n",
    "    plt.show()"
   ]
  },
  {
   "cell_type": "markdown",
   "metadata": {},
   "source": [
    "1.Fit"
   ]
  },
  {
   "cell_type": "code",
   "execution_count": 13,
   "metadata": {
    "ExecuteTime": {
     "end_time": "2020-11-24T00:05:44.829599Z",
     "start_time": "2020-11-24T00:05:38.001080Z"
    }
   },
   "outputs": [
    {
     "data": {
      "text/plain": [
       "MultinomialNB()"
      ]
     },
     "execution_count": 13,
     "metadata": {},
     "output_type": "execute_result"
    }
   ],
   "source": [
    "nb = MultinomialNB()\n",
    "nb.fit(X_train_matrix, y_train)"
   ]
  },
  {
   "cell_type": "markdown",
   "metadata": {},
   "source": [
    "2.Predict"
   ]
  },
  {
   "cell_type": "code",
   "execution_count": 14,
   "metadata": {
    "ExecuteTime": {
     "end_time": "2020-11-24T00:05:46.528727Z",
     "start_time": "2020-11-24T00:05:44.834191Z"
    }
   },
   "outputs": [],
   "source": [
    "y_pred = nb.predict(X_val_matrix)"
   ]
  },
  {
   "cell_type": "code",
   "execution_count": 15,
   "metadata": {
    "ExecuteTime": {
     "end_time": "2020-11-24T00:05:46.555574Z",
     "start_time": "2020-11-24T00:05:46.530743Z"
    }
   },
   "outputs": [
    {
     "name": "stdout",
     "output_type": "stream",
     "text": [
      "Accuracy:  0.9775784753363229\n",
      "Confusion Matrix\n",
      "[[948   1]\n",
      " [ 24 142]]\n",
      "Classification Report\n",
      "              precision    recall  f1-score   support\n",
      "\n",
      "         ham       0.98      1.00      0.99       949\n",
      "        spam       0.99      0.86      0.92       166\n",
      "\n",
      "    accuracy                           0.98      1115\n",
      "   macro avg       0.98      0.93      0.95      1115\n",
      "weighted avg       0.98      0.98      0.98      1115\n",
      "\n"
     ]
    }
   ],
   "source": [
    "print('Accuracy: ', accuracy_score(y_val, y_pred))\n",
    "print('Confusion Matrix')\n",
    "print(confusion_matrix(y_val, y_pred))\n",
    "print('Classification Report')\n",
    "print(classification_report(y_val, y_pred))"
   ]
  },
  {
   "cell_type": "code",
   "execution_count": 16,
   "metadata": {
    "ExecuteTime": {
     "end_time": "2020-11-24T00:05:47.267797Z",
     "start_time": "2020-11-24T00:05:46.557998Z"
    }
   },
   "outputs": [
    {
     "data": {
      "image/png": "[encoded data removed]",
      "text/plain": [
       "<Figure size 432x288 with 2 Axes>"
      ]
     },
     "metadata": {
      "needs_background": "light"
     },
     "output_type": "display_data"
    }
   ],
   "source": [
    "plot_confusion_matrix(confusion_matrix(y_val, y_pred),classes=['ham', 'spam'])"
   ]
  },
  {
   "cell_type": "markdown",
   "metadata": {},
   "source": [
    "# Model 2: Naive Bayes Model (No Sklearn)"
   ]
  },
  {
   "cell_type": "markdown",
   "metadata": {
    "ExecuteTime": {
     "end_time": "2020-11-23T23:57:51.545477Z",
     "start_time": "2020-11-23T23:57:51.540628Z"
    }
   },
   "source": [
    "1.Model Definition"
   ]
  },
  {
   "cell_type": "code",
   "execution_count": 17,
   "metadata": {
    "ExecuteTime": {
     "end_time": "2020-11-24T00:05:47.838568Z",
     "start_time": "2020-11-24T00:05:47.269656Z"
    },
    "code_folding": [
     0
    ]
   },
   "outputs": [],
   "source": [
    "class NaiveBayes_Spam:\n",
    "    def __init__(self):\n",
    "        self.log_p_spam_vector = None\n",
    "        self.log_p_ham_vector = None\n",
    "        self.log_p_spam = None\n",
    "        self.log_p_ham = None\n",
    "    \n",
    "    def fit(self, X_train, y_train):\n",
    "        num_text, num_words = len(X_train), len(X_train[0])\n",
    "        spam_word_counter, ham_word_counter = np.ones(num_words), np.ones(num_words) # Laplace Smoothing\n",
    "        spam_total_count, ham_total_count = 0, 0\n",
    "        spam_count, ham_count = 0, 0\n",
    "        \n",
    "        for i in tqdm(range(num_text)):\n",
    "            if y_train[i] == 'ham':\n",
    "                ham_word_counter += X_train[i]\n",
    "                ham_total_count += sum(X_train[i])\n",
    "                ham_count += 1\n",
    "            else:\n",
    "                spam_word_counter += X_train[i]\n",
    "                spam_total_count += sum(X_train[i])\n",
    "                spam_count += 1\n",
    "        \n",
    "        # log p(x|spam) (With Laplace Smoothing): For all the words in spam emails,\n",
    "        # the frequency of word x shows up.\n",
    "        self.log_p_spam_vector = np.log(spam_word_counter \\\n",
    "             / (spam_total_count + num_words))\n",
    "        # log p(x|ham)\n",
    "        self.log_p_ham_vector = np.log(ham_word_counter \\\n",
    "             / (ham_total_count + num_words))\n",
    "        # log p(spam)\n",
    "        self.log_p_spam = np.log(spam_count / num_text) \n",
    "        # log p(ham)\n",
    "        self.log_p_ham = np.log(ham_count / num_text) \n",
    "    \n",
    "    def predict(self, X):\n",
    "        num_text = len(X)\n",
    "        result = []\n",
    "        for i in tqdm(range(num_text)):\n",
    "            log_p_spam = sum(X[i] * self.log_p_spam_vector) + self.log_p_spam\n",
    "            log_p_ham = sum(X[i] * self.log_p_ham_vector) + self.log_p_ham\n",
    "            if log_p_spam > log_p_ham:\n",
    "                result.append('spam')\n",
    "            else:\n",
    "                result.append('ham')\n",
    "        return result"
   ]
  },
  {
   "cell_type": "markdown",
   "metadata": {},
   "source": [
    "2.Fit"
   ]
  },
  {
   "cell_type": "code",
   "execution_count": 18,
   "metadata": {
    "ExecuteTime": {
     "end_time": "2020-11-24T00:06:01.411541Z",
     "start_time": "2020-11-24T00:05:47.840894Z"
    }
   },
   "outputs": [
    {
     "name": "stderr",
     "output_type": "stream",
     "text": [
      "100%|██████████| 4457/4457 [00:13<00:00, 328.60it/s]\n"
     ]
    }
   ],
   "source": [
    "nb = NaiveBayes_Spam()\n",
    "nb.fit(X_train_matrix, y_train)"
   ]
  },
  {
   "cell_type": "markdown",
   "metadata": {},
   "source": [
    "3.Predict"
   ]
  },
  {
   "cell_type": "code",
   "execution_count": 19,
   "metadata": {
    "ExecuteTime": {
     "end_time": "2020-11-24T00:06:11.470423Z",
     "start_time": "2020-11-24T00:06:01.415299Z"
    }
   },
   "outputs": [
    {
     "name": "stderr",
     "output_type": "stream",
     "text": [
      "100%|██████████| 1115/1115 [00:10<00:00, 110.96it/s]\n"
     ]
    }
   ],
   "source": [
    "y_pred = nb.predict(X_val_matrix)"
   ]
  },
  {
   "cell_type": "code",
   "execution_count": 20,
   "metadata": {
    "ExecuteTime": {
     "end_time": "2020-11-24T00:06:11.507940Z",
     "start_time": "2020-11-24T00:06:11.473140Z"
    }
   },
   "outputs": [
    {
     "name": "stdout",
     "output_type": "stream",
     "text": [
      "Accuracy:  0.9775784753363229\n",
      "Confusion Matrix\n",
      "[[948   1]\n",
      " [ 24 142]]\n",
      "Classification Report\n",
      "              precision    recall  f1-score   support\n",
      "\n",
      "         ham       0.98      1.00      0.99       949\n",
      "        spam       0.99      0.86      0.92       166\n",
      "\n",
      "    accuracy                           0.98      1115\n",
      "   macro avg       0.98      0.93      0.95      1115\n",
      "weighted avg       0.98      0.98      0.98      1115\n",
      "\n"
     ]
    }
   ],
   "source": [
    "print('Accuracy: ', accuracy_score(y_val, y_pred))\n",
    "print('Confusion Matrix')\n",
    "print(confusion_matrix(y_val, y_pred))\n",
    "print('Classification Report')\n",
    "print(classification_report(y_val, y_pred))"
   ]
  },
  {
   "cell_type": "code",
   "execution_count": 21,
   "metadata": {
    "ExecuteTime": {
     "end_time": "2020-11-24T00:06:11.852215Z",
     "start_time": "2020-11-24T00:06:11.517086Z"
    }
   },
   "outputs": [
    {
     "data": {
      "image/png": "[encoded data removed]",
      "text/plain": [
       "<Figure size 432x288 with 2 Axes>"
      ]
     },
     "metadata": {
      "needs_background": "light"
     },
     "output_type": "display_data"
    }
   ],
   "source": [
    "plot_confusion_matrix(confusion_matrix(y_val, y_pred),classes=['ham', 'spam'])"
   ]
  }
 ],
 "metadata": {
  "kernelspec": {
   "display_name": "Python 3",
   "language": "python",
   "name": "python3"
  },
  "language_info": {
   "codemirror_mode": {
    "name": "ipython",
    "version": 3
   },
   "file_extension": ".py",
   "mimetype": "text/x-python",
   "name": "python",
   "nbconvert_exporter": "python",
   "pygments_lexer": "ipython3",
   "version": "3.6.12"
  },
  "toc": {
   "base_numbering": 1,
   "nav_menu": {},
   "number_sections": true,
   "sideBar": true,
   "skip_h1_title": false,
   "title_cell": "Table of Contents",
   "title_sidebar": "Contents",
   "toc_cell": false,
   "toc_position": {},
   "toc_section_display": true,
   "toc_window_display": false
  }
 },
 "nbformat": 4,
 "nbformat_minor": 4
}
