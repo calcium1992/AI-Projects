{
 "cells": [
  {
   "cell_type": "markdown",
   "metadata": {},
   "source": [
    "Kaggle: https://www.kaggle.com/c/dogs-vs-cats-redux-kernels-edition/notebooks"
   ]
  },
  {
   "cell_type": "markdown",
   "metadata": {},
   "source": [
    "Tutorial: https://www.kaggle.com/jiuzhang/ai-camp-introduction-dogs-and-cats"
   ]
  },
  {
   "cell_type": "code",
   "execution_count": 1,
   "metadata": {
    "ExecuteTime": {
     "end_time": "2020-11-23T05:05:12.096460Z",
     "start_time": "2020-11-23T05:05:10.543658Z"
    }
   },
   "outputs": [],
   "source": [
    "import numpy as np\n",
    "import pandas as pd\n",
    "import os\n",
    "from random import shuffle\n",
    "from tqdm import tqdm\n",
    "import matplotlib.pyplot as plt"
   ]
  },
  {
   "cell_type": "code",
   "execution_count": 2,
   "metadata": {
    "ExecuteTime": {
     "end_time": "2020-11-23T05:05:12.103302Z",
     "start_time": "2020-11-23T05:05:12.099975Z"
    }
   },
   "outputs": [],
   "source": [
    "import warnings\n",
    "warnings.filterwarnings('ignore')"
   ]
  },
  {
   "cell_type": "code",
   "execution_count": 3,
   "metadata": {
    "ExecuteTime": {
     "end_time": "2020-11-23T05:05:12.110557Z",
     "start_time": "2020-11-23T05:05:12.107503Z"
    }
   },
   "outputs": [],
   "source": [
    "TRAIN_DIR = './input/train/'\n",
    "TEST_DIR = './input/test/'"
   ]
  },
  {
   "cell_type": "markdown",
   "metadata": {},
   "source": [
    "# Explantory Data Analyisis"
   ]
  },
  {
   "cell_type": "code",
   "execution_count": 4,
   "metadata": {
    "ExecuteTime": {
     "end_time": "2020-11-23T05:05:15.078334Z",
     "start_time": "2020-11-23T05:05:12.113784Z"
    }
   },
   "outputs": [],
   "source": [
    "import cv2"
   ]
  },
  {
   "cell_type": "code",
   "execution_count": 5,
   "metadata": {
    "ExecuteTime": {
     "end_time": "2020-11-23T05:05:15.338907Z",
     "start_time": "2020-11-23T05:05:15.081209Z"
    }
   },
   "outputs": [],
   "source": [
    "training_files = os.listdir(TRAIN_DIR)"
   ]
  },
  {
   "cell_type": "code",
   "execution_count": 6,
   "metadata": {
    "ExecuteTime": {
     "end_time": "2020-11-23T05:05:15.346607Z",
     "start_time": "2020-11-23T05:05:15.340448Z"
    }
   },
   "outputs": [
    {
     "data": {
      "text/plain": [
       "'dog.8011.jpg'"
      ]
     },
     "execution_count": 6,
     "metadata": {},
     "output_type": "execute_result"
    }
   ],
   "source": [
    "training_files[0]"
   ]
  },
  {
   "cell_type": "code",
   "execution_count": 7,
   "metadata": {
    "ExecuteTime": {
     "end_time": "2020-11-23T05:05:15.358209Z",
     "start_time": "2020-11-23T05:05:15.348317Z"
    }
   },
   "outputs": [
    {
     "data": {
      "text/plain": [
       "(500, 380, 3)"
      ]
     },
     "execution_count": 7,
     "metadata": {},
     "output_type": "execute_result"
    }
   ],
   "source": [
    "cv2.imread(TRAIN_DIR + training_files[0]).shape"
   ]
  },
  {
   "cell_type": "code",
   "execution_count": 8,
   "metadata": {
    "ExecuteTime": {
     "end_time": "2020-11-23T05:05:15.499790Z",
     "start_time": "2020-11-23T05:05:15.362358Z"
    }
   },
   "outputs": [],
   "source": [
    "test_files = os.listdir(TEST_DIR)"
   ]
  },
  {
   "cell_type": "code",
   "execution_count": 9,
   "metadata": {
    "ExecuteTime": {
     "end_time": "2020-11-23T05:05:15.505868Z",
     "start_time": "2020-11-23T05:05:15.502273Z"
    }
   },
   "outputs": [
    {
     "data": {
      "text/plain": [
       "'9733.jpg'"
      ]
     },
     "execution_count": 9,
     "metadata": {},
     "output_type": "execute_result"
    }
   ],
   "source": [
    "test_files[0]"
   ]
  },
  {
   "cell_type": "markdown",
   "metadata": {},
   "source": [
    "# Prepare Data"
   ]
  },
  {
   "cell_type": "code",
   "execution_count": 10,
   "metadata": {
    "ExecuteTime": {
     "end_time": "2020-11-23T05:05:15.510256Z",
     "start_time": "2020-11-23T05:05:15.507633Z"
    }
   },
   "outputs": [],
   "source": [
    "IMG_SIZE = 50"
   ]
  },
  {
   "cell_type": "code",
   "execution_count": 11,
   "metadata": {
    "ExecuteTime": {
     "end_time": "2020-11-23T05:05:15.519226Z",
     "start_time": "2020-11-23T05:05:15.512472Z"
    },
    "code_folding": [
     0
    ]
   },
   "outputs": [],
   "source": [
    "def create_dataset(folder_path, flag_training=True):\n",
    "    def identify_label(file_name):\n",
    "        dog_or_cat = file_name.split('.')[0]\n",
    "        if dog_or_cat == 'cat':\n",
    "            return np.array([1, 0])\n",
    "        elif dog_or_cat == 'dog':\n",
    "            return np.array([0, 1])\n",
    "        \n",
    "    def identify_image_id(file_name):\n",
    "        return file_name.split('.')[0]\n",
    "    \n",
    "    result = []\n",
    "    for file_name in tqdm(os.listdir(folder_path)):\n",
    "        file_path = os.path.join(folder_path, file_name)\n",
    "        img = cv2.imread(file_path, cv2.IMREAD_GRAYSCALE)\n",
    "        img = cv2.resize(img, (IMG_SIZE, IMG_SIZE))\n",
    "        if flag_training:\n",
    "            img_data = np.array(img)\n",
    "            label = identify_label(file_name)\n",
    "            result.append([img_data, label])\n",
    "        else:\n",
    "            img_data = np.array(img)\n",
    "            img_id = identify_image_id(file_name)\n",
    "            result.append([img_data, img_id])\n",
    "    return result"
   ]
  },
  {
   "cell_type": "code",
   "execution_count": 12,
   "metadata": {
    "ExecuteTime": {
     "end_time": "2020-11-23T05:06:50.407466Z",
     "start_time": "2020-11-23T05:05:15.521085Z"
    },
    "code_folding": []
   },
   "outputs": [
    {
     "name": "stderr",
     "output_type": "stream",
     "text": [
      "100%|██████████| 25000/25000 [01:07<00:00, 371.30it/s]\n",
      "100%|██████████| 12500/12500 [00:27<00:00, 454.47it/s]\n"
     ]
    }
   ],
   "source": [
    "train_dataset = create_dataset(TRAIN_DIR)\n",
    "test_dataset = create_dataset(TEST_DIR, flag_training=False)"
   ]
  },
  {
   "cell_type": "markdown",
   "metadata": {
    "ExecuteTime": {
     "end_time": "2020-10-13T19:59:31.393724Z",
     "start_time": "2020-10-13T19:59:31.389276Z"
    }
   },
   "source": [
    "# CNN Model"
   ]
  },
  {
   "cell_type": "markdown",
   "metadata": {
    "ExecuteTime": {
     "end_time": "2020-11-23T05:03:06.708136Z",
     "start_time": "2020-11-23T05:03:06.696894Z"
    }
   },
   "source": [
    "1.Model Definition"
   ]
  },
  {
   "cell_type": "code",
   "execution_count": 13,
   "metadata": {
    "ExecuteTime": {
     "end_time": "2020-11-23T05:07:03.700830Z",
     "start_time": "2020-11-23T05:06:50.410651Z"
    }
   },
   "outputs": [
    {
     "name": "stdout",
     "output_type": "stream",
     "text": [
      "WARNING:tensorflow:From /Users/songyihe/opt/anaconda3/envs/ai_camp/lib/python3.6/site-packages/tflearn/helpers/summarizer.py:9: The name tf.summary.merge is deprecated. Please use tf.compat.v1.summary.merge instead.\n",
      "\n",
      "WARNING:tensorflow:From /Users/songyihe/opt/anaconda3/envs/ai_camp/lib/python3.6/site-packages/tflearn/helpers/trainer.py:25: The name tf.summary.FileWriter is deprecated. Please use tf.compat.v1.summary.FileWriter instead.\n",
      "\n",
      "WARNING:tensorflow:From /Users/songyihe/opt/anaconda3/envs/ai_camp/lib/python3.6/site-packages/tflearn/collections.py:13: The name tf.GraphKeys is deprecated. Please use tf.compat.v1.GraphKeys instead.\n",
      "\n",
      "WARNING:tensorflow:From /Users/songyihe/opt/anaconda3/envs/ai_camp/lib/python3.6/site-packages/tflearn/config.py:123: The name tf.get_collection is deprecated. Please use tf.compat.v1.get_collection instead.\n",
      "\n",
      "WARNING:tensorflow:From /Users/songyihe/opt/anaconda3/envs/ai_camp/lib/python3.6/site-packages/tflearn/config.py:129: The name tf.add_to_collection is deprecated. Please use tf.compat.v1.add_to_collection instead.\n",
      "\n",
      "WARNING:tensorflow:From /Users/songyihe/opt/anaconda3/envs/ai_camp/lib/python3.6/site-packages/tflearn/config.py:131: The name tf.assign is deprecated. Please use tf.compat.v1.assign instead.\n",
      "\n"
     ]
    }
   ],
   "source": [
    "import tflearn\n",
    "from tflearn.layers.conv import conv_2d, max_pool_2d\n",
    "from tflearn.layers.core import input_data, dropout, fully_connected\n",
    "from tflearn.layers.estimator import regression"
   ]
  },
  {
   "cell_type": "code",
   "execution_count": 14,
   "metadata": {
    "ExecuteTime": {
     "end_time": "2020-11-23T05:07:03.705747Z",
     "start_time": "2020-11-23T05:07:03.702799Z"
    }
   },
   "outputs": [],
   "source": [
    "FILTER_SIZE = 10\n",
    "LR = 1e-3\n",
    "EPOCH = 3"
   ]
  },
  {
   "cell_type": "code",
   "execution_count": 15,
   "metadata": {
    "ExecuteTime": {
     "end_time": "2020-11-23T05:07:03.726320Z",
     "start_time": "2020-11-23T05:07:03.708009Z"
    },
    "code_folding": [
     0,
     13
    ]
   },
   "outputs": [],
   "source": [
    "class CNN:\n",
    "    def __init__(self):\n",
    "        self.model = self.__build_cnn()\n",
    "    \n",
    "    def fit(self, train_dataset):\n",
    "        x_train, y_train, x_val, y_val = self.__load_training_validation(train_dataset)\n",
    "        self.model.fit({'input': x_train}, {'targets': y_train}, \\\n",
    "                  validation_set=({'input': x_val}, {'targets': y_val}), \\\n",
    "                  n_epoch=EPOCH, snapshot_step=500, show_metric=True, run_id='model' )\n",
    "        \n",
    "    def predict(self, input_data_list):\n",
    "        return self.model.predict(input_data_list)\n",
    "               \n",
    "    def __build_cnn(self):\n",
    "        # Note: Input\n",
    "        cnn = input_data(shape = [None, IMG_SIZE, IMG_SIZE, 1], name = 'input')\n",
    "        \n",
    "        # Note:conv_2d - http://tflearn.org/layers/conv/\n",
    "        #       The default padding will make output image size the same.\n",
    "        #       The default step size is 1.\n",
    "        #       max_pool_2d - http://tflearn.org/layers/conv/#max-pooling-2d\n",
    "        \n",
    "        # Note: Layer 1 CNN with 32 filters and 5*5 filter size. \n",
    "        #       Dimension: (?, 50, 50, 1) -> (?, 50, 50, 32) -> (?, 10, 10, 32)\n",
    "        cnn = conv_2d(cnn, 32, FILTER_SIZE, activation='relu')\n",
    "        cnn = max_pool_2d(cnn, FILTER_SIZE)\n",
    "        # Note: Layer 2 CNN with 64 filters and 5*5 filter size.\n",
    "        #       Dimension: (?, 10, 10, 32) -> (?, 10, 10, 64) -> (?, 2, 2, 64)\n",
    "        cnn = conv_2d(cnn, 64, FILTER_SIZE, activation='relu')\n",
    "        cnn = max_pool_2d(cnn, FILTER_SIZE)\n",
    "        # Note: Layer 3 CNN with 128 filters and 5*5 filter size.\n",
    "        #       Dimension: (?, 2, 2, 64) -> (?, 2, 2, 128) -> (?, 1, 1, 128)\n",
    "        cnn = conv_2d(cnn, 128, FILTER_SIZE, activation='relu')\n",
    "        cnn = max_pool_2d(cnn, FILTER_SIZE)      \n",
    "        # Note: Layer 4 CNN with 64 filters and 5*5 filter size.\n",
    "        #       Output: (?, 1, 1, 128) -> (?, 1, 1, 64) -> (?, 1, 1, 64)\n",
    "        cnn = conv_2d(cnn, 64, FILTER_SIZE, activation='relu')\n",
    "        cnn = max_pool_2d(cnn, FILTER_SIZE)               \n",
    "        # Note: Layer 5 CNN with 32 filters and 5*5 filter size.\n",
    "        #       Output: (?, 1, 1, 64) -> (?, 1, 1, 32) -> (?, 1, 1, 32)\n",
    "        cnn = conv_2d(cnn, 32, FILTER_SIZE, activation='relu')\n",
    "        cnn = max_pool_2d(cnn, FILTER_SIZE)\n",
    "        \n",
    "        # Note: Layer 6 Fully Connected\n",
    "        #       Output: (?, 1, 1, 32) -> (?, 1024)\n",
    "        cnn = fully_connected(cnn, 1024, activation = 'relu')\n",
    "        # Note: Layer 7 Dropout\n",
    "        cnn = dropout(cnn, 0.8)\n",
    "        # Note: Layer 8 Fully Connected\n",
    "        #       Output: (?, 1024) -> (?, 2)\n",
    "        cnn = fully_connected(cnn, 2, activation='softmax')\n",
    "        \n",
    "        # Note: Output\n",
    "        cnn = regression(cnn, optimizer='adam', learning_rate = LR, \\\n",
    "                         loss='categorical_crossentropy', name='targets')\n",
    "        model = tflearn.DNN(cnn, tensorboard_dir='log')\n",
    "        \n",
    "        return model\n",
    "        \n",
    "    def __load_training_validation(self, train_dataset, validation_portion=0.2):\n",
    "        num_of_obs = len(train_dataset)\n",
    "        cutoff = int(num_of_obs * (1 - validation_portion))\n",
    "        train, validation = train_dataset[:cutoff], train_dataset[cutoff:]\n",
    "        \n",
    "        x_train = np.array([i[0] for i in train], dtype=np.float64).reshape(-1, IMG_SIZE, IMG_SIZE, 1)\n",
    "        y_train = np.array([i[1] for i in train], dtype=np.float64)\n",
    "        x_val = np.array([i[0] for i in validation], dtype=np.float64).reshape(-1, IMG_SIZE, IMG_SIZE, 1)\n",
    "        y_val = np.array([i[1] for i in validation], dtype=np.float64)\n",
    "        return x_train, y_train, x_val, y_val"
   ]
  },
  {
   "cell_type": "markdown",
   "metadata": {
    "ExecuteTime": {
     "end_time": "2020-10-14T14:26:08.187906Z",
     "start_time": "2020-10-14T14:26:07.996807Z"
    }
   },
   "source": [
    "2.Train"
   ]
  },
  {
   "cell_type": "code",
   "execution_count": 16,
   "metadata": {
    "ExecuteTime": {
     "end_time": "2020-11-23T05:11:43.501810Z",
     "start_time": "2020-11-23T05:07:03.729566Z"
    }
   },
   "outputs": [
    {
     "name": "stdout",
     "output_type": "stream",
     "text": [
      "Training Step: 938  | total loss: \u001b[1m\u001b[32m0.49198\u001b[0m\u001b[0m | time: 77.418s\n",
      "| Adam | epoch: 003 | loss: 0.49198 - acc: 0.7621 -- iter: 19968/20000\n",
      "Training Step: 939  | total loss: \u001b[1m\u001b[32m0.50482\u001b[0m\u001b[0m | time: 81.938s\n",
      "| Adam | epoch: 003 | loss: 0.50482 - acc: 0.7577 | val_loss: 0.54041 - val_acc: 0.7184 -- iter: 20000/20000\n",
      "--\n"
     ]
    }
   ],
   "source": [
    "cnn = CNN()\n",
    "cnn.fit(train_dataset)"
   ]
  },
  {
   "cell_type": "markdown",
   "metadata": {
    "ExecuteTime": {
     "end_time": "2020-11-23T05:04:16.289652Z",
     "start_time": "2020-11-23T05:04:16.284056Z"
    }
   },
   "source": [
    "3.Predict"
   ]
  },
  {
   "cell_type": "code",
   "execution_count": 17,
   "metadata": {
    "ExecuteTime": {
     "end_time": "2020-11-23T05:11:43.526172Z",
     "start_time": "2020-11-23T05:11:43.508892Z"
    },
    "code_folding": [
     0
    ]
   },
   "outputs": [],
   "source": [
    "def predict_some_test_samples_and_show(test_dataset):\n",
    "    fig = plt.figure()\n",
    "    for num, data in enumerate(test_dataset[:16]):\n",
    "        img_data, img_num = data[0], data[1]\n",
    "        img_data = img_data.reshape(IMG_SIZE, IMG_SIZE, 1)\n",
    "        pred_prob = cnn.predict([img_data])[0]\n",
    "        pred_label = 'Dog' if np.argmax(pred_prob) == 1 else 'Cat'\n",
    "        \n",
    "        subplot = fig.add_subplot(4, 4, num+1)\n",
    "        subplot.imshow(img_data, cmap='gray')\n",
    "        plt.title(pred_label)\n",
    "        subplot.axes.get_xaxis().set_visible(False)\n",
    "        subplot.axes.get_yaxis().set_visible(False)\n",
    "    \n",
    "    plt.tight_layout()\n",
    "    plt.show()"
   ]
  },
  {
   "cell_type": "code",
   "execution_count": 18,
   "metadata": {
    "ExecuteTime": {
     "end_time": "2020-11-23T05:11:43.544121Z",
     "start_time": "2020-11-23T05:11:43.532096Z"
    },
    "code_folding": []
   },
   "outputs": [],
   "source": [
    "def predict_for_all_examples(test_dataset):\n",
    "    img_ids, img_labels = [], []\n",
    "    for sample in tqdm(test_dataset):\n",
    "        img_data, img_id = sample[0], sample[1]\n",
    "        img_data = img_data.reshape(IMG_SIZE, IMG_SIZE, 1)\n",
    "        pred_prob = cnn.predict([img_data])[0]\n",
    "        pred_label = 1 if np.argmax(pred_prob) == 1 else 0 # Note: 1=dog, 0=cat\n",
    "        img_ids.append(img_id)\n",
    "        img_labels.append(img_labels)\n",
    "    return pd.DataFrame({'id': img_ids, 'label': img_labels})"
   ]
  },
  {
   "cell_type": "code",
   "execution_count": 19,
   "metadata": {
    "ExecuteTime": {
     "end_time": "2020-11-23T05:11:44.815334Z",
     "start_time": "2020-11-23T05:11:43.549992Z"
    },
    "code_folding": []
   },
   "outputs": [
    {
     "data": {
      "image/png": "[encoded data removed]",
      "text/plain": [
       "<Figure size 432x288 with 16 Axes>"
      ]
     },
     "metadata": {
      "needs_background": "light"
     },
     "output_type": "display_data"
    }
   ],
   "source": [
    "predict_some_test_samples_and_show(test_dataset)"
   ]
  },
  {
   "cell_type": "code",
   "execution_count": null,
   "metadata": {},
   "outputs": [],
   "source": [
    "submission = predict_for_all_examples(test_dataset)\n",
    "submission.to_csv('submission.csv', index=False,header=True)"
   ]
  }
 ],
 "metadata": {
  "kernelspec": {
   "display_name": "Python 3",
   "language": "python",
   "name": "python3"
  },
  "language_info": {
   "codemirror_mode": {
    "name": "ipython",
    "version": 3
   },
   "file_extension": ".py",
   "mimetype": "text/x-python",
   "name": "python",
   "nbconvert_exporter": "python",
   "pygments_lexer": "ipython3",
   "version": "3.6.12"
  },
  "toc": {
   "base_numbering": 1,
   "nav_menu": {},
   "number_sections": true,
   "sideBar": true,
   "skip_h1_title": false,
   "title_cell": "Table of Contents",
   "title_sidebar": "Contents",
   "toc_cell": false,
   "toc_position": {},
   "toc_section_display": true,
   "toc_window_display": false
  },
  "varInspector": {
   "cols": {
    "lenName": 16,
    "lenType": 16,
    "lenVar": 40
   },
   "kernels_config": {
    "python": {
     "delete_cmd_postfix": "",
     "delete_cmd_prefix": "del ",
     "library": "var_list.py",
     "varRefreshCmd": "print(var_dic_list())"
    },
    "r": {
     "delete_cmd_postfix": ") ",
     "delete_cmd_prefix": "rm(",
     "library": "var_list.r",
     "varRefreshCmd": "cat(var_dic_list()) "
    }
   },
   "types_to_exclude": [
    "module",
    "function",
    "builtin_function_or_method",
    "instance",
    "_Feature"
   ],
   "window_display": false
  }
 },
 "nbformat": 4,
 "nbformat_minor": 4
}
