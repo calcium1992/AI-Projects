{
 "cells": [
  {
   "cell_type": "markdown",
   "metadata": {
    "ExecuteTime": {
     "end_time": "2020-10-17T02:58:27.534198Z",
     "start_time": "2020-10-17T02:58:26.418726Z"
    }
   },
   "source": [
    "Data: https://drive.google.com/file/d/1HneKy22aVGKYlSC8p4Cttd6-DKdFdY83/view?usp=sharing"
   ]
  },
  {
   "cell_type": "markdown",
   "metadata": {
    "ExecuteTime": {
     "end_time": "2020-12-29T22:54:13.823497Z",
     "start_time": "2020-12-29T22:54:13.819768Z"
    }
   },
   "source": [
    "Tutorial: https://github.com/jiuzhangjiangzuo/AICamp1.NLP"
   ]
  },
  {
   "cell_type": "code",
   "execution_count": 1,
   "metadata": {
    "ExecuteTime": {
     "end_time": "2021-01-14T20:04:14.848312Z",
     "start_time": "2021-01-14T20:04:14.646460Z"
    }
   },
   "outputs": [],
   "source": [
    "import numpy as np\n",
    "from tqdm import tqdm\n",
    "import warnings\n",
    "warnings.filterwarnings('ignore')"
   ]
  },
  {
   "cell_type": "code",
   "execution_count": 2,
   "metadata": {
    "ExecuteTime": {
     "end_time": "2021-01-14T20:04:14.853683Z",
     "start_time": "2021-01-14T20:04:14.851132Z"
    }
   },
   "outputs": [],
   "source": [
    "TRAIN_DIR = '/Users/songyihe/Documents/Study/AI_Projects/large-datasets/english-chinese/segmented_train_seg_by_word.txt'"
   ]
  },
  {
   "cell_type": "markdown",
   "metadata": {},
   "source": [
    "# Load Data"
   ]
  },
  {
   "cell_type": "code",
   "execution_count": 3,
   "metadata": {
    "ExecuteTime": {
     "end_time": "2021-01-14T20:05:17.642013Z",
     "start_time": "2021-01-14T20:04:14.856638Z"
    }
   },
   "outputs": [
    {
     "name": "stderr",
     "output_type": "stream",
     "text": [
      "20000000it [01:02, 318596.10it/s]\n"
     ]
    }
   ],
   "source": [
    "eng_lines, ch_lines = [], []\n",
    "with open(TRAIN_DIR) as file:\n",
    "    num_line = 0\n",
    "    for line in tqdm(file):\n",
    "        num_line += 1\n",
    "        if num_line % 2 == 1:\n",
    "            eng_line = [i.lower() for i in line.strip('\\n').split()]\n",
    "            continue\n",
    "        else:\n",
    "            ch_line = [i for i in line.strip('\\n').replace(' ', '')]\n",
    "            \n",
    "        if len(eng_line) <= 5 and len(ch_line) <= 5:\n",
    "            eng_lines.append(eng_line)\n",
    "            ch_lines.append(ch_line)"
   ]
  },
  {
   "cell_type": "code",
   "execution_count": 4,
   "metadata": {
    "ExecuteTime": {
     "end_time": "2021-01-14T20:05:17.646937Z",
     "start_time": "2021-01-14T20:05:17.643570Z"
    }
   },
   "outputs": [
    {
     "name": "stdout",
     "output_type": "stream",
     "text": [
      "English Lines: 103912\n",
      "Chinese Lines: 103912\n"
     ]
    }
   ],
   "source": [
    "print(f'English Lines: {len(eng_lines)}')\n",
    "print(f'Chinese Lines: {len(ch_lines)}')"
   ]
  },
  {
   "cell_type": "code",
   "execution_count": 5,
   "metadata": {
    "ExecuteTime": {
     "end_time": "2021-01-14T20:05:17.651872Z",
     "start_time": "2021-01-14T20:05:17.649010Z"
    }
   },
   "outputs": [
    {
     "name": "stdout",
     "output_type": "stream",
     "text": [
      "['deuces', 'the', 'winner', '.']\n",
      "['一', '对', '二', '胜', '。']\n"
     ]
    }
   ],
   "source": [
    "print(eng_lines[0])\n",
    "print(ch_lines[0])"
   ]
  },
  {
   "cell_type": "markdown",
   "metadata": {},
   "source": [
    "# Build Vocab"
   ]
  },
  {
   "cell_type": "code",
   "execution_count": 6,
   "metadata": {
    "ExecuteTime": {
     "end_time": "2021-01-14T20:05:17.656680Z",
     "start_time": "2021-01-14T20:05:17.654058Z"
    }
   },
   "outputs": [],
   "source": [
    "from collections import Counter"
   ]
  },
  {
   "cell_type": "code",
   "execution_count": 7,
   "metadata": {
    "ExecuteTime": {
     "end_time": "2021-01-14T20:05:17.831585Z",
     "start_time": "2021-01-14T20:05:17.662092Z"
    }
   },
   "outputs": [],
   "source": [
    "eng_vocab, ch_vocab = [], []\n",
    "\n",
    "for sentence in eng_lines:\n",
    "    for word in sentence:\n",
    "        eng_vocab.append(word)\n",
    "        \n",
    "for sentence in ch_lines:\n",
    "    for word in sentence:\n",
    "        ch_vocab.append(word)"
   ]
  },
  {
   "cell_type": "code",
   "execution_count": 8,
   "metadata": {
    "ExecuteTime": {
     "end_time": "2021-01-14T20:05:17.950888Z",
     "start_time": "2021-01-14T20:05:17.835208Z"
    }
   },
   "outputs": [
    {
     "name": "stdout",
     "output_type": "stream",
     "text": [
      "Most Common English Word: [('.', 49461), ('?', 14511), ('the', 10472), ('i', 10013), (',', 9489), ('!', 8807), ('you', 7493), ('a', 6860), (\"'\", 5555), ('it', 5524)]\n",
      "Most Common Chinese Word: [('。', 44900), ('我', 15087), ('？', 14454), ('你', 9087), ('！', 8915), ('了', 8663), ('的', 8053), ('，', 7291), ('一', 6091), ('是', 5946)]\n"
     ]
    }
   ],
   "source": [
    "print(f'Most Common English Word: {Counter(eng_vocab).most_common(10)}')\n",
    "print(f'Most Common Chinese Word: {Counter(ch_vocab).most_common(10)}')"
   ]
  },
  {
   "cell_type": "code",
   "execution_count": 9,
   "metadata": {
    "ExecuteTime": {
     "end_time": "2021-01-14T20:05:17.956551Z",
     "start_time": "2021-01-14T20:05:17.953075Z"
    }
   },
   "outputs": [],
   "source": [
    "def add_word_to_dict(word2idx, idx2word, word):\n",
    "    if word in word2idx:\n",
    "        return\n",
    "    index = len(word2idx)\n",
    "    word2idx[word] = index\n",
    "    idx2word[index] = word"
   ]
  },
  {
   "cell_type": "code",
   "execution_count": 10,
   "metadata": {
    "ExecuteTime": {
     "end_time": "2021-01-14T20:05:18.031157Z",
     "start_time": "2021-01-14T20:05:17.958671Z"
    }
   },
   "outputs": [],
   "source": [
    "spec_words = ['<eos>','<start>','<end>','<unk>']\n",
    "eng_word2idx, eng_idx2word, ch_word2idx, ch_idx2word = {}, {}, {}, {}\n",
    "\n",
    "for word in spec_words:\n",
    "    add_word_to_dict(eng_word2idx, eng_idx2word, word)\n",
    "    add_word_to_dict(ch_word2idx, ch_idx2word, word)\n",
    "    \n",
    "for word in set(eng_vocab):\n",
    "    add_word_to_dict(eng_word2idx, eng_idx2word, word)\n",
    "    \n",
    "for word in set(ch_vocab):\n",
    "    add_word_to_dict(ch_word2idx, ch_idx2word, word)"
   ]
  },
  {
   "cell_type": "code",
   "execution_count": 11,
   "metadata": {
    "ExecuteTime": {
     "end_time": "2021-01-14T20:05:18.038603Z",
     "start_time": "2021-01-14T20:05:18.034074Z"
    }
   },
   "outputs": [
    {
     "name": "stdout",
     "output_type": "stream",
     "text": [
      "Size of English Dict: 21743\n",
      "Size of Chinese Dict: 4058\n"
     ]
    }
   ],
   "source": [
    "print(f'Size of English Dict: {len(eng_word2idx)}')\n",
    "print(f'Size of Chinese Dict: {len(ch_word2idx)}')"
   ]
  },
  {
   "cell_type": "markdown",
   "metadata": {},
   "source": [
    "# Prepare Data"
   ]
  },
  {
   "cell_type": "code",
   "execution_count": 43,
   "metadata": {
    "ExecuteTime": {
     "end_time": "2021-01-14T20:13:13.332083Z",
     "start_time": "2021-01-14T20:13:12.665585Z"
    }
   },
   "outputs": [],
   "source": [
    "data_x_in, data_y_in, data_y_out = [], [], []\n",
    "data_x_len, data_y_len = [], []\n",
    "\n",
    "for eng_line in eng_lines:\n",
    "    indices = [eng_word2idx.get(word, eng_word2idx['<unk>'])for word in eng_line] + [eng_word2idx['<eos>']]\n",
    "    data_x_in.append(indices)\n",
    "    data_x_len.append(len(indices))\n",
    "    \n",
    "for ch_line in ch_lines:\n",
    "    indices = [ch_word2idx.get(word, ch_word2idx['<unk>'])for word in ch_line]\n",
    "    data_y_in.append([ch_word2idx['<start>']] + indices)\n",
    "    data_y_out.append(indices + [ch_word2idx['<eos>']])\n",
    "    data_y_len.append(len(indices) + 1)"
   ]
  },
  {
   "cell_type": "code",
   "execution_count": 44,
   "metadata": {
    "ExecuteTime": {
     "end_time": "2021-01-14T20:13:13.903796Z",
     "start_time": "2021-01-14T20:13:13.896316Z"
    }
   },
   "outputs": [
    {
     "name": "stdout",
     "output_type": "stream",
     "text": [
      "['deuces', 'the', 'winner', '.', '<eos>']\n",
      "['<start>', '一', '对', '二', '胜', '。']\n",
      "['一', '对', '二', '胜', '。', '<eos>']\n"
     ]
    }
   ],
   "source": [
    "print([eng_idx2word[idx] for idx in data_x_in[0]])\n",
    "print([ch_idx2word[idx] for idx in data_y_in[0]])\n",
    "print([ch_idx2word[idx] for idx in data_y_out[0]])"
   ]
  },
  {
   "cell_type": "code",
   "execution_count": 45,
   "metadata": {
    "ExecuteTime": {
     "end_time": "2021-01-14T20:13:16.947382Z",
     "start_time": "2021-01-14T20:13:16.943061Z"
    }
   },
   "outputs": [],
   "source": [
    "import tensorflow.compat.v1 as tf"
   ]
  },
  {
   "cell_type": "code",
   "execution_count": 47,
   "metadata": {
    "ExecuteTime": {
     "end_time": "2021-01-14T20:13:35.162694Z",
     "start_time": "2021-01-14T20:13:33.987348Z"
    }
   },
   "outputs": [],
   "source": [
    "data_x_in_pad = tf.keras.preprocessing.sequence.pad_sequences(data_x_in, padding='post', value=eng_word2idx['<eos>'])\n",
    "data_y_in_pad = tf.keras.preprocessing.sequence.pad_sequences(data_y_in, padding='post', value=eng_word2idx['<end>'])\n",
    "data_y_out_pad = tf.keras.preprocessing.sequence.pad_sequences(data_y_out, padding='post', value=eng_word2idx['<end>'])\n",
    "\n",
    "data_x_len = np.asarray(data_x_len)\n",
    "data_y_len = np.asarray(data_y_len)"
   ]
  },
  {
   "cell_type": "code",
   "execution_count": 48,
   "metadata": {
    "ExecuteTime": {
     "end_time": "2021-01-14T20:13:42.703027Z",
     "start_time": "2021-01-14T20:13:42.697085Z"
    }
   },
   "outputs": [
    {
     "name": "stdout",
     "output_type": "stream",
     "text": [
      "data_x_in_pad shape: (103912, 6)\n",
      "data_y_in_pad shape: (103912, 6)\n",
      "data_y_out_pad shape: (103912, 6)\n",
      "data_x_len shape: (103912,)\n",
      "data_y_len shape: (103912,)\n"
     ]
    }
   ],
   "source": [
    "print(f'data_x_in_pad shape: {data_x_in_pad.shape}')\n",
    "print(f'data_y_in_pad shape: {data_y_in_pad.shape}')\n",
    "print(f'data_y_out_pad shape: {data_y_out_pad.shape}')\n",
    "print(f'data_x_len shape: {data_x_len.shape}')\n",
    "print(f'data_y_len shape: {data_y_len.shape}')"
   ]
  },
  {
   "cell_type": "markdown",
   "metadata": {},
   "source": [
    "# Model"
   ]
  },
  {
   "cell_type": "code",
   "execution_count": 49,
   "metadata": {
    "ExecuteTime": {
     "end_time": "2021-01-14T20:13:51.012405Z",
     "start_time": "2021-01-14T20:13:51.006950Z"
    }
   },
   "outputs": [],
   "source": [
    "import tensorflow.compat.v1 as tf\n",
    "import tensorflow_addons as tfa\n",
    "from tensorflow.python.layers import core as layers_core"
   ]
  },
  {
   "cell_type": "code",
   "execution_count": 50,
   "metadata": {
    "ExecuteTime": {
     "end_time": "2021-01-14T20:13:51.209424Z",
     "start_time": "2021-01-14T20:13:51.175791Z"
    }
   },
   "outputs": [
    {
     "name": "stdout",
     "output_type": "stream",
     "text": [
      "Device mapping: no known devices.\n"
     ]
    }
   ],
   "source": [
    "tf.reset_default_graph()\n",
    "tf.disable_eager_execution()\n",
    "config = tf.ConfigProto(log_device_placement=True,allow_soft_placement = True)\n",
    "session = tf.Session(config=config)"
   ]
  },
  {
   "cell_type": "code",
   "execution_count": 51,
   "metadata": {
    "ExecuteTime": {
     "end_time": "2021-01-14T20:13:51.344699Z",
     "start_time": "2021-01-14T20:13:51.341483Z"
    }
   },
   "outputs": [],
   "source": [
    "embedding_size = 512   #word embedding vector length\n",
    "num_units = 512        #hidden layer size\n",
    "batch_size = 128\n",
    "max_grad = 1.0         #L2裁剪的c\n",
    "dropout = 0.2\n",
    "src_vocab_size = len(eng_word2idx)\n",
    "target_vocat_size = len(ch_word2idx)\n",
    "seq_max_len = 5 + 1\n",
    "maximum_iterations = 10  #预测长度超过10时终结"
   ]
  },
  {
   "cell_type": "code",
   "execution_count": 52,
   "metadata": {
    "ExecuteTime": {
     "end_time": "2021-01-14T20:13:53.006875Z",
     "start_time": "2021-01-14T20:13:52.307424Z"
    }
   },
   "outputs": [
    {
     "name": "stdout",
     "output_type": "stream",
     "text": [
      "ERROR:tensorflow:==================================\n",
      "Object was never used (type <class 'tensorflow.python.framework.ops.Operation'>):\n",
      "<tf.Operation 'decode_layer_1/decoder/assert_greater/Assert/Assert' type=Assert>\n",
      "If you want to mark it as used call its \"mark_used()\" method.\n",
      "It was originally created here:\n",
      "  File \"/Users/songyihe/opt/anaconda3/envs/ai_camp/lib/python3.6/site-packages/tensorflow/python/util/dispatch.py\", line 201, in wrapper\n",
      "    return target(*args, **kwargs)  File \"/Users/songyihe/opt/anaconda3/envs/ai_camp/lib/python3.6/site-packages/tensorflow/python/ops/check_ops.py\", line 992, in assert_greater\n",
      "    y, data, summarize, message, name)  File \"/Users/songyihe/opt/anaconda3/envs/ai_camp/lib/python3.6/site-packages/tensorflow/python/ops/check_ops.py\", line 373, in _binary_assert\n",
      "    return control_flow_ops.Assert(condition, data, summarize=summarize)  File \"/Users/songyihe/opt/anaconda3/envs/ai_camp/lib/python3.6/site-packages/tensorflow/python/util/dispatch.py\", line 201, in wrapper\n",
      "    return target(*args, **kwargs)  File \"/Users/songyihe/opt/anaconda3/envs/ai_camp/lib/python3.6/site-packages/tensorflow/python/util/tf_should_use.py\", line 249, in wrapped\n",
      "    error_in_function=error_in_function)\n",
      "==================================\n"
     ]
    }
   ],
   "source": [
    "with tf.device('/cpu:0'):\n",
    "    initializer = tf.random_uniform_initializer(-0.08, 0.08)\n",
    "    tf.get_variable_scope().set_initializer(initializer)\n",
    "    \n",
    "    x = tf.placeholder(\"int32\", [None, None])\n",
    "    y = tf.placeholder(\"int32\", [None, None])\n",
    "    y_in = tf.placeholder(\"int32\",[None,None]) #decoder的输入\n",
    "    \n",
    "    x_len = tf.placeholder(\"int32\",[None])\n",
    "    y_len = tf.placeholder(\"int32\",[None])\n",
    "    learning_rate = tf.placeholder(tf.float32, shape=[])\n",
    "    \n",
    "    # embedding\n",
    "    embedding_encoder = tf.get_variable(\n",
    "        \"embedding_encoder\", [src_vocab_size, embedding_size],dtype=tf.float32)\n",
    "    embedding_decoder = tf.get_variable(\n",
    "        \"embedding_decoder\", [target_vocat_size, embedding_size],dtype=tf.float32)\n",
    "    \n",
    "    encoder_emb_inp = tf.nn.embedding_lookup(\n",
    "        embedding_encoder, x)\n",
    "    decoder_emb_inp = tf.nn.embedding_lookup(\n",
    "        embedding_decoder, y_in)\n",
    "    \n",
    "    # ====== Encoder 与上节课一致 =======\n",
    "    \n",
    "    # Build RNN cell\n",
    "    encoder_cell = tf.nn.rnn_cell.BasicLSTMCell(num_units)\n",
    "\n",
    "    # Run Dynamic RNN\n",
    "    #   encoder_outputs: [max_time, batch_size, num_units]\n",
    "    #   encoder_state: [batch_size, num_units]\n",
    "    encoder_outputs, encoder_state = tf.nn.dynamic_rnn(\n",
    "        encoder_cell, encoder_emb_inp,\n",
    "        sequence_length=x_len, time_major=False,dtype=tf.float32)\n",
    "        \n",
    "    # ====== decoder 在training和predict有两套结构，在tensorflow中使用variable reuse来解决 =======\n",
    "    # Variable reuse: 用with statement构建特定scope下的代码块，如果scope string相同，variable可以设置为复用\n",
    "    \n",
    "    batch_size_in = tf.shape(x)[0]\n",
    "    projection_layer = layers_core.Dense(\n",
    "        len(ch_word2idx), use_bias=False)\n",
    "    \n",
    "    # Dynamic decoding\n",
    "    with tf.variable_scope(\"decode_layer\"):\n",
    "        # Build RNN cell\n",
    "        decoder_cell = tf.nn.rnn_cell.BasicLSTMCell(num_units)\n",
    "        \n",
    "        # 在tensorflow中要实现ppt图示的training结构，需要用到training sampler和dynamic decode两个结构\n",
    "        \n",
    "        # Sampler\n",
    "        sampler = tfa.seq2seq.TrainingSampler(time_major=False) #y_len告诉需要解码多少个时间片\n",
    "        sampler.initialize(decoder_emb_inp, y_len)\n",
    "        # Decoder\n",
    "        decoder = tfa.seq2seq.BasicDecoder(decoder_cell, sampler, output_layer=projection_layer)\n",
    "        # Dynamic decoding\n",
    "        outputs, _, _ = tfa.seq2seq.dynamic_decode(\n",
    "            decoder,\n",
    "            decoder_init_input = decoder_emb_inp,\n",
    "            decoder_init_kwargs= {\n",
    "                'initial_state' : encoder_state,\n",
    "                'sequence_length': y_len\n",
    "            }\n",
    "        )\n",
    "        logits = outputs.rnn_output\n",
    "        target_weights = tf.sequence_mask( #把不必要的softmax loss给mask掉\n",
    "            y_len, seq_max_len, dtype=logits.dtype)\n",
    "    \n",
    "    # predicting\n",
    "    # Sampler 该用greedy embedding sampler\n",
    "    with tf.variable_scope(\"decode_layer\", reuse=True):\n",
    "        # Sampler\n",
    "        sampler = tfa.seq2seq.GreedyEmbeddingSampler()\n",
    "        # Decoder\n",
    "        decoder = tfa.seq2seq.BasicDecoder(decoder_cell, sampler, output_layer=projection_layer)       \n",
    "        # Dynamic decoding\n",
    "        outputs, _ , __= tfa.seq2seq.dynamic_decode(\n",
    "            decoder, maximum_iterations=maximum_iterations, \n",
    "            decoder_init_input = embedding_decoder,\n",
    "            decoder_init_kwargs= {\n",
    "                'initial_state' : encoder_state,\n",
    "                'start_tokens': tf.fill([batch_size_in], ch_word2idx['<start>']), 'end_token': ch_word2idx['<end>']\n",
    "            }\n",
    "        )\n",
    "        translations = outputs.sample_id\n",
    "        \n",
    "\n",
    "    # calculate loss\n",
    "    crossent = tf.nn.sparse_softmax_cross_entropy_with_logits(\n",
    "        labels=y, logits=logits)\n",
    "    train_loss = (tf.reduce_sum(crossent * target_weights) /\n",
    "        tf.cast(batch_size_in,tf.float32))\n",
    "    \n",
    "    optimizer_ori = tf.train.GradientDescentOptimizer(learning_rate=learning_rate)\n",
    "    trainable_params = tf.trainable_variables()\n",
    "    gradients = tf.gradients(train_loss, trainable_params)\n",
    "    # Gradient Clip\n",
    "    clip_gradients, _ = tf.clip_by_global_norm(gradients, max_grad)\n",
    "    global_step = tf.Variable(0, trainable=False, name='global_step')\n",
    "    optimizer = optimizer_ori.apply_gradients(\n",
    "            zip(clip_gradients, trainable_params), global_step=global_step)"
   ]
  },
  {
   "cell_type": "code",
   "execution_count": 53,
   "metadata": {
    "ExecuteTime": {
     "end_time": "2021-01-14T20:13:54.793546Z",
     "start_time": "2021-01-14T20:13:54.559646Z"
    }
   },
   "outputs": [],
   "source": [
    "session.run(tf.global_variables_initializer())"
   ]
  },
  {
   "cell_type": "code",
   "execution_count": 56,
   "metadata": {
    "ExecuteTime": {
     "end_time": "2021-01-14T20:15:00.393127Z",
     "start_time": "2021-01-14T20:14:45.663602Z"
    }
   },
   "outputs": [
    {
     "name": "stderr",
     "output_type": "stream",
     "text": [
      "  5%|▌         | 42/812 [00:14<04:28,  2.86it/s]\n"
     ]
    },
    {
     "ename": "KeyboardInterrupt",
     "evalue": "",
     "output_type": "error",
     "traceback": [
      "\u001b[0;31m---------------------------------------------------------------------------\u001b[0m",
      "\u001b[0;31mKeyboardInterrupt\u001b[0m                         Traceback (most recent call last)",
      "\u001b[0;32m<ipython-input-56-aab1f9431756>\u001b[0m in \u001b[0;36m<module>\u001b[0;34m\u001b[0m\n\u001b[1;32m     18\u001b[0m             \u001b[0mx_len\u001b[0m\u001b[0;34m:\u001b[0m\u001b[0mdata_x_len\u001b[0m\u001b[0;34m[\u001b[0m\u001b[0mbatchindex\u001b[0m\u001b[0;34m]\u001b[0m\u001b[0;34m,\u001b[0m\u001b[0;34m\u001b[0m\u001b[0;34m\u001b[0m\u001b[0m\n\u001b[1;32m     19\u001b[0m             \u001b[0my_len\u001b[0m\u001b[0;34m:\u001b[0m\u001b[0mdata_y_len\u001b[0m\u001b[0;34m[\u001b[0m\u001b[0mbatchindex\u001b[0m\u001b[0;34m]\u001b[0m\u001b[0;34m,\u001b[0m\u001b[0;34m\u001b[0m\u001b[0;34m\u001b[0m\u001b[0m\n\u001b[0;32m---> 20\u001b[0;31m             \u001b[0mlearning_rate\u001b[0m\u001b[0;34m:\u001b[0m\u001b[0mbatch_lr\u001b[0m\u001b[0;34m,\u001b[0m\u001b[0;34m\u001b[0m\u001b[0;34m\u001b[0m\u001b[0m\n\u001b[0m\u001b[1;32m     21\u001b[0m         })\n\u001b[1;32m     22\u001b[0m         \u001b[0mlosses\u001b[0m\u001b[0;34m.\u001b[0m\u001b[0mappend\u001b[0m\u001b[0;34m(\u001b[0m\u001b[0mbatch_loss\u001b[0m\u001b[0;34m)\u001b[0m\u001b[0;34m\u001b[0m\u001b[0;34m\u001b[0m\u001b[0m\n",
      "\u001b[0;32m~/opt/anaconda3/envs/ai_camp/lib/python3.6/site-packages/tensorflow/python/client/session.py\u001b[0m in \u001b[0;36mrun\u001b[0;34m(self, fetches, feed_dict, options, run_metadata)\u001b[0m\n\u001b[1;32m    966\u001b[0m     \u001b[0;32mtry\u001b[0m\u001b[0;34m:\u001b[0m\u001b[0;34m\u001b[0m\u001b[0;34m\u001b[0m\u001b[0m\n\u001b[1;32m    967\u001b[0m       result = self._run(None, fetches, feed_dict, options_ptr,\n\u001b[0;32m--> 968\u001b[0;31m                          run_metadata_ptr)\n\u001b[0m\u001b[1;32m    969\u001b[0m       \u001b[0;32mif\u001b[0m \u001b[0mrun_metadata\u001b[0m\u001b[0;34m:\u001b[0m\u001b[0;34m\u001b[0m\u001b[0;34m\u001b[0m\u001b[0m\n\u001b[1;32m    970\u001b[0m         \u001b[0mproto_data\u001b[0m \u001b[0;34m=\u001b[0m \u001b[0mtf_session\u001b[0m\u001b[0;34m.\u001b[0m\u001b[0mTF_GetBuffer\u001b[0m\u001b[0;34m(\u001b[0m\u001b[0mrun_metadata_ptr\u001b[0m\u001b[0;34m)\u001b[0m\u001b[0;34m\u001b[0m\u001b[0;34m\u001b[0m\u001b[0m\n",
      "\u001b[0;32m~/opt/anaconda3/envs/ai_camp/lib/python3.6/site-packages/tensorflow/python/client/session.py\u001b[0m in \u001b[0;36m_run\u001b[0;34m(self, handle, fetches, feed_dict, options, run_metadata)\u001b[0m\n\u001b[1;32m   1189\u001b[0m     \u001b[0;32mif\u001b[0m \u001b[0mfinal_fetches\u001b[0m \u001b[0;32mor\u001b[0m \u001b[0mfinal_targets\u001b[0m \u001b[0;32mor\u001b[0m \u001b[0;34m(\u001b[0m\u001b[0mhandle\u001b[0m \u001b[0;32mand\u001b[0m \u001b[0mfeed_dict_tensor\u001b[0m\u001b[0;34m)\u001b[0m\u001b[0;34m:\u001b[0m\u001b[0;34m\u001b[0m\u001b[0;34m\u001b[0m\u001b[0m\n\u001b[1;32m   1190\u001b[0m       results = self._do_run(handle, final_targets, final_fetches,\n\u001b[0;32m-> 1191\u001b[0;31m                              feed_dict_tensor, options, run_metadata)\n\u001b[0m\u001b[1;32m   1192\u001b[0m     \u001b[0;32melse\u001b[0m\u001b[0;34m:\u001b[0m\u001b[0;34m\u001b[0m\u001b[0;34m\u001b[0m\u001b[0m\n\u001b[1;32m   1193\u001b[0m       \u001b[0mresults\u001b[0m \u001b[0;34m=\u001b[0m \u001b[0;34m[\u001b[0m\u001b[0;34m]\u001b[0m\u001b[0;34m\u001b[0m\u001b[0;34m\u001b[0m\u001b[0m\n",
      "\u001b[0;32m~/opt/anaconda3/envs/ai_camp/lib/python3.6/site-packages/tensorflow/python/client/session.py\u001b[0m in \u001b[0;36m_do_run\u001b[0;34m(self, handle, target_list, fetch_list, feed_dict, options, run_metadata)\u001b[0m\n\u001b[1;32m   1367\u001b[0m     \u001b[0;32mif\u001b[0m \u001b[0mhandle\u001b[0m \u001b[0;32mis\u001b[0m \u001b[0;32mNone\u001b[0m\u001b[0;34m:\u001b[0m\u001b[0;34m\u001b[0m\u001b[0;34m\u001b[0m\u001b[0m\n\u001b[1;32m   1368\u001b[0m       return self._do_call(_run_fn, feeds, fetches, targets, options,\n\u001b[0;32m-> 1369\u001b[0;31m                            run_metadata)\n\u001b[0m\u001b[1;32m   1370\u001b[0m     \u001b[0;32melse\u001b[0m\u001b[0;34m:\u001b[0m\u001b[0;34m\u001b[0m\u001b[0;34m\u001b[0m\u001b[0m\n\u001b[1;32m   1371\u001b[0m       \u001b[0;32mreturn\u001b[0m \u001b[0mself\u001b[0m\u001b[0;34m.\u001b[0m\u001b[0m_do_call\u001b[0m\u001b[0;34m(\u001b[0m\u001b[0m_prun_fn\u001b[0m\u001b[0;34m,\u001b[0m \u001b[0mhandle\u001b[0m\u001b[0;34m,\u001b[0m \u001b[0mfeeds\u001b[0m\u001b[0;34m,\u001b[0m \u001b[0mfetches\u001b[0m\u001b[0;34m)\u001b[0m\u001b[0;34m\u001b[0m\u001b[0;34m\u001b[0m\u001b[0m\n",
      "\u001b[0;32m~/opt/anaconda3/envs/ai_camp/lib/python3.6/site-packages/tensorflow/python/client/session.py\u001b[0m in \u001b[0;36m_do_call\u001b[0;34m(self, fn, *args)\u001b[0m\n\u001b[1;32m   1373\u001b[0m   \u001b[0;32mdef\u001b[0m \u001b[0m_do_call\u001b[0m\u001b[0;34m(\u001b[0m\u001b[0mself\u001b[0m\u001b[0;34m,\u001b[0m \u001b[0mfn\u001b[0m\u001b[0;34m,\u001b[0m \u001b[0;34m*\u001b[0m\u001b[0margs\u001b[0m\u001b[0;34m)\u001b[0m\u001b[0;34m:\u001b[0m\u001b[0;34m\u001b[0m\u001b[0;34m\u001b[0m\u001b[0m\n\u001b[1;32m   1374\u001b[0m     \u001b[0;32mtry\u001b[0m\u001b[0;34m:\u001b[0m\u001b[0;34m\u001b[0m\u001b[0;34m\u001b[0m\u001b[0m\n\u001b[0;32m-> 1375\u001b[0;31m       \u001b[0;32mreturn\u001b[0m \u001b[0mfn\u001b[0m\u001b[0;34m(\u001b[0m\u001b[0;34m*\u001b[0m\u001b[0margs\u001b[0m\u001b[0;34m)\u001b[0m\u001b[0;34m\u001b[0m\u001b[0;34m\u001b[0m\u001b[0m\n\u001b[0m\u001b[1;32m   1376\u001b[0m     \u001b[0;32mexcept\u001b[0m \u001b[0merrors\u001b[0m\u001b[0;34m.\u001b[0m\u001b[0mOpError\u001b[0m \u001b[0;32mas\u001b[0m \u001b[0me\u001b[0m\u001b[0;34m:\u001b[0m\u001b[0;34m\u001b[0m\u001b[0;34m\u001b[0m\u001b[0m\n\u001b[1;32m   1377\u001b[0m       \u001b[0mmessage\u001b[0m \u001b[0;34m=\u001b[0m \u001b[0mcompat\u001b[0m\u001b[0;34m.\u001b[0m\u001b[0mas_text\u001b[0m\u001b[0;34m(\u001b[0m\u001b[0me\u001b[0m\u001b[0;34m.\u001b[0m\u001b[0mmessage\u001b[0m\u001b[0;34m)\u001b[0m\u001b[0;34m\u001b[0m\u001b[0;34m\u001b[0m\u001b[0m\n",
      "\u001b[0;32m~/opt/anaconda3/envs/ai_camp/lib/python3.6/site-packages/tensorflow/python/client/session.py\u001b[0m in \u001b[0;36m_run_fn\u001b[0;34m(feed_dict, fetch_list, target_list, options, run_metadata)\u001b[0m\n\u001b[1;32m   1358\u001b[0m       \u001b[0mself\u001b[0m\u001b[0;34m.\u001b[0m\u001b[0m_extend_graph\u001b[0m\u001b[0;34m(\u001b[0m\u001b[0;34m)\u001b[0m\u001b[0;34m\u001b[0m\u001b[0;34m\u001b[0m\u001b[0m\n\u001b[1;32m   1359\u001b[0m       return self._call_tf_sessionrun(options, feed_dict, fetch_list,\n\u001b[0;32m-> 1360\u001b[0;31m                                       target_list, run_metadata)\n\u001b[0m\u001b[1;32m   1361\u001b[0m \u001b[0;34m\u001b[0m\u001b[0m\n\u001b[1;32m   1362\u001b[0m     \u001b[0;32mdef\u001b[0m \u001b[0m_prun_fn\u001b[0m\u001b[0;34m(\u001b[0m\u001b[0mhandle\u001b[0m\u001b[0;34m,\u001b[0m \u001b[0mfeed_dict\u001b[0m\u001b[0;34m,\u001b[0m \u001b[0mfetch_list\u001b[0m\u001b[0;34m)\u001b[0m\u001b[0;34m:\u001b[0m\u001b[0;34m\u001b[0m\u001b[0;34m\u001b[0m\u001b[0m\n",
      "\u001b[0;32m~/opt/anaconda3/envs/ai_camp/lib/python3.6/site-packages/tensorflow/python/client/session.py\u001b[0m in \u001b[0;36m_call_tf_sessionrun\u001b[0;34m(self, options, feed_dict, fetch_list, target_list, run_metadata)\u001b[0m\n\u001b[1;32m   1451\u001b[0m     return tf_session.TF_SessionRun_wrapper(self._session, options, feed_dict,\n\u001b[1;32m   1452\u001b[0m                                             \u001b[0mfetch_list\u001b[0m\u001b[0;34m,\u001b[0m \u001b[0mtarget_list\u001b[0m\u001b[0;34m,\u001b[0m\u001b[0;34m\u001b[0m\u001b[0;34m\u001b[0m\u001b[0m\n\u001b[0;32m-> 1453\u001b[0;31m                                             run_metadata)\n\u001b[0m\u001b[1;32m   1454\u001b[0m \u001b[0;34m\u001b[0m\u001b[0m\n\u001b[1;32m   1455\u001b[0m   \u001b[0;32mdef\u001b[0m \u001b[0m_call_tf_sessionprun\u001b[0m\u001b[0;34m(\u001b[0m\u001b[0mself\u001b[0m\u001b[0;34m,\u001b[0m \u001b[0mhandle\u001b[0m\u001b[0;34m,\u001b[0m \u001b[0mfeed_dict\u001b[0m\u001b[0;34m,\u001b[0m \u001b[0mfetch_list\u001b[0m\u001b[0;34m)\u001b[0m\u001b[0;34m:\u001b[0m\u001b[0;34m\u001b[0m\u001b[0;34m\u001b[0m\u001b[0m\n",
      "\u001b[0;31mKeyboardInterrupt\u001b[0m: "
     ]
    }
   ],
   "source": [
    "losses = []\n",
    "beginning_lr = 4\n",
    "max_epoch = 2\n",
    "for one_epoch in range(0, max_epoch):\n",
    "    index = np.asarray(list(range(len(data_x_in_pad))))\n",
    "    np.random.shuffle(index)\n",
    "    for i in tqdm(range(0,len(index), batch_size)):\n",
    "        batchindex = index[i:i + batch_size]\n",
    "        \n",
    "        batch_lr = beginning_lr if one_epoch < 20 else beginning_lr * 0.5 ** (one_epoch - 20)\n",
    "        if len(batchindex) < batch_size:\n",
    "            break\n",
    "        _,batch_loss = session.run([optimizer,train_loss],feed_dict={\n",
    "            x:data_x_in_pad[batchindex],\n",
    "            y:data_y_out_pad[batchindex],\n",
    "            y_in:data_y_in_pad[batchindex],\n",
    "\n",
    "            x_len:data_x_len[batchindex],\n",
    "            y_len:data_y_len[batchindex],\n",
    "            learning_rate:batch_lr,\n",
    "        })\n",
    "        losses.append(batch_loss)"
   ]
  },
  {
   "cell_type": "code",
   "execution_count": null,
   "metadata": {},
   "outputs": [],
   "source": []
  }
 ],
 "metadata": {
  "kernelspec": {
   "display_name": "Python 3",
   "language": "python",
   "name": "python3"
  },
  "language_info": {
   "codemirror_mode": {
    "name": "ipython",
    "version": 3
   },
   "file_extension": ".py",
   "mimetype": "text/x-python",
   "name": "python",
   "nbconvert_exporter": "python",
   "pygments_lexer": "ipython3",
   "version": "3.6.12"
  },
  "toc": {
   "base_numbering": 1,
   "nav_menu": {},
   "number_sections": true,
   "sideBar": true,
   "skip_h1_title": false,
   "title_cell": "Table of Contents",
   "title_sidebar": "Contents",
   "toc_cell": false,
   "toc_position": {},
   "toc_section_display": true,
   "toc_window_display": false
  },
  "varInspector": {
   "cols": {
    "lenName": 16,
    "lenType": 16,
    "lenVar": 40
   },
   "kernels_config": {
    "python": {
     "delete_cmd_postfix": "",
     "delete_cmd_prefix": "del ",
     "library": "var_list.py",
     "varRefreshCmd": "print(var_dic_list())"
    },
    "r": {
     "delete_cmd_postfix": ") ",
     "delete_cmd_prefix": "rm(",
     "library": "var_list.r",
     "varRefreshCmd": "cat(var_dic_list()) "
    }
   },
   "types_to_exclude": [
    "module",
    "function",
    "builtin_function_or_method",
    "instance",
    "_Feature"
   ],
   "window_display": false
  }
 },
 "nbformat": 4,
 "nbformat_minor": 4
}
