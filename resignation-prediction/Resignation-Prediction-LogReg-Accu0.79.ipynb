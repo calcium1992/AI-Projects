{
 "cells": [
  {
   "cell_type": "markdown",
   "metadata": {},
   "source": [
    "Kaggle: https://www.kaggle.com/jiangzuo/hr-comma-sep"
   ]
  },
  {
   "cell_type": "markdown",
   "metadata": {},
   "source": [
    "Tutorial 1: https://www.kaggle.com/jiuzhang/ai-camp-logistic-regression-optimization"
   ]
  },
  {
   "cell_type": "markdown",
   "metadata": {},
   "source": [
    "Tutorial 2: https://www.kaggle.com/jiuzhang/ai-camp-logistic-regression"
   ]
  },
  {
   "cell_type": "code",
   "execution_count": 1,
   "metadata": {
    "ExecuteTime": {
     "end_time": "2020-11-23T04:50:41.580174Z",
     "start_time": "2020-11-23T04:50:40.145653Z"
    }
   },
   "outputs": [],
   "source": [
    "import numpy as np\n",
    "import pandas as pd\n",
    "from matplotlib import pyplot as plt"
   ]
  },
  {
   "cell_type": "code",
   "execution_count": 2,
   "metadata": {
    "ExecuteTime": {
     "end_time": "2020-11-23T04:50:41.588383Z",
     "start_time": "2020-11-23T04:50:41.583721Z"
    }
   },
   "outputs": [],
   "source": [
    "TRAIN_DIR = './input/HR_comma_sep.csv'"
   ]
  },
  {
   "cell_type": "markdown",
   "metadata": {},
   "source": [
    "# Explantory Data Analyisis"
   ]
  },
  {
   "cell_type": "code",
   "execution_count": 3,
   "metadata": {
    "ExecuteTime": {
     "end_time": "2020-11-23T04:50:41.635340Z",
     "start_time": "2020-11-23T04:50:41.592252Z"
    },
    "code_folding": [
     0
    ]
   },
   "outputs": [],
   "source": [
    "def plot_barchart_for_y_by_categorical_column(dataset, y_col, x_col):\n",
    "    assert len(dataset[x_col].unique()) <= 4, \\\n",
    "        \"Input x_col should be categorical column with unique values fewer than 5.'\"\n",
    "    \n",
    "    result_dict = {}\n",
    "    for x_col_val in dataset[x_col].unique():\n",
    "        result_dict[x_col_val] = dataset[y_col][dataset[x_col] == x_col_val].value_counts()\n",
    "        \n",
    "    df = pd.DataFrame(result_dict)\n",
    "    df.plot(kind='bar', stacked=True)\n",
    "    plt.title(f\"{y_col} by {x_col}\")\n",
    "    plt.xlabel(f\"{y_col}\") \n",
    "    plt.ylabel(\"Count\")\n",
    "    plt.show()"
   ]
  },
  {
   "cell_type": "code",
   "execution_count": 4,
   "metadata": {
    "ExecuteTime": {
     "end_time": "2020-11-23T04:50:41.648242Z",
     "start_time": "2020-11-23T04:50:41.639217Z"
    },
    "code_folding": [
     0
    ]
   },
   "outputs": [],
   "source": [
    "def plot_hist_for_numeric_column_by_y(dataset, y_col, x_col):\n",
    "    assert sorted(list(dataset[y_col].unique())) == [0, 1], \"Input y_col should be 0 or 1.'\"\n",
    "        \n",
    "    dataset[x_col].hist()  \n",
    "    plt.ylabel(y_col) \n",
    "    plt.xlabel(x_col) \n",
    "    plt.title(f'{x_col} Distribution')\n",
    "    plt.show() \n",
    "\n",
    "    dataset[dataset[y_col]==0][x_col].hist()  \n",
    "    plt.ylabel(y_col) \n",
    "    plt.xlabel(x_col) \n",
    "    plt.title(f'{x_col} Distribution, {y_col}=0')\n",
    "    plt.show()\n",
    "\n",
    "    dataset[dataset[y_col]==1][x_col].hist()  \n",
    "    plt.ylabel(y_col) \n",
    "    plt.xlabel(x_col) \n",
    "    plt.title(f'{x_col} Distribution, {y_col}=1')\n",
    "    plt.show()"
   ]
  },
  {
   "cell_type": "markdown",
   "metadata": {},
   "source": [
    "1.Take a Glance at the Data"
   ]
  },
  {
   "cell_type": "code",
   "execution_count": 5,
   "metadata": {
    "ExecuteTime": {
     "end_time": "2020-11-23T04:50:41.684927Z",
     "start_time": "2020-11-23T04:50:41.651279Z"
    }
   },
   "outputs": [],
   "source": [
    "train = pd.read_csv(TRAIN_DIR)"
   ]
  },
  {
   "cell_type": "code",
   "execution_count": 6,
   "metadata": {
    "ExecuteTime": {
     "end_time": "2020-11-23T04:50:41.722074Z",
     "start_time": "2020-11-23T04:50:41.691362Z"
    }
   },
   "outputs": [
    {
     "data": {
      "text/html": [
       "<div>\n",
       "<style scoped>\n",
       "    .dataframe tbody tr th:only-of-type {\n",
       "        vertical-align: middle;\n",
       "    }\n",
       "\n",
       "    .dataframe tbody tr th {\n",
       "        vertical-align: top;\n",
       "    }\n",
       "\n",
       "    .dataframe thead th {\n",
       "        text-align: right;\n",
       "    }\n",
       "</style>\n",
       "<table border=\"1\" class=\"dataframe\">\n",
       "  <thead>\n",
       "    <tr style=\"text-align: right;\">\n",
       "      <th></th>\n",
       "      <th>satisfaction_level</th>\n",
       "      <th>last_evaluation</th>\n",
       "      <th>number_project</th>\n",
       "      <th>average_montly_hours</th>\n",
       "      <th>time_spend_company</th>\n",
       "      <th>Work_accident</th>\n",
       "      <th>left</th>\n",
       "      <th>promotion_last_5years</th>\n",
       "      <th>sales</th>\n",
       "      <th>salary</th>\n",
       "    </tr>\n",
       "  </thead>\n",
       "  <tbody>\n",
       "    <tr>\n",
       "      <th>0</th>\n",
       "      <td>0.38</td>\n",
       "      <td>0.53</td>\n",
       "      <td>2</td>\n",
       "      <td>157</td>\n",
       "      <td>3</td>\n",
       "      <td>0</td>\n",
       "      <td>1</td>\n",
       "      <td>0</td>\n",
       "      <td>sales</td>\n",
       "      <td>low</td>\n",
       "    </tr>\n",
       "    <tr>\n",
       "      <th>1</th>\n",
       "      <td>0.80</td>\n",
       "      <td>0.86</td>\n",
       "      <td>5</td>\n",
       "      <td>262</td>\n",
       "      <td>6</td>\n",
       "      <td>0</td>\n",
       "      <td>1</td>\n",
       "      <td>0</td>\n",
       "      <td>sales</td>\n",
       "      <td>medium</td>\n",
       "    </tr>\n",
       "    <tr>\n",
       "      <th>2</th>\n",
       "      <td>0.11</td>\n",
       "      <td>0.88</td>\n",
       "      <td>7</td>\n",
       "      <td>272</td>\n",
       "      <td>4</td>\n",
       "      <td>0</td>\n",
       "      <td>1</td>\n",
       "      <td>0</td>\n",
       "      <td>sales</td>\n",
       "      <td>medium</td>\n",
       "    </tr>\n",
       "    <tr>\n",
       "      <th>3</th>\n",
       "      <td>0.72</td>\n",
       "      <td>0.87</td>\n",
       "      <td>5</td>\n",
       "      <td>223</td>\n",
       "      <td>5</td>\n",
       "      <td>0</td>\n",
       "      <td>1</td>\n",
       "      <td>0</td>\n",
       "      <td>sales</td>\n",
       "      <td>low</td>\n",
       "    </tr>\n",
       "    <tr>\n",
       "      <th>4</th>\n",
       "      <td>0.37</td>\n",
       "      <td>0.52</td>\n",
       "      <td>2</td>\n",
       "      <td>159</td>\n",
       "      <td>3</td>\n",
       "      <td>0</td>\n",
       "      <td>1</td>\n",
       "      <td>0</td>\n",
       "      <td>sales</td>\n",
       "      <td>low</td>\n",
       "    </tr>\n",
       "  </tbody>\n",
       "</table>\n",
       "</div>"
      ],
      "text/plain": [
       "   satisfaction_level  last_evaluation  number_project  average_montly_hours  \\\n",
       "0                0.38             0.53               2                   157   \n",
       "1                0.80             0.86               5                   262   \n",
       "2                0.11             0.88               7                   272   \n",
       "3                0.72             0.87               5                   223   \n",
       "4                0.37             0.52               2                   159   \n",
       "\n",
       "   time_spend_company  Work_accident  left  promotion_last_5years  sales  \\\n",
       "0                   3              0     1                      0  sales   \n",
       "1                   6              0     1                      0  sales   \n",
       "2                   4              0     1                      0  sales   \n",
       "3                   5              0     1                      0  sales   \n",
       "4                   3              0     1                      0  sales   \n",
       "\n",
       "   salary  \n",
       "0     low  \n",
       "1  medium  \n",
       "2  medium  \n",
       "3     low  \n",
       "4     low  "
      ]
     },
     "execution_count": 6,
     "metadata": {},
     "output_type": "execute_result"
    }
   ],
   "source": [
    "train.head()"
   ]
  },
  {
   "cell_type": "code",
   "execution_count": 7,
   "metadata": {
    "ExecuteTime": {
     "end_time": "2020-11-23T04:50:41.736425Z",
     "start_time": "2020-11-23T04:50:41.727250Z"
    }
   },
   "outputs": [
    {
     "data": {
      "text/plain": [
       "satisfaction_level       float64\n",
       "last_evaluation          float64\n",
       "number_project             int64\n",
       "average_montly_hours       int64\n",
       "time_spend_company         int64\n",
       "Work_accident              int64\n",
       "left                       int64\n",
       "promotion_last_5years      int64\n",
       "sales                     object\n",
       "salary                    object\n",
       "dtype: object"
      ]
     },
     "execution_count": 7,
     "metadata": {},
     "output_type": "execute_result"
    }
   ],
   "source": [
    "train.dtypes"
   ]
  },
  {
   "cell_type": "code",
   "execution_count": 8,
   "metadata": {
    "ExecuteTime": {
     "end_time": "2020-11-23T04:50:41.746804Z",
     "start_time": "2020-11-23T04:50:41.740152Z"
    }
   },
   "outputs": [
    {
     "data": {
      "text/plain": [
       "(14999, 10)"
      ]
     },
     "execution_count": 8,
     "metadata": {},
     "output_type": "execute_result"
    }
   ],
   "source": [
    "train.shape"
   ]
  },
  {
   "cell_type": "markdown",
   "metadata": {},
   "source": [
    "2.Look at Categorical Columns"
   ]
  },
  {
   "cell_type": "code",
   "execution_count": 9,
   "metadata": {
    "ExecuteTime": {
     "end_time": "2020-11-23T04:50:42.124483Z",
     "start_time": "2020-11-23T04:50:41.750420Z"
    }
   },
   "outputs": [
    {
     "data": {
      "image/png": "[encoded data removed]",
      "text/plain": [
       "<Figure size 432x288 with 1 Axes>"
      ]
     },
     "metadata": {
      "needs_background": "light"
     },
     "output_type": "display_data"
    }
   ],
   "source": [
    "# Use Bar Chart\n",
    "plot_barchart_for_y_by_categorical_column(train, y_col='left', x_col='salary')"
   ]
  },
  {
   "cell_type": "code",
   "execution_count": 10,
   "metadata": {
    "ExecuteTime": {
     "end_time": "2020-11-23T04:50:42.165967Z",
     "start_time": "2020-11-23T04:50:42.126963Z"
    }
   },
   "outputs": [
    {
     "data": {
      "text/html": [
       "<div>\n",
       "<style scoped>\n",
       "    .dataframe tbody tr th:only-of-type {\n",
       "        vertical-align: middle;\n",
       "    }\n",
       "\n",
       "    .dataframe tbody tr th {\n",
       "        vertical-align: top;\n",
       "    }\n",
       "\n",
       "    .dataframe thead th {\n",
       "        text-align: right;\n",
       "    }\n",
       "</style>\n",
       "<table border=\"1\" class=\"dataframe\">\n",
       "  <thead>\n",
       "    <tr style=\"text-align: right;\">\n",
       "      <th>left</th>\n",
       "      <th>0</th>\n",
       "      <th>1</th>\n",
       "    </tr>\n",
       "    <tr>\n",
       "      <th>salary</th>\n",
       "      <th></th>\n",
       "      <th></th>\n",
       "    </tr>\n",
       "  </thead>\n",
       "  <tbody>\n",
       "    <tr>\n",
       "      <th>high</th>\n",
       "      <td>0.933711</td>\n",
       "      <td>0.066289</td>\n",
       "    </tr>\n",
       "    <tr>\n",
       "      <th>low</th>\n",
       "      <td>0.703116</td>\n",
       "      <td>0.296884</td>\n",
       "    </tr>\n",
       "    <tr>\n",
       "      <th>medium</th>\n",
       "      <td>0.795687</td>\n",
       "      <td>0.204313</td>\n",
       "    </tr>\n",
       "  </tbody>\n",
       "</table>\n",
       "</div>"
      ],
      "text/plain": [
       "left           0         1\n",
       "salary                    \n",
       "high    0.933711  0.066289\n",
       "low     0.703116  0.296884\n",
       "medium  0.795687  0.204313"
      ]
     },
     "execution_count": 10,
     "metadata": {},
     "output_type": "execute_result"
    }
   ],
   "source": [
    "# Use Cross Tab\n",
    "ct = pd.crosstab(train['salary'], train['left'])\n",
    "ct.div(ct.sum(axis=1), axis=0)"
   ]
  },
  {
   "cell_type": "code",
   "execution_count": 11,
   "metadata": {
    "ExecuteTime": {
     "end_time": "2020-11-23T04:50:42.199031Z",
     "start_time": "2020-11-23T04:50:42.168388Z"
    }
   },
   "outputs": [
    {
     "data": {
      "text/html": [
       "<div>\n",
       "<style scoped>\n",
       "    .dataframe tbody tr th:only-of-type {\n",
       "        vertical-align: middle;\n",
       "    }\n",
       "\n",
       "    .dataframe tbody tr th {\n",
       "        vertical-align: top;\n",
       "    }\n",
       "\n",
       "    .dataframe thead th {\n",
       "        text-align: right;\n",
       "    }\n",
       "</style>\n",
       "<table border=\"1\" class=\"dataframe\">\n",
       "  <thead>\n",
       "    <tr style=\"text-align: right;\">\n",
       "      <th>left</th>\n",
       "      <th>0</th>\n",
       "      <th>1</th>\n",
       "    </tr>\n",
       "    <tr>\n",
       "      <th>salary</th>\n",
       "      <th></th>\n",
       "      <th></th>\n",
       "    </tr>\n",
       "  </thead>\n",
       "  <tbody>\n",
       "    <tr>\n",
       "      <th>high</th>\n",
       "      <td>0.933711</td>\n",
       "      <td>0.066289</td>\n",
       "    </tr>\n",
       "    <tr>\n",
       "      <th>low</th>\n",
       "      <td>0.703116</td>\n",
       "      <td>0.296884</td>\n",
       "    </tr>\n",
       "    <tr>\n",
       "      <th>medium</th>\n",
       "      <td>0.795687</td>\n",
       "      <td>0.204313</td>\n",
       "    </tr>\n",
       "  </tbody>\n",
       "</table>\n",
       "</div>"
      ],
      "text/plain": [
       "left           0         1\n",
       "salary                    \n",
       "high    0.933711  0.066289\n",
       "low     0.703116  0.296884\n",
       "medium  0.795687  0.204313"
      ]
     },
     "execution_count": 11,
     "metadata": {},
     "output_type": "execute_result"
    }
   ],
   "source": [
    "# Use Cross Tab\n",
    "ct = pd.crosstab(train['salary'], train['left'])\n",
    "ct.div(ct.sum(axis=1), axis=0)"
   ]
  },
  {
   "cell_type": "markdown",
   "metadata": {},
   "source": [
    "Observation: Salary is a useful column. High salary means unlikely to resign."
   ]
  },
  {
   "cell_type": "markdown",
   "metadata": {},
   "source": [
    "3.Look at Numeric Columns"
   ]
  },
  {
   "cell_type": "code",
   "execution_count": 12,
   "metadata": {
    "ExecuteTime": {
     "end_time": "2020-11-23T04:50:42.969901Z",
     "start_time": "2020-11-23T04:50:42.202420Z"
    }
   },
   "outputs": [
    {
     "data": {
      "image/png": "[encoded data removed]",
      "text/plain": [
       "<Figure size 432x288 with 1 Axes>"
      ]
     },
     "metadata": {
      "needs_background": "light"
     },
     "output_type": "display_data"
    },
    {
     "data": {
      "image/png": "[encoded data removed]",
      "text/plain": [
       "<Figure size 432x288 with 1 Axes>"
      ]
     },
     "metadata": {
      "needs_background": "light"
     },
     "output_type": "display_data"
    },
    {
     "data": {
      "image/png": "[encoded data removed]",
      "text/plain": [
       "<Figure size 432x288 with 1 Axes>"
      ]
     },
     "metadata": {
      "needs_background": "light"
     },
     "output_type": "display_data"
    }
   ],
   "source": [
    "plot_hist_for_numeric_column_by_y(train, y_col='left', x_col='satisfaction_level')"
   ]
  },
  {
   "cell_type": "markdown",
   "metadata": {},
   "source": [
    "Observation: Satisfaction level is a useful column. High satisfaction means unlikely to resign."
   ]
  },
  {
   "cell_type": "markdown",
   "metadata": {},
   "source": [
    "# Prepare Data"
   ]
  },
  {
   "cell_type": "code",
   "execution_count": 13,
   "metadata": {
    "ExecuteTime": {
     "end_time": "2020-11-23T04:50:44.032318Z",
     "start_time": "2020-11-23T04:50:42.973741Z"
    }
   },
   "outputs": [],
   "source": [
    "from patsy import dmatrices\n",
    "from sklearn.model_selection import train_test_split"
   ]
  },
  {
   "cell_type": "code",
   "execution_count": 14,
   "metadata": {
    "ExecuteTime": {
     "end_time": "2020-11-23T04:50:44.038075Z",
     "start_time": "2020-11-23T04:50:44.034246Z"
    }
   },
   "outputs": [],
   "source": [
    "def normalize_0_1(X):\n",
    "    _, num_col = X.shape\n",
    "    for i in range(1, num_col): # Don't normalize the first column (intercept).\n",
    "        col_min, col_max = X[:, i].min(), X[:, i].max()\n",
    "        X[:, i] = (X[:, i] - col_min) / (col_max - col_min)"
   ]
  },
  {
   "cell_type": "markdown",
   "metadata": {},
   "source": [
    "1.Use DMATRICES to Create Training Set Easily (Use Dummy Variables for Categorical Variables)"
   ]
  },
  {
   "cell_type": "code",
   "execution_count": 15,
   "metadata": {
    "ExecuteTime": {
     "end_time": "2020-11-23T04:50:44.180741Z",
     "start_time": "2020-11-23T04:50:44.039859Z"
    },
    "code_folding": []
   },
   "outputs": [],
   "source": [
    "y, X = dmatrices('left~satisfaction_level+last_evaluation+number_project+average_montly_hours+time_spend_company+Work_accident+promotion_last_5years+C(sales)+C(salary)', train, return_type='dataframe')\n",
    "X = X.rename(columns = {\n",
    "    'C(sales)[T.RandD]': 'Department: Random',\n",
    "    'C(sales)[T.accounting]': 'Department: Accounting',\n",
    "    'C(sales)[T.hr]': 'Department: HR',\n",
    "    'C(sales)[T.management]': 'Department: Management',\n",
    "    'C(sales)[T.marketing]': 'Department: Marketing',\n",
    "    'C(sales)[T.product_mng]': 'Department: Product_Management',\n",
    "    'C(sales)[T.sales]': 'Department: Sales',\n",
    "    'C(sales)[T.support]': 'Department: Support',\n",
    "    'C(sales)[T.technical]': 'Department: Technical',\n",
    "    'C(salary)[T.low]': 'Salary: Low',\n",
    "    'C(salary)[T.medium]': 'Salary: Medium'})"
   ]
  },
  {
   "cell_type": "code",
   "execution_count": 16,
   "metadata": {
    "ExecuteTime": {
     "end_time": "2020-11-23T04:50:44.211176Z",
     "start_time": "2020-11-23T04:50:44.182641Z"
    }
   },
   "outputs": [
    {
     "data": {
      "text/html": [
       "<div>\n",
       "<style scoped>\n",
       "    .dataframe tbody tr th:only-of-type {\n",
       "        vertical-align: middle;\n",
       "    }\n",
       "\n",
       "    .dataframe tbody tr th {\n",
       "        vertical-align: top;\n",
       "    }\n",
       "\n",
       "    .dataframe thead th {\n",
       "        text-align: right;\n",
       "    }\n",
       "</style>\n",
       "<table border=\"1\" class=\"dataframe\">\n",
       "  <thead>\n",
       "    <tr style=\"text-align: right;\">\n",
       "      <th></th>\n",
       "      <th>Intercept</th>\n",
       "      <th>Department: Random</th>\n",
       "      <th>Department: Accounting</th>\n",
       "      <th>Department: HR</th>\n",
       "      <th>Department: Management</th>\n",
       "      <th>Department: Marketing</th>\n",
       "      <th>Department: Product_Management</th>\n",
       "      <th>Department: Sales</th>\n",
       "      <th>Department: Support</th>\n",
       "      <th>Department: Technical</th>\n",
       "      <th>Salary: Low</th>\n",
       "      <th>Salary: Medium</th>\n",
       "      <th>satisfaction_level</th>\n",
       "      <th>last_evaluation</th>\n",
       "      <th>number_project</th>\n",
       "      <th>average_montly_hours</th>\n",
       "      <th>time_spend_company</th>\n",
       "      <th>Work_accident</th>\n",
       "      <th>promotion_last_5years</th>\n",
       "    </tr>\n",
       "  </thead>\n",
       "  <tbody>\n",
       "    <tr>\n",
       "      <th>0</th>\n",
       "      <td>1.0</td>\n",
       "      <td>0.0</td>\n",
       "      <td>0.0</td>\n",
       "      <td>0.0</td>\n",
       "      <td>0.0</td>\n",
       "      <td>0.0</td>\n",
       "      <td>0.0</td>\n",
       "      <td>1.0</td>\n",
       "      <td>0.0</td>\n",
       "      <td>0.0</td>\n",
       "      <td>1.0</td>\n",
       "      <td>0.0</td>\n",
       "      <td>0.38</td>\n",
       "      <td>0.53</td>\n",
       "      <td>2.0</td>\n",
       "      <td>157.0</td>\n",
       "      <td>3.0</td>\n",
       "      <td>0.0</td>\n",
       "      <td>0.0</td>\n",
       "    </tr>\n",
       "    <tr>\n",
       "      <th>1</th>\n",
       "      <td>1.0</td>\n",
       "      <td>0.0</td>\n",
       "      <td>0.0</td>\n",
       "      <td>0.0</td>\n",
       "      <td>0.0</td>\n",
       "      <td>0.0</td>\n",
       "      <td>0.0</td>\n",
       "      <td>1.0</td>\n",
       "      <td>0.0</td>\n",
       "      <td>0.0</td>\n",
       "      <td>0.0</td>\n",
       "      <td>1.0</td>\n",
       "      <td>0.80</td>\n",
       "      <td>0.86</td>\n",
       "      <td>5.0</td>\n",
       "      <td>262.0</td>\n",
       "      <td>6.0</td>\n",
       "      <td>0.0</td>\n",
       "      <td>0.0</td>\n",
       "    </tr>\n",
       "    <tr>\n",
       "      <th>2</th>\n",
       "      <td>1.0</td>\n",
       "      <td>0.0</td>\n",
       "      <td>0.0</td>\n",
       "      <td>0.0</td>\n",
       "      <td>0.0</td>\n",
       "      <td>0.0</td>\n",
       "      <td>0.0</td>\n",
       "      <td>1.0</td>\n",
       "      <td>0.0</td>\n",
       "      <td>0.0</td>\n",
       "      <td>0.0</td>\n",
       "      <td>1.0</td>\n",
       "      <td>0.11</td>\n",
       "      <td>0.88</td>\n",
       "      <td>7.0</td>\n",
       "      <td>272.0</td>\n",
       "      <td>4.0</td>\n",
       "      <td>0.0</td>\n",
       "      <td>0.0</td>\n",
       "    </tr>\n",
       "    <tr>\n",
       "      <th>3</th>\n",
       "      <td>1.0</td>\n",
       "      <td>0.0</td>\n",
       "      <td>0.0</td>\n",
       "      <td>0.0</td>\n",
       "      <td>0.0</td>\n",
       "      <td>0.0</td>\n",
       "      <td>0.0</td>\n",
       "      <td>1.0</td>\n",
       "      <td>0.0</td>\n",
       "      <td>0.0</td>\n",
       "      <td>1.0</td>\n",
       "      <td>0.0</td>\n",
       "      <td>0.72</td>\n",
       "      <td>0.87</td>\n",
       "      <td>5.0</td>\n",
       "      <td>223.0</td>\n",
       "      <td>5.0</td>\n",
       "      <td>0.0</td>\n",
       "      <td>0.0</td>\n",
       "    </tr>\n",
       "    <tr>\n",
       "      <th>4</th>\n",
       "      <td>1.0</td>\n",
       "      <td>0.0</td>\n",
       "      <td>0.0</td>\n",
       "      <td>0.0</td>\n",
       "      <td>0.0</td>\n",
       "      <td>0.0</td>\n",
       "      <td>0.0</td>\n",
       "      <td>1.0</td>\n",
       "      <td>0.0</td>\n",
       "      <td>0.0</td>\n",
       "      <td>1.0</td>\n",
       "      <td>0.0</td>\n",
       "      <td>0.37</td>\n",
       "      <td>0.52</td>\n",
       "      <td>2.0</td>\n",
       "      <td>159.0</td>\n",
       "      <td>3.0</td>\n",
       "      <td>0.0</td>\n",
       "      <td>0.0</td>\n",
       "    </tr>\n",
       "  </tbody>\n",
       "</table>\n",
       "</div>"
      ],
      "text/plain": [
       "   Intercept  Department: Random  Department: Accounting  Department: HR  \\\n",
       "0        1.0                 0.0                     0.0             0.0   \n",
       "1        1.0                 0.0                     0.0             0.0   \n",
       "2        1.0                 0.0                     0.0             0.0   \n",
       "3        1.0                 0.0                     0.0             0.0   \n",
       "4        1.0                 0.0                     0.0             0.0   \n",
       "\n",
       "   Department: Management  Department: Marketing  \\\n",
       "0                     0.0                    0.0   \n",
       "1                     0.0                    0.0   \n",
       "2                     0.0                    0.0   \n",
       "3                     0.0                    0.0   \n",
       "4                     0.0                    0.0   \n",
       "\n",
       "   Department: Product_Management  Department: Sales  Department: Support  \\\n",
       "0                             0.0                1.0                  0.0   \n",
       "1                             0.0                1.0                  0.0   \n",
       "2                             0.0                1.0                  0.0   \n",
       "3                             0.0                1.0                  0.0   \n",
       "4                             0.0                1.0                  0.0   \n",
       "\n",
       "   Department: Technical  Salary: Low  Salary: Medium  satisfaction_level  \\\n",
       "0                    0.0          1.0             0.0                0.38   \n",
       "1                    0.0          0.0             1.0                0.80   \n",
       "2                    0.0          0.0             1.0                0.11   \n",
       "3                    0.0          1.0             0.0                0.72   \n",
       "4                    0.0          1.0             0.0                0.37   \n",
       "\n",
       "   last_evaluation  number_project  average_montly_hours  time_spend_company  \\\n",
       "0             0.53             2.0                 157.0                 3.0   \n",
       "1             0.86             5.0                 262.0                 6.0   \n",
       "2             0.88             7.0                 272.0                 4.0   \n",
       "3             0.87             5.0                 223.0                 5.0   \n",
       "4             0.52             2.0                 159.0                 3.0   \n",
       "\n",
       "   Work_accident  promotion_last_5years  \n",
       "0            0.0                    0.0  \n",
       "1            0.0                    0.0  \n",
       "2            0.0                    0.0  \n",
       "3            0.0                    0.0  \n",
       "4            0.0                    0.0  "
      ]
     },
     "execution_count": 16,
     "metadata": {},
     "output_type": "execute_result"
    }
   ],
   "source": [
    "X.head()"
   ]
  },
  {
   "cell_type": "code",
   "execution_count": 17,
   "metadata": {
    "ExecuteTime": {
     "end_time": "2020-11-23T04:50:44.217711Z",
     "start_time": "2020-11-23T04:50:44.213780Z"
    }
   },
   "outputs": [],
   "source": [
    "X_np = np.asmatrix(X)\n",
    "y_np = np.ravel(y)"
   ]
  },
  {
   "cell_type": "markdown",
   "metadata": {},
   "source": [
    "2.Normalize into 0~1"
   ]
  },
  {
   "cell_type": "code",
   "execution_count": 18,
   "metadata": {
    "ExecuteTime": {
     "end_time": "2020-11-23T04:50:44.230367Z",
     "start_time": "2020-11-23T04:50:44.224988Z"
    }
   },
   "outputs": [],
   "source": [
    "normalize_0_1(X_np)"
   ]
  },
  {
   "cell_type": "markdown",
   "metadata": {
    "ExecuteTime": {
     "end_time": "2020-11-05T03:27:45.651298Z",
     "start_time": "2020-11-05T03:27:45.644461Z"
    }
   },
   "source": [
    "3.Training Set, Cross Validation Set"
   ]
  },
  {
   "cell_type": "code",
   "execution_count": 19,
   "metadata": {
    "ExecuteTime": {
     "end_time": "2020-11-23T04:50:44.242187Z",
     "start_time": "2020-11-23T04:50:44.233283Z"
    }
   },
   "outputs": [
    {
     "name": "stdout",
     "output_type": "stream",
     "text": [
      "Training Set - X train shape: (11999, 19), y train shape: (11999,)\n",
      "Validation Set - X val shape: (3000, 19), y val shape: (3000,)\n"
     ]
    }
   ],
   "source": [
    "X_train, X_val, y_train, y_val = train_test_split(X_np, y_np, test_size=0.2, random_state=0)\n",
    "print(f'Training Set - X train shape: {X_train.shape}, y train shape: {y_train.shape}')\n",
    "print(f'Validation Set - X val shape: {X_val.shape}, y val shape: {y_val.shape}')"
   ]
  },
  {
   "cell_type": "markdown",
   "metadata": {},
   "source": [
    "# Model 1: Logistic Regression"
   ]
  },
  {
   "cell_type": "code",
   "execution_count": 20,
   "metadata": {
    "ExecuteTime": {
     "end_time": "2020-11-23T04:50:44.303365Z",
     "start_time": "2020-11-23T04:50:44.244649Z"
    }
   },
   "outputs": [],
   "source": [
    "from sklearn.linear_model import LogisticRegression\n",
    "from sklearn.model_selection import cross_val_score\n",
    "from sklearn.metrics import accuracy_score, confusion_matrix, classification_report"
   ]
  },
  {
   "cell_type": "code",
   "execution_count": 21,
   "metadata": {
    "ExecuteTime": {
     "end_time": "2020-11-23T04:50:44.314502Z",
     "start_time": "2020-11-23T04:50:44.306241Z"
    },
    "code_folding": [
     0
    ]
   },
   "outputs": [],
   "source": [
    "def plot_confusion_matrix(conf_mtrx, classes, cmap=plt.cm.Blues):\n",
    "    num_class = conf_mtrx.shape[0]\n",
    "    \n",
    "    fig, ax = plt.subplots()\n",
    "    im = ax.imshow(conf_mtrx, interpolation='nearest', cmap=cmap)\n",
    "    ax.figure.colorbar(im, ax=ax)\n",
    "    ax.set(xticks=np.arange(num_class), yticks=np.arange(num_class),\n",
    "           xticklabels=classes, yticklabels=classes, \n",
    "           ylabel='True label', xlabel='Predicted label')\n",
    "\n",
    "    middle_threshold = conf_mtrx.max() / 2.\n",
    "    for row in range(num_class):\n",
    "        for col in range(num_class):\n",
    "            ax.text(col, row, format(conf_mtrx[row, col], '.0f'), ha=\"center\", va=\"center\",\n",
    "                    color=\"white\" if conf_mtrx[row, col] > middle_threshold else \"black\")\n",
    "    fig.tight_layout()\n",
    "    plt.show()"
   ]
  },
  {
   "cell_type": "markdown",
   "metadata": {},
   "source": [
    "1. Fit"
   ]
  },
  {
   "cell_type": "code",
   "execution_count": 22,
   "metadata": {
    "ExecuteTime": {
     "end_time": "2020-11-23T04:50:44.476490Z",
     "start_time": "2020-11-23T04:50:44.317703Z"
    }
   },
   "outputs": [
    {
     "data": {
      "text/plain": [
       "0.7920660055004584"
      ]
     },
     "execution_count": 22,
     "metadata": {},
     "output_type": "execute_result"
    }
   ],
   "source": [
    "log_reg = LogisticRegression(max_iter=10000)\n",
    "log_reg.fit(X_train, y_train)\n",
    "log_reg.score(X_train, y_train)"
   ]
  },
  {
   "cell_type": "code",
   "execution_count": 23,
   "metadata": {
    "ExecuteTime": {
     "end_time": "2020-11-23T04:50:44.505709Z",
     "start_time": "2020-11-23T04:50:44.479242Z"
    }
   },
   "outputs": [
    {
     "data": {
      "text/html": [
       "<div>\n",
       "<style scoped>\n",
       "    .dataframe tbody tr th:only-of-type {\n",
       "        vertical-align: middle;\n",
       "    }\n",
       "\n",
       "    .dataframe tbody tr th {\n",
       "        vertical-align: top;\n",
       "    }\n",
       "\n",
       "    .dataframe thead th {\n",
       "        text-align: right;\n",
       "    }\n",
       "</style>\n",
       "<table border=\"1\" class=\"dataframe\">\n",
       "  <thead>\n",
       "    <tr style=\"text-align: right;\">\n",
       "      <th></th>\n",
       "      <th>0</th>\n",
       "      <th>1</th>\n",
       "    </tr>\n",
       "  </thead>\n",
       "  <tbody>\n",
       "    <tr>\n",
       "      <th>0</th>\n",
       "      <td>Intercept</td>\n",
       "      <td>[-0.002018444581095508]</td>\n",
       "    </tr>\n",
       "    <tr>\n",
       "      <th>1</th>\n",
       "      <td>Department: Random</td>\n",
       "      <td>[-0.3266476352005852]</td>\n",
       "    </tr>\n",
       "    <tr>\n",
       "      <th>2</th>\n",
       "      <td>Department: Accounting</td>\n",
       "      <td>[0.2937802137012369]</td>\n",
       "    </tr>\n",
       "    <tr>\n",
       "      <th>3</th>\n",
       "      <td>Department: HR</td>\n",
       "      <td>[0.47577506825042143]</td>\n",
       "    </tr>\n",
       "    <tr>\n",
       "      <th>4</th>\n",
       "      <td>Department: Management</td>\n",
       "      <td>[-0.10308802402688902]</td>\n",
       "    </tr>\n",
       "    <tr>\n",
       "      <th>5</th>\n",
       "      <td>Department: Marketing</td>\n",
       "      <td>[0.20731278594563757]</td>\n",
       "    </tr>\n",
       "    <tr>\n",
       "      <th>6</th>\n",
       "      <td>Department: Product_Management</td>\n",
       "      <td>[0.14761362850181348]</td>\n",
       "    </tr>\n",
       "    <tr>\n",
       "      <th>7</th>\n",
       "      <td>Department: Sales</td>\n",
       "      <td>[0.22956481649883098]</td>\n",
       "    </tr>\n",
       "    <tr>\n",
       "      <th>8</th>\n",
       "      <td>Department: Support</td>\n",
       "      <td>[0.3572658933946647]</td>\n",
       "    </tr>\n",
       "    <tr>\n",
       "      <th>9</th>\n",
       "      <td>Department: Technical</td>\n",
       "      <td>[0.3444012094012734]</td>\n",
       "    </tr>\n",
       "    <tr>\n",
       "      <th>10</th>\n",
       "      <td>Salary: Low</td>\n",
       "      <td>[1.864990275728368]</td>\n",
       "    </tr>\n",
       "    <tr>\n",
       "      <th>11</th>\n",
       "      <td>Salary: Medium</td>\n",
       "      <td>[1.341189805710739]</td>\n",
       "    </tr>\n",
       "    <tr>\n",
       "      <th>12</th>\n",
       "      <td>satisfaction_level</td>\n",
       "      <td>[-3.687733898565021]</td>\n",
       "    </tr>\n",
       "    <tr>\n",
       "      <th>13</th>\n",
       "      <td>last_evaluation</td>\n",
       "      <td>[0.42789683784778626]</td>\n",
       "    </tr>\n",
       "    <tr>\n",
       "      <th>14</th>\n",
       "      <td>number_project</td>\n",
       "      <td>[-1.4866710108665215]</td>\n",
       "    </tr>\n",
       "    <tr>\n",
       "      <th>15</th>\n",
       "      <td>average_montly_hours</td>\n",
       "      <td>[0.9298348966093053]</td>\n",
       "    </tr>\n",
       "    <tr>\n",
       "      <th>16</th>\n",
       "      <td>time_spend_company</td>\n",
       "      <td>[2.1113736028263355]</td>\n",
       "    </tr>\n",
       "    <tr>\n",
       "      <th>17</th>\n",
       "      <td>Work_accident</td>\n",
       "      <td>[-1.4701643198778103]</td>\n",
       "    </tr>\n",
       "    <tr>\n",
       "      <th>18</th>\n",
       "      <td>promotion_last_5years</td>\n",
       "      <td>[-1.241202037278983]</td>\n",
       "    </tr>\n",
       "  </tbody>\n",
       "</table>\n",
       "</div>"
      ],
      "text/plain": [
       "                                 0                        1\n",
       "0                        Intercept  [-0.002018444581095508]\n",
       "1               Department: Random    [-0.3266476352005852]\n",
       "2           Department: Accounting     [0.2937802137012369]\n",
       "3                   Department: HR    [0.47577506825042143]\n",
       "4           Department: Management   [-0.10308802402688902]\n",
       "5            Department: Marketing    [0.20731278594563757]\n",
       "6   Department: Product_Management    [0.14761362850181348]\n",
       "7                Department: Sales    [0.22956481649883098]\n",
       "8              Department: Support     [0.3572658933946647]\n",
       "9            Department: Technical     [0.3444012094012734]\n",
       "10                     Salary: Low      [1.864990275728368]\n",
       "11                  Salary: Medium      [1.341189805710739]\n",
       "12              satisfaction_level     [-3.687733898565021]\n",
       "13                 last_evaluation    [0.42789683784778626]\n",
       "14                  number_project    [-1.4866710108665215]\n",
       "15            average_montly_hours     [0.9298348966093053]\n",
       "16              time_spend_company     [2.1113736028263355]\n",
       "17                   Work_accident    [-1.4701643198778103]\n",
       "18           promotion_last_5years     [-1.241202037278983]"
      ]
     },
     "execution_count": 23,
     "metadata": {},
     "output_type": "execute_result"
    }
   ],
   "source": [
    "pd.DataFrame(list(zip(X.columns, np.transpose(log_reg.coef_))))"
   ]
  },
  {
   "cell_type": "markdown",
   "metadata": {},
   "source": [
    "2. 10-fold Cross Validation to Verify"
   ]
  },
  {
   "cell_type": "code",
   "execution_count": 24,
   "metadata": {
    "ExecuteTime": {
     "end_time": "2020-11-23T04:50:45.591259Z",
     "start_time": "2020-11-23T04:50:44.508950Z"
    }
   },
   "outputs": [
    {
     "name": "stdout",
     "output_type": "stream",
     "text": [
      "[0.80666667 0.79066667 0.794      0.78533333 0.804      0.80466667\n",
      " 0.792      0.78933333 0.74466667 0.73782522]\n"
     ]
    }
   ],
   "source": [
    "print(cross_val_score(LogisticRegression(max_iter=10000), X_np, y_np, scoring='accuracy', cv=10))"
   ]
  },
  {
   "cell_type": "markdown",
   "metadata": {},
   "source": [
    "3. Confusion Matrix of Prediction"
   ]
  },
  {
   "cell_type": "code",
   "execution_count": 25,
   "metadata": {
    "ExecuteTime": {
     "end_time": "2020-11-23T04:50:45.627343Z",
     "start_time": "2020-11-23T04:50:45.594090Z"
    }
   },
   "outputs": [
    {
     "name": "stdout",
     "output_type": "stream",
     "text": [
      "Accuracy:  0.7866666666666666\n",
      "Confusion Matrix\n",
      "[[2134  165]\n",
      " [ 475  226]]\n",
      "Classification Report\n",
      "              precision    recall  f1-score   support\n",
      "\n",
      "         0.0       0.82      0.93      0.87      2299\n",
      "         1.0       0.58      0.32      0.41       701\n",
      "\n",
      "    accuracy                           0.79      3000\n",
      "   macro avg       0.70      0.63      0.64      3000\n",
      "weighted avg       0.76      0.79      0.76      3000\n",
      "\n"
     ]
    }
   ],
   "source": [
    "y_pred = log_reg.predict(X_val)\n",
    "print('Accuracy: ', accuracy_score(y_val, y_pred))\n",
    "print('Confusion Matrix')\n",
    "print(confusion_matrix(y_val, y_pred))\n",
    "print('Classification Report')\n",
    "print(classification_report(y_val, y_pred))"
   ]
  },
  {
   "cell_type": "code",
   "execution_count": 26,
   "metadata": {
    "ExecuteTime": {
     "end_time": "2020-11-23T04:50:45.935932Z",
     "start_time": "2020-11-23T04:50:45.632039Z"
    }
   },
   "outputs": [
    {
     "data": {
      "image/png": "[encoded data removed]",
      "text/plain": [
       "<Figure size 432x288 with 2 Axes>"
      ]
     },
     "metadata": {
      "needs_background": "light"
     },
     "output_type": "display_data"
    }
   ],
   "source": [
    "plot_confusion_matrix(confusion_matrix(y_val, y_pred),classes=range(2))"
   ]
  },
  {
   "cell_type": "markdown",
   "metadata": {},
   "source": [
    "# Model 2: Logistic Regression (No Sklearn)"
   ]
  },
  {
   "cell_type": "code",
   "execution_count": 27,
   "metadata": {
    "ExecuteTime": {
     "end_time": "2020-11-23T04:50:45.958287Z",
     "start_time": "2020-11-23T04:50:45.938560Z"
    },
    "code_folding": [
     0,
     7,
     45,
     55,
     66,
     79,
     95,
     111
    ]
   },
   "outputs": [],
   "source": [
    "class LogisticRegression:\n",
    "    \"\"\"Logistic Regression with both GradientDescent and Newton's Method.\n",
    "    Example usage:\n",
    "        > log_reg = LogisticRegression()\n",
    "        > log_reg.fit(x_train, y_train)\n",
    "        > log_reg.predict(x_eval)\n",
    "    \"\"\"\n",
    "    def __init__(self, learning_rate=0.1, max_iter=100, solver='GD', theta_0=None, verbose=True):\n",
    "        \"\"\"\n",
    "        Args:\n",
    "            learning_rate: Step size for iterative solvers only.\n",
    "            max_iter: Maximum number of iterations for the solver.\n",
    "            solver: 'GD' - Gradient Descent | 'Newton' - Newton's Method\n",
    "            theta_0: Initial guess for theta. If None, use the zero vector.\n",
    "            verbose: Print loss and accuracy values during training.\n",
    "        \"\"\"\n",
    "        assert solver == 'GD' or solver == 'Newton', 'Unknown solver'\n",
    "        \n",
    "        self.learning_rate = learning_rate\n",
    "        self.max_iter = max_iter\n",
    "        self.solver = solver          \n",
    "        self.theta = theta_0\n",
    "        self.verbose = verbose\n",
    "\n",
    "    def fit(self, x_train, y_train, x_val, y_val):\n",
    "        \"\"\"Minimize loss(theta) for logistic regression.\n",
    "        Args:\n",
    "            x_train: Training example inputs. Shape (n_examples, dim).\n",
    "            y_train: Training example labels. Shape (n_examples,).\n",
    "        \"\"\"\n",
    "        _, num_features = x_train.shape\n",
    "        self.theta = np.zeros(num_features) if self.theta is None else self.theta        \n",
    "        for i in range(0, self.max_iter+1):\n",
    "            if self.solver == 'GD':\n",
    "                self.__update_theta_via_gradient_descent(x_train, y_train)\n",
    "            else:\n",
    "                self.__update_theta_via_newton_method(x_train, y_train)\n",
    "            loss_train = self.__calculate_loss(x_train, y_train)  \n",
    "            accuracy_train = self.__calculate_accuracy(x_train, y_train)               \n",
    "            accuracy_val = self.__calculate_accuracy(x_val, y_val)                              \n",
    "            if self.verbose and i%10 == 0:\n",
    "                print(f'Iteration {i} : Loss {loss_train:.4f}  | ' + \\\n",
    "                      f'Train Accuarcy {accuracy_train:.4f} | '+\\\n",
    "                      f'Validation Accuarcy {accuracy_val:.4f}')\n",
    "                        \n",
    "    def predict(self, x):\n",
    "        \"\"\"Return predicted probabilities given new inputs x.\n",
    "        Args:\n",
    "            x: Inputs of shape (n_examples, dim).\n",
    "        Returns:\n",
    "            Output Shape (n_examples,).\n",
    "        \"\"\"\n",
    "        pred = 1. / (1+np.exp(-x.dot(self.theta)))\n",
    "        return self.__ravel_np_matrix(pred)\n",
    "    \n",
    "    def __update_theta_via_gradient_descent(self, x, y):\n",
    "        \"\"\"Update theta via gradient descent (only one step).\n",
    "        Args:\n",
    "            x: Inputs Shape (n_examples, dim).\n",
    "            y: Inputs Shape (n_examples,).\n",
    "        \"\"\"\n",
    "        num_examples, _ = x.shape     \n",
    "        y_pred = self.predict(x)\n",
    "        gradient = - (1/num_examples) * self.__ravel_np_matrix(x.T.dot(y - y_pred))\n",
    "        self.theta -= self.learning_rate * gradient\n",
    "        \n",
    "    def __update_theta_via_newton_method(self, x, y):\n",
    "        \"\"\"Update theta via gradient descent (only one step).\n",
    "        Args:\n",
    "            x: Inputs Shape (n_examples, dim).\n",
    "            y: Inputs Shape (n_examples,).\n",
    "        \"\"\"\n",
    "        num_examples, _ = x.shape     \n",
    "        y_pred = self.predict(x)\n",
    "        gradient = - (1/num_examples) * x.T.dot(y - y_pred)\n",
    "        hessian = (1/num_examples) * x.T.dot(np.diag(y_pred*(1-y_pred))).dot(x)\n",
    "        self.theta -= self.learning_rate * \\\n",
    "                 self.__ravel_np_matrix(np.linalg.inv(hessian).dot(gradient.T))\n",
    "        \n",
    "    def __calculate_loss(self, x, y):\n",
    "        \"\"\"Calculate loss based on dataset (x, y).\n",
    "        Args:\n",
    "            x: Inputs Shape (n_examples, dim).\n",
    "            y: Inputs Shape (n_examples,).\n",
    "        Returns:\n",
    "            Outputs Shape scalar.\n",
    "        \"\"\"\n",
    "        num_examples, _ = x.shape\n",
    "        y_pred = self.predict(x)\n",
    "        y_pred_and_y = list(zip(y_pred, y))\n",
    "        loss = - (1/num_examples) * \\\n",
    "               sum([np.log(y_pred) if y == 1 else np.log(1-y_pred) \\\n",
    "                    for y_pred, y in y_pred_and_y])\n",
    "        return loss\n",
    "    \n",
    "    def __calculate_accuracy(self, x, y):\n",
    "        \"\"\"Calculate accuracy based on dataset (x, y).\n",
    "        Args:\n",
    "            x: Inputs Shape (n_examples, dim).\n",
    "            y: Inputs Shape (n_examples,).\n",
    "        Returns:\n",
    "            Outputs Shape scalar.\n",
    "        \"\"\"\n",
    "        num_examples, _ = x.shape  \n",
    "        y_pred = self.predict(x)\n",
    "        y_pred_and_y = list(zip(y_pred, y))\n",
    "        accuracy = (1/num_examples) * \\\n",
    "                   sum([1 if (y_pred > 0.5 and y == 1) or (y_pred <= 0.5 and y == 0) else 0 \\\n",
    "                        for y_pred, y in y_pred_and_y])\n",
    "        return accuracy\n",
    "    \n",
    "    def __ravel_np_matrix(self, np_matrix):\n",
    "        \"\"\"Ravel a np.matrix (1, n) into (n,).\n",
    "        Args:\n",
    "            np_matrix: Inputs Shape (1, n).\n",
    "        Returns:\n",
    "            Output Shape (n,).\n",
    "        \"\"\"\n",
    "        return np.array(np_matrix).ravel()"
   ]
  },
  {
   "cell_type": "markdown",
   "metadata": {},
   "source": [
    "1. Fit"
   ]
  },
  {
   "cell_type": "code",
   "execution_count": 28,
   "metadata": {
    "ExecuteTime": {
     "end_time": "2020-11-23T04:50:59.321255Z",
     "start_time": "2020-11-23T04:50:45.962229Z"
    }
   },
   "outputs": [
    {
     "name": "stdout",
     "output_type": "stream",
     "text": [
      "Iteration 0 : Loss 0.6136  | Train Accuarcy 0.7608 | Validation Accuarcy 0.7663\n",
      "Iteration 10 : Loss 0.5289  | Train Accuarcy 0.7608 | Validation Accuarcy 0.7663\n",
      "Iteration 20 : Loss 0.5164  | Train Accuarcy 0.7608 | Validation Accuarcy 0.7663\n",
      "Iteration 30 : Loss 0.5065  | Train Accuarcy 0.7608 | Validation Accuarcy 0.7663\n",
      "Iteration 40 : Loss 0.4983  | Train Accuarcy 0.7608 | Validation Accuarcy 0.7663\n",
      "Iteration 50 : Loss 0.4914  | Train Accuarcy 0.7608 | Validation Accuarcy 0.7663\n",
      "Iteration 60 : Loss 0.4856  | Train Accuarcy 0.7608 | Validation Accuarcy 0.7663\n",
      "Iteration 70 : Loss 0.4805  | Train Accuarcy 0.7608 | Validation Accuarcy 0.7660\n",
      "Iteration 80 : Loss 0.4761  | Train Accuarcy 0.7721 | Validation Accuarcy 0.7747\n",
      "Iteration 90 : Loss 0.4722  | Train Accuarcy 0.7876 | Validation Accuarcy 0.7903\n",
      "Iteration 100 : Loss 0.4688  | Train Accuarcy 0.7862 | Validation Accuarcy 0.7870\n",
      "Iteration 110 : Loss 0.4658  | Train Accuarcy 0.7836 | Validation Accuarcy 0.7853\n",
      "Iteration 120 : Loss 0.4632  | Train Accuarcy 0.7827 | Validation Accuarcy 0.7833\n",
      "Iteration 130 : Loss 0.4608  | Train Accuarcy 0.7815 | Validation Accuarcy 0.7813\n",
      "Iteration 140 : Loss 0.4587  | Train Accuarcy 0.7802 | Validation Accuarcy 0.7807\n",
      "Iteration 150 : Loss 0.4568  | Train Accuarcy 0.7801 | Validation Accuarcy 0.7800\n",
      "Iteration 160 : Loss 0.4551  | Train Accuarcy 0.7827 | Validation Accuarcy 0.7797\n",
      "Iteration 170 : Loss 0.4535  | Train Accuarcy 0.7855 | Validation Accuarcy 0.7853\n",
      "Iteration 180 : Loss 0.4521  | Train Accuarcy 0.7883 | Validation Accuarcy 0.7873\n",
      "Iteration 190 : Loss 0.4508  | Train Accuarcy 0.7896 | Validation Accuarcy 0.7897\n",
      "Iteration 200 : Loss 0.4496  | Train Accuarcy 0.7901 | Validation Accuarcy 0.7927\n"
     ]
    }
   ],
   "source": [
    "log_reg = LogisticRegression(learning_rate=0.5, solver='GD', max_iter=200)\n",
    "log_reg.fit(X_train, y_train, X_val, y_val)"
   ]
  },
  {
   "cell_type": "markdown",
   "metadata": {},
   "source": [
    "Observation: For solver as gradient descent, 90 iterations is enough. Otherwise, there will be overfitting."
   ]
  },
  {
   "cell_type": "code",
   "execution_count": 29,
   "metadata": {
    "ExecuteTime": {
     "end_time": "2020-11-23T04:51:22.730598Z",
     "start_time": "2020-11-23T04:50:59.324220Z"
    }
   },
   "outputs": [
    {
     "name": "stdout",
     "output_type": "stream",
     "text": [
      "Iteration 0 : Loss 0.5303  | Train Accuarcy 0.7771 | Validation Accuarcy 0.7773\n",
      "Iteration 10 : Loss 0.4299  | Train Accuarcy 0.7924 | Validation Accuarcy 0.7883\n",
      "Iteration 20 : Loss 0.4299  | Train Accuarcy 0.7924 | Validation Accuarcy 0.7883\n",
      "Iteration 30 : Loss 0.4299  | Train Accuarcy 0.7924 | Validation Accuarcy 0.7883\n"
     ]
    }
   ],
   "source": [
    "log_reg = LogisticRegression(learning_rate=0.5, solver='Newton', max_iter=30)\n",
    "log_reg.fit(X_train, y_train, X_val, y_val)"
   ]
  },
  {
   "cell_type": "markdown",
   "metadata": {},
   "source": [
    "Observation: Newton method converges within fewer iterations. But each iteration takes longer (due to the calculation of Heissan matrix)."
   ]
  },
  {
   "cell_type": "markdown",
   "metadata": {},
   "source": [
    "2. Confusion Matrix of Prediction"
   ]
  },
  {
   "cell_type": "code",
   "execution_count": 30,
   "metadata": {
    "ExecuteTime": {
     "end_time": "2020-11-23T04:51:22.778222Z",
     "start_time": "2020-11-23T04:51:22.734685Z"
    }
   },
   "outputs": [
    {
     "name": "stdout",
     "output_type": "stream",
     "text": [
      "Accuracy:  0.7883333333333333\n",
      "Confusion Matrix\n",
      "[[2133  166]\n",
      " [ 469  232]]\n",
      "Classification Report\n",
      "              precision    recall  f1-score   support\n",
      "\n",
      "         0.0       0.82      0.93      0.87      2299\n",
      "         1.0       0.58      0.33      0.42       701\n",
      "\n",
      "    accuracy                           0.79      3000\n",
      "   macro avg       0.70      0.63      0.65      3000\n",
      "weighted avg       0.76      0.79      0.77      3000\n",
      "\n"
     ]
    }
   ],
   "source": [
    "y_pred = log_reg.predict(X_val)\n",
    "y_pred = [1 if y > 0.5 else 0 for y in y_pred]\n",
    "print('Accuracy: ', accuracy_score(y_val, y_pred))\n",
    "print('Confusion Matrix')\n",
    "print(confusion_matrix(y_val, y_pred))\n",
    "print('Classification Report')\n",
    "print(classification_report(y_val, y_pred))"
   ]
  },
  {
   "cell_type": "code",
   "execution_count": 31,
   "metadata": {
    "ExecuteTime": {
     "end_time": "2020-11-23T04:51:23.055349Z",
     "start_time": "2020-11-23T04:51:22.781940Z"
    }
   },
   "outputs": [
    {
     "data": {
      "image/png": "[encoded data removed]",
      "text/plain": [
       "<Figure size 432x288 with 2 Axes>"
      ]
     },
     "metadata": {
      "needs_background": "light"
     },
     "output_type": "display_data"
    }
   ],
   "source": [
    "plot_confusion_matrix(confusion_matrix(y_val, y_pred),classes=range(2))"
   ]
  },
  {
   "cell_type": "code",
   "execution_count": null,
   "metadata": {},
   "outputs": [],
   "source": []
  }
 ],
 "metadata": {
  "kernelspec": {
   "display_name": "Python 3",
   "language": "python",
   "name": "python3"
  },
  "language_info": {
   "codemirror_mode": {
    "name": "ipython",
    "version": 3
   },
   "file_extension": ".py",
   "mimetype": "text/x-python",
   "name": "python",
   "nbconvert_exporter": "python",
   "pygments_lexer": "ipython3",
   "version": "3.6.12"
  },
  "toc": {
   "base_numbering": 1,
   "nav_menu": {},
   "number_sections": true,
   "sideBar": true,
   "skip_h1_title": false,
   "title_cell": "Table of Contents",
   "title_sidebar": "Contents",
   "toc_cell": false,
   "toc_position": {},
   "toc_section_display": true,
   "toc_window_display": false
  }
 },
 "nbformat": 4,
 "nbformat_minor": 4
}
