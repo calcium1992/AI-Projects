{
 "cells": [
  {
   "cell_type": "code",
   "execution_count": 57,
   "metadata": {
    "ExecuteTime": {
     "end_time": "2020-12-26T00:07:01.336241Z",
     "start_time": "2020-12-26T00:07:01.332163Z"
    }
   },
   "outputs": [],
   "source": [
    "import statsmodels.api as sm\n",
    "import numpy as np"
   ]
  },
  {
   "cell_type": "code",
   "execution_count": 67,
   "metadata": {
    "ExecuteTime": {
     "end_time": "2020-12-26T00:26:06.838378Z",
     "start_time": "2020-12-26T00:26:06.700086Z"
    }
   },
   "outputs": [],
   "source": [
    "a = 0.5\n",
    "common = np.random.normal(size=1000000)\n",
    "x1 = a*common + (1-a)*np.random.normal(size=1000000)\n",
    "x2 = a*common + (1-a)*np.random.normal(size=1000000)\n",
    "epsilon = np.random.normal(size=1000000)\n",
    "\n",
    "coeff1 = (0.02-0.01^a^2) / (1-a^4)\n",
    "coeff2 = (0.02-0.01^a^2) / (1-a^4)\n",
    "\n",
    "y = np.sqrt(0.01)*x1 + np.sqrt(0.02)*x2 + np.sqrt(0.97)*epsilon"
   ]
  },
  {
   "cell_type": "code",
   "execution_count": null,
   "metadata": {},
   "outputs": [],
   "source": [
    "x+y*a^2=0.01\n",
    "y+x*a^2=0.02"
   ]
  },
  {
   "cell_type": "code",
   "execution_count": 68,
   "metadata": {
    "ExecuteTime": {
     "end_time": "2020-12-26T00:26:07.124042Z",
     "start_time": "2020-12-26T00:26:07.058322Z"
    }
   },
   "outputs": [
    {
     "data": {
      "text/plain": [
       "0.014659283272500545"
      ]
     },
     "execution_count": 68,
     "metadata": {},
     "output_type": "execute_result"
    }
   ],
   "source": [
    "model1 = sm.OLS(y, x1).fit()\n",
    "model1.rsquared"
   ]
  },
  {
   "cell_type": "code",
   "execution_count": 69,
   "metadata": {
    "ExecuteTime": {
     "end_time": "2020-12-26T00:26:08.395465Z",
     "start_time": "2020-12-26T00:26:08.333958Z"
    }
   },
   "outputs": [
    {
     "data": {
      "text/plain": [
       "0.018641922186400706"
      ]
     },
     "execution_count": 69,
     "metadata": {},
     "output_type": "execute_result"
    }
   ],
   "source": [
    "model2 = sm.OLS(y, x2).fit()\n",
    "model2.rsquared"
   ]
  },
  {
   "cell_type": "code",
   "execution_count": 61,
   "metadata": {
    "ExecuteTime": {
     "end_time": "2020-12-26T00:07:02.912306Z",
     "start_time": "2020-12-26T00:07:02.770573Z"
    }
   },
   "outputs": [
    {
     "data": {
      "text/plain": [
       "0.9523758961893711"
      ]
     },
     "execution_count": 61,
     "metadata": {},
     "output_type": "execute_result"
    }
   ],
   "source": [
    "model3 = sm.OLS(y, np.stack((x1, x2), axis=1)).fit()\n",
    "model3.rsquared"
   ]
  },
  {
   "cell_type": "code",
   "execution_count": 62,
   "metadata": {
    "ExecuteTime": {
     "end_time": "2020-12-26T00:07:03.241090Z",
     "start_time": "2020-12-26T00:07:03.235298Z"
    }
   },
   "outputs": [
    {
     "data": {
      "text/plain": [
       "-0.0009745128026861227"
      ]
     },
     "execution_count": 62,
     "metadata": {},
     "output_type": "execute_result"
    }
   ],
   "source": [
    "model3.rsquared - model2.rsquared - model1.rsquared"
   ]
  },
  {
   "cell_type": "code",
   "execution_count": null,
   "metadata": {},
   "outputs": [],
   "source": []
  }
 ],
 "metadata": {
  "kernelspec": {
   "display_name": "Python 3",
   "language": "python",
   "name": "python3"
  },
  "language_info": {
   "codemirror_mode": {
    "name": "ipython",
    "version": 3
   },
   "file_extension": ".py",
   "mimetype": "text/x-python",
   "name": "python",
   "nbconvert_exporter": "python",
   "pygments_lexer": "ipython3",
   "version": "3.6.12"
  },
  "toc": {
   "base_numbering": 1,
   "nav_menu": {},
   "number_sections": true,
   "sideBar": true,
   "skip_h1_title": false,
   "title_cell": "Table of Contents",
   "title_sidebar": "Contents",
   "toc_cell": false,
   "toc_position": {},
   "toc_section_display": true,
   "toc_window_display": false
  }
 },
 "nbformat": 4,
 "nbformat_minor": 4
}
