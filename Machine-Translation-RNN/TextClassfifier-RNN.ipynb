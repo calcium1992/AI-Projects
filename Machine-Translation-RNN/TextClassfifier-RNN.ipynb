{
 "cells": [
  {
   "cell_type": "markdown",
   "metadata": {
    "ExecuteTime": {
     "end_time": "2020-10-17T02:58:27.534198Z",
     "start_time": "2020-10-17T02:58:26.418726Z"
    }
   },
   "source": [
    "Data: https://drive.google.com/file/d/1HneKy22aVGKYlSC8p4Cttd6-DKdFdY83/view?usp=sharing"
   ]
  },
  {
   "cell_type": "markdown",
   "metadata": {
    "ExecuteTime": {
     "end_time": "2020-12-29T22:54:13.823497Z",
     "start_time": "2020-12-29T22:54:13.819768Z"
    }
   },
   "source": [
    "Tutorial: https://github.com/jiuzhangjiangzuo/AICamp1.NLP"
   ]
  },
  {
   "cell_type": "code",
   "execution_count": 1,
   "metadata": {
    "ExecuteTime": {
     "end_time": "2021-01-15T04:57:33.131621Z",
     "start_time": "2021-01-15T04:57:32.497661Z"
    }
   },
   "outputs": [],
   "source": [
    "import numpy as np\n",
    "import pandas as pd\n",
    "from tqdm import tqdm\n",
    "import warnings\n",
    "warnings.filterwarnings('ignore')"
   ]
  },
  {
   "cell_type": "code",
   "execution_count": 2,
   "metadata": {
    "ExecuteTime": {
     "end_time": "2021-01-15T04:57:33.136966Z",
     "start_time": "2021-01-15T04:57:33.134406Z"
    }
   },
   "outputs": [],
   "source": [
    "TRAIN_DIR = '/Users/songyihe/Documents/Study/AI_Projects/large-datasets/english-chinese/segmented_train_seg_by_word.txt'"
   ]
  },
  {
   "cell_type": "markdown",
   "metadata": {},
   "source": [
    "# Load Data"
   ]
  },
  {
   "cell_type": "code",
   "execution_count": 3,
   "metadata": {
    "ExecuteTime": {
     "end_time": "2021-01-15T04:57:33.143185Z",
     "start_time": "2021-01-15T04:57:33.140451Z"
    }
   },
   "outputs": [],
   "source": [
    "SENTENCE_LEN = 4"
   ]
  },
  {
   "cell_type": "code",
   "execution_count": 4,
   "metadata": {
    "ExecuteTime": {
     "end_time": "2021-01-15T04:58:47.022001Z",
     "start_time": "2021-01-15T04:57:33.145422Z"
    }
   },
   "outputs": [
    {
     "name": "stderr",
     "output_type": "stream",
     "text": [
      "20000000it [01:13, 270759.51it/s]\n"
     ]
    }
   ],
   "source": [
    "eng_lines, ch_lines = [], []\n",
    "with open(TRAIN_DIR) as file:\n",
    "    num_line = 0\n",
    "    for line in tqdm(file):\n",
    "        num_line += 1\n",
    "        if num_line % 2 == 1:\n",
    "            eng_line = [i.lower() for i in line.strip('\\n').split()]\n",
    "            continue\n",
    "        else:\n",
    "            ch_line = [i for i in line.strip('\\n').split()]\n",
    "            \n",
    "        if len(eng_line) <= SENTENCE_LEN and len(ch_line) <= SENTENCE_LEN:\n",
    "            eng_lines.append(eng_line)\n",
    "            ch_lines.append(ch_line)"
   ]
  },
  {
   "cell_type": "code",
   "execution_count": 5,
   "metadata": {
    "ExecuteTime": {
     "end_time": "2021-01-15T04:58:47.028195Z",
     "start_time": "2021-01-15T04:58:47.024559Z"
    }
   },
   "outputs": [
    {
     "name": "stdout",
     "output_type": "stream",
     "text": [
      "English Lines: 150904\n",
      "Chinese Lines: 150904\n"
     ]
    }
   ],
   "source": [
    "print(f'English Lines: {len(eng_lines)}')\n",
    "print(f'Chinese Lines: {len(ch_lines)}')"
   ]
  },
  {
   "cell_type": "code",
   "execution_count": 6,
   "metadata": {
    "ExecuteTime": {
     "end_time": "2021-01-15T04:58:47.033565Z",
     "start_time": "2021-01-15T04:58:47.030427Z"
    }
   },
   "outputs": [
    {
     "name": "stdout",
     "output_type": "stream",
     "text": [
      "['deuces', 'the', 'winner', '.']\n",
      "['一对二', '胜', '。']\n"
     ]
    }
   ],
   "source": [
    "print(eng_lines[0])\n",
    "print(ch_lines[0])"
   ]
  },
  {
   "cell_type": "markdown",
   "metadata": {},
   "source": [
    "# Build Vocab"
   ]
  },
  {
   "cell_type": "code",
   "execution_count": 7,
   "metadata": {
    "ExecuteTime": {
     "end_time": "2021-01-15T04:58:47.040847Z",
     "start_time": "2021-01-15T04:58:47.038117Z"
    }
   },
   "outputs": [],
   "source": [
    "from collections import Counter"
   ]
  },
  {
   "cell_type": "code",
   "execution_count": 8,
   "metadata": {
    "ExecuteTime": {
     "end_time": "2021-01-15T04:58:47.272225Z",
     "start_time": "2021-01-15T04:58:47.044094Z"
    }
   },
   "outputs": [],
   "source": [
    "vocab = []\n",
    "\n",
    "for sentence in eng_lines:\n",
    "    for word in sentence:\n",
    "        vocab.append(word)\n",
    "        \n",
    "for sentence in ch_lines:\n",
    "    for word in sentence:\n",
    "        vocab.append(word)"
   ]
  },
  {
   "cell_type": "code",
   "execution_count": 9,
   "metadata": {
    "ExecuteTime": {
     "end_time": "2021-01-15T04:58:47.522983Z",
     "start_time": "2021-01-15T04:58:47.275282Z"
    }
   },
   "outputs": [
    {
     "name": "stdout",
     "output_type": "stream",
     "text": [
      "Most Common Word: [('.', 69213), ('。', 64997), ('？', 18494), ('?', 18486), ('的', 15156), ('...', 15073), (',', 13814), ('，', 12598), ('the', 11865), ('我', 11374)]\n"
     ]
    }
   ],
   "source": [
    "print(f'Most Common Word: {Counter(vocab).most_common(10)}')"
   ]
  },
  {
   "cell_type": "code",
   "execution_count": 10,
   "metadata": {
    "ExecuteTime": {
     "end_time": "2021-01-15T04:58:47.529762Z",
     "start_time": "2021-01-15T04:58:47.525525Z"
    }
   },
   "outputs": [],
   "source": [
    "def add_word_to_dict(word2idx, idx2word, word):\n",
    "    if word in word2idx:\n",
    "        return\n",
    "    index = len(word2idx)\n",
    "    word2idx[word] = index\n",
    "    idx2word[index] = word"
   ]
  },
  {
   "cell_type": "code",
   "execution_count": 11,
   "metadata": {
    "ExecuteTime": {
     "end_time": "2021-01-15T04:58:47.828144Z",
     "start_time": "2021-01-15T04:58:47.533015Z"
    }
   },
   "outputs": [],
   "source": [
    "spec_words = ['<pad>','<unk>']\n",
    "word2idx, idx2word = {}, {}\n",
    "\n",
    "for word in spec_words:\n",
    "    add_word_to_dict(word2idx, idx2word, word)\n",
    "    \n",
    "for word, _ in Counter(vocab).most_common(10000):\n",
    "    add_word_to_dict(word2idx, idx2word, word)"
   ]
  },
  {
   "cell_type": "code",
   "execution_count": 12,
   "metadata": {
    "ExecuteTime": {
     "end_time": "2021-01-15T04:58:47.834144Z",
     "start_time": "2021-01-15T04:58:47.830878Z"
    }
   },
   "outputs": [
    {
     "name": "stdout",
     "output_type": "stream",
     "text": [
      "Size of English Dict: 10002\n"
     ]
    }
   ],
   "source": [
    "print(f'Size of English Dict: {len(word2idx)}')"
   ]
  },
  {
   "cell_type": "markdown",
   "metadata": {},
   "source": [
    "# Prepare Data"
   ]
  },
  {
   "cell_type": "code",
   "execution_count": 13,
   "metadata": {
    "ExecuteTime": {
     "end_time": "2021-01-15T04:58:52.326531Z",
     "start_time": "2021-01-15T04:58:47.836941Z"
    }
   },
   "outputs": [],
   "source": [
    "import tensorflow.compat.v1 as tf"
   ]
  },
  {
   "cell_type": "code",
   "execution_count": 14,
   "metadata": {
    "ExecuteTime": {
     "end_time": "2021-01-15T04:58:53.019547Z",
     "start_time": "2021-01-15T04:58:52.328465Z"
    }
   },
   "outputs": [],
   "source": [
    "data_x_in, data_label = [], []\n",
    "\n",
    "for eng_line in eng_lines:\n",
    "    indices = [word2idx.get(word, word2idx['<unk>'])for word in eng_line]\n",
    "    data_x_in.append(indices)\n",
    "    data_label.append(1)\n",
    "    \n",
    "for ch_line in ch_lines:\n",
    "    indices = [word2idx.get(word, word2idx['<unk>'])for word in ch_line]\n",
    "    data_x_in.append(indices)\n",
    "    data_label.append(0)"
   ]
  },
  {
   "cell_type": "code",
   "execution_count": 15,
   "metadata": {
    "ExecuteTime": {
     "end_time": "2021-01-15T04:58:53.026016Z",
     "start_time": "2021-01-15T04:58:53.021808Z"
    }
   },
   "outputs": [
    {
     "name": "stdout",
     "output_type": "stream",
     "text": [
      "['husband', 'and', 'wife', '.']\n"
     ]
    }
   ],
   "source": [
    "print([idx2word[idx] for idx in data_x_in[6]])"
   ]
  },
  {
   "cell_type": "code",
   "execution_count": 16,
   "metadata": {
    "ExecuteTime": {
     "end_time": "2021-01-15T04:58:54.463756Z",
     "start_time": "2021-01-15T04:58:53.028314Z"
    }
   },
   "outputs": [],
   "source": [
    "data_x_in = tf.keras.preprocessing.sequence.pad_sequences(data_x_in, padding='post', \n",
    "                                                          value=word2idx['<pad>'])\n",
    "data_label = np.asarray(data_label)"
   ]
  },
  {
   "cell_type": "code",
   "execution_count": 17,
   "metadata": {
    "ExecuteTime": {
     "end_time": "2021-01-15T04:58:54.468688Z",
     "start_time": "2021-01-15T04:58:54.465564Z"
    }
   },
   "outputs": [
    {
     "name": "stdout",
     "output_type": "stream",
     "text": [
      "data_x_in shape: (301808, 4)\n",
      "data_label shape: (301808,)\n"
     ]
    }
   ],
   "source": [
    "print(f'data_x_in shape: {data_x_in.shape}')\n",
    "print(f'data_label shape: {data_label.shape}')"
   ]
  },
  {
   "cell_type": "markdown",
   "metadata": {},
   "source": [
    "# Model"
   ]
  },
  {
   "cell_type": "code",
   "execution_count": 18,
   "metadata": {
    "ExecuteTime": {
     "end_time": "2021-01-15T04:58:54.473304Z",
     "start_time": "2021-01-15T04:58:54.470847Z"
    }
   },
   "outputs": [],
   "source": [
    "import tensorflow.compat.v1 as tf"
   ]
  },
  {
   "cell_type": "code",
   "execution_count": 19,
   "metadata": {
    "ExecuteTime": {
     "end_time": "2021-01-15T04:58:54.477807Z",
     "start_time": "2021-01-15T04:58:54.475338Z"
    }
   },
   "outputs": [],
   "source": [
    "EMB_SIZE = 100\n",
    "VOCAB_SIZE = len(idx2word)\n",
    "HIDDEN_SIZE = 50"
   ]
  },
  {
   "cell_type": "code",
   "execution_count": 20,
   "metadata": {
    "ExecuteTime": {
     "end_time": "2021-01-15T04:58:54.899309Z",
     "start_time": "2021-01-15T04:58:54.479823Z"
    }
   },
   "outputs": [
    {
     "name": "stdout",
     "output_type": "stream",
     "text": [
      "WARNING:tensorflow:From <ipython-input-20-36ca36760ddc>:27: dynamic_rnn (from tensorflow.python.ops.rnn) is deprecated and will be removed in a future version.\n",
      "Instructions for updating:\n",
      "Please use `keras.layers.RNN(cell)`, which is equivalent to this API\n",
      "WARNING:tensorflow:From /Users/songyihe/opt/anaconda3/envs/ai_camp/lib/python3.6/site-packages/tensorflow/python/keras/layers/legacy_rnn/rnn_cell_impl.py:753: calling Zeros.__init__ (from tensorflow.python.ops.init_ops) with dtype is deprecated and will be removed in a future version.\n",
      "Instructions for updating:\n",
      "Call initializer instance with the dtype argument instead of passing it to the constructor\n"
     ]
    }
   ],
   "source": [
    "rnn_graph = tf.Graph()\n",
    "with rnn_graph.as_default():      \n",
    "    # Initializer\n",
    "    initializer = tf.random_uniform_initializer(-0.08, 0.08)\n",
    "    tf.get_variable_scope().set_initializer(initializer)\n",
    "        \n",
    "    # Model Inputs\n",
    "    x_in = tf.placeholder(dtype=tf.int32, shape=[None, None])\n",
    "    x_len = tf.placeholder(dtype=tf.int32, shape=[None])\n",
    "    label = tf.placeholder(dtype=tf.int32, shape=[None])\n",
    "    learning_rate = tf.placeholder(dtype=tf.float32, shape=[])\n",
    "        \n",
    "    # Embedding\n",
    "    embedding_encoder = tf.get_variable(name=\"embedding_encoder\", \n",
    "                                        shape=[VOCAB_SIZE, EMB_SIZE],\n",
    "                                        dtype=tf.float32)\n",
    "    encoder_emb_inp = tf.nn.embedding_lookup(embedding_encoder, x_in)\n",
    "        \n",
    "    # RNN Cell\n",
    "    encoder_cell = tf.nn.rnn_cell.BasicLSTMCell(HIDDEN_SIZE)\n",
    "        \n",
    "    # Run Dynamic RNN\n",
    "    encoder_outputs, encoder_state = tf.nn.dynamic_rnn(encoder_cell, \n",
    "                                                       encoder_emb_inp,\n",
    "                                                       sequence_length=x_len,\n",
    "                                                       time_major=False,\n",
    "                                                       dtype=tf.float32)\n",
    "        \n",
    "    # Classifier\n",
    "    model_logistic = tf.layers.dense(encoder_state[0],1)\n",
    "    model_pred = tf.nn.sigmoid(model_logistic)\n",
    "        \n",
    "    # Loss\n",
    "    loss = tf.nn.sigmoid_cross_entropy_with_logits(labels=tf.cast(label, tf.float32),\n",
    "                                                   logits=tf.reshape(model_logistic,(-1,)))\n",
    "    loss = tf.reduce_mean(loss)\n",
    "        \n",
    "    # Optimizer\n",
    "    optimizer = tf.train.GradientDescentOptimizer(learning_rate=learning_rate).minimize(loss)"
   ]
  },
  {
   "cell_type": "markdown",
   "metadata": {},
   "source": [
    "# Train and Predict"
   ]
  },
  {
   "cell_type": "code",
   "execution_count": 21,
   "metadata": {
    "ExecuteTime": {
     "end_time": "2021-01-15T04:58:54.903225Z",
     "start_time": "2021-01-15T04:58:54.901040Z"
    }
   },
   "outputs": [],
   "source": [
    "BATCH_SIZE = 256"
   ]
  },
  {
   "cell_type": "code",
   "execution_count": 22,
   "metadata": {
    "ExecuteTime": {
     "end_time": "2021-01-15T04:59:19.391877Z",
     "start_time": "2021-01-15T04:58:54.908737Z"
    }
   },
   "outputs": [
    {
     "name": "stderr",
     "output_type": "stream",
     "text": [
      "100%|██████████| 1179/1179 [00:11<00:00, 98.81it/s] \n",
      "100%|██████████| 1179/1179 [00:12<00:00, 96.44it/s]\n"
     ]
    },
    {
     "name": "stdout",
     "output_type": "stream",
     "text": [
      "你 吃 了 吗 --> 中文 with probability [1.10177e-06]\n"
     ]
    }
   ],
   "source": [
    "with tf.Session(graph=rnn_graph) as sess:\n",
    "    sess.run(tf.global_variables_initializer())\n",
    "    \n",
    "    # Train\n",
    "    losses = []\n",
    "    for epoch in range(0,2):\n",
    "        data_indices = np.asarray(list(range(len(data_x_in))))\n",
    "        np.random.shuffle(data_indices)      \n",
    "        for index in tqdm(range(0, len(data_indices), BATCH_SIZE)):\n",
    "            batch_indices = data_indices[index: index+BATCH_SIZE]\n",
    "            batch_x_in = data_x_in[batch_indices]\n",
    "            batch_x_len = np.asarray([len(i) for i in batch_x_in])\n",
    "            batch_label = data_label[batch_indices]\n",
    "            \n",
    "            _,batch_loss = sess.run([optimizer, loss],feed_dict={\n",
    "                x_in: batch_x_in,\n",
    "                x_len: batch_x_len,\n",
    "                label: batch_label,\n",
    "                learning_rate: 0.1\n",
    "            })\n",
    "            losses.append(batch_loss)\n",
    "            \n",
    "    # Predict for a Sample\n",
    "    sample_sentence = '你 吃 了 吗'\n",
    "    indices = [word2idx[i.lower()] for i in sample_sentence.split()]\n",
    "    batch_x_in = np.asarray([indices])\n",
    "    batch_x_len = np.asarray([len(indices)])\n",
    "    predict = sess.run(model_pred, feed_dict={\n",
    "        x_in: batch_x_in,\n",
    "        x_len: batch_x_len,\n",
    "    })[0]\n",
    "    predict_label = '英文' if predict > 0.5 else '中文'\n",
    "    print(f'{sample_sentence} --> {predict_label} with probability {predict}')"
   ]
  },
  {
   "cell_type": "code",
   "execution_count": 23,
   "metadata": {
    "ExecuteTime": {
     "end_time": "2021-01-15T04:59:20.183833Z",
     "start_time": "2021-01-15T04:59:19.394178Z"
    }
   },
   "outputs": [
    {
     "data": {
      "text/plain": [
       "<AxesSubplot:>"
      ]
     },
     "execution_count": 23,
     "metadata": {},
     "output_type": "execute_result"
    },
    {
     "data": {
      "image/png": "[encoded data removed]",
      "text/plain": [
       "<Figure size 432x288 with 1 Axes>"
      ]
     },
     "metadata": {
      "needs_background": "light"
     },
     "output_type": "display_data"
    }
   ],
   "source": [
    "pd.DataFrame(losses).plot()"
   ]
  }
 ],
 "metadata": {
  "kernelspec": {
   "display_name": "Python 3",
   "language": "python",
   "name": "python3"
  },
  "language_info": {
   "codemirror_mode": {
    "name": "ipython",
    "version": 3
   },
   "file_extension": ".py",
   "mimetype": "text/x-python",
   "name": "python",
   "nbconvert_exporter": "python",
   "pygments_lexer": "ipython3",
   "version": "3.6.12"
  },
  "toc": {
   "base_numbering": 1,
   "nav_menu": {},
   "number_sections": true,
   "sideBar": true,
   "skip_h1_title": false,
   "title_cell": "Table of Contents",
   "title_sidebar": "Contents",
   "toc_cell": false,
   "toc_position": {},
   "toc_section_display": true,
   "toc_window_display": false
  },
  "varInspector": {
   "cols": {
    "lenName": 16,
    "lenType": 16,
    "lenVar": 40
   },
   "kernels_config": {
    "python": {
     "delete_cmd_postfix": "",
     "delete_cmd_prefix": "del ",
     "library": "var_list.py",
     "varRefreshCmd": "print(var_dic_list())"
    },
    "r": {
     "delete_cmd_postfix": ") ",
     "delete_cmd_prefix": "rm(",
     "library": "var_list.r",
     "varRefreshCmd": "cat(var_dic_list()) "
    }
   },
   "types_to_exclude": [
    "module",
    "function",
    "builtin_function_or_method",
    "instance",
    "_Feature"
   ],
   "window_display": false
  }
 },
 "nbformat": 4,
 "nbformat_minor": 4
}
