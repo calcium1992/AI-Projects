{
 "cells": [
  {
   "cell_type": "markdown",
   "metadata": {
    "ExecuteTime": {
     "end_time": "2020-10-17T02:58:27.534198Z",
     "start_time": "2020-10-17T02:58:26.418726Z"
    }
   },
   "source": [
    "Data: https://drive.google.com/file/d/1HneKy22aVGKYlSC8p4Cttd6-DKdFdY83/view?usp=sharing"
   ]
  },
  {
   "cell_type": "markdown",
   "metadata": {
    "ExecuteTime": {
     "end_time": "2020-12-29T22:54:13.823497Z",
     "start_time": "2020-12-29T22:54:13.819768Z"
    }
   },
   "source": [
    "Tutorial: https://github.com/jiuzhangjiangzuo/AICamp1.NLP"
   ]
  },
  {
   "cell_type": "code",
   "execution_count": 1,
   "metadata": {
    "ExecuteTime": {
     "end_time": "2021-01-16T01:29:54.208794Z",
     "start_time": "2021-01-16T01:29:53.583134Z"
    }
   },
   "outputs": [],
   "source": [
    "import numpy as np\n",
    "import pandas as pd\n",
    "from tqdm import tqdm\n",
    "import warnings\n",
    "warnings.filterwarnings('ignore')"
   ]
  },
  {
   "cell_type": "code",
   "execution_count": 2,
   "metadata": {
    "ExecuteTime": {
     "end_time": "2021-01-16T01:29:54.217772Z",
     "start_time": "2021-01-16T01:29:54.214056Z"
    }
   },
   "outputs": [],
   "source": [
    "TRAIN_DIR = '/Users/songyihe/Documents/Study/AI_Projects/large-datasets/english-chinese/segmented_train_seg_by_word.txt'"
   ]
  },
  {
   "cell_type": "markdown",
   "metadata": {},
   "source": [
    "# Load Data"
   ]
  },
  {
   "cell_type": "code",
   "execution_count": 3,
   "metadata": {
    "ExecuteTime": {
     "end_time": "2021-01-16T01:29:54.225002Z",
     "start_time": "2021-01-16T01:29:54.221808Z"
    }
   },
   "outputs": [],
   "source": [
    "SENTENCE_LEN = 5"
   ]
  },
  {
   "cell_type": "code",
   "execution_count": 4,
   "metadata": {
    "ExecuteTime": {
     "end_time": "2021-01-16T01:30:52.086118Z",
     "start_time": "2021-01-16T01:29:54.227998Z"
    }
   },
   "outputs": [
    {
     "name": "stderr",
     "output_type": "stream",
     "text": [
      "20000000it [00:57, 345750.18it/s]\n"
     ]
    }
   ],
   "source": [
    "eng_lines, ch_lines = [], []\n",
    "with open(TRAIN_DIR) as file:\n",
    "    num_line = 0\n",
    "    for line in tqdm(file):\n",
    "        num_line += 1\n",
    "        if num_line % 2 == 1:\n",
    "            eng_line = [i.lower() for i in line.strip('\\n').split()]\n",
    "            continue\n",
    "        else:\n",
    "            ch_line = [i for i in line.strip('\\n').replace(' ', '')]\n",
    "            \n",
    "        if len(eng_line) <= SENTENCE_LEN and len(ch_line) <= SENTENCE_LEN:\n",
    "            eng_lines.append(eng_line)\n",
    "            ch_lines.append(ch_line)"
   ]
  },
  {
   "cell_type": "code",
   "execution_count": 5,
   "metadata": {
    "ExecuteTime": {
     "end_time": "2021-01-16T01:30:52.091175Z",
     "start_time": "2021-01-16T01:30:52.088087Z"
    }
   },
   "outputs": [
    {
     "name": "stdout",
     "output_type": "stream",
     "text": [
      "English Lines: 103912\n",
      "Chinese Lines: 103912\n"
     ]
    }
   ],
   "source": [
    "print(f'English Lines: {len(eng_lines)}')\n",
    "print(f'Chinese Lines: {len(ch_lines)}')"
   ]
  },
  {
   "cell_type": "code",
   "execution_count": 6,
   "metadata": {
    "ExecuteTime": {
     "end_time": "2021-01-16T01:30:52.097009Z",
     "start_time": "2021-01-16T01:30:52.093746Z"
    }
   },
   "outputs": [
    {
     "name": "stdout",
     "output_type": "stream",
     "text": [
      "['deuces', 'the', 'winner', '.']\n",
      "['一', '对', '二', '胜', '。']\n"
     ]
    }
   ],
   "source": [
    "print(eng_lines[0])\n",
    "print(ch_lines[0])"
   ]
  },
  {
   "cell_type": "markdown",
   "metadata": {},
   "source": [
    "# Build Vocab"
   ]
  },
  {
   "cell_type": "code",
   "execution_count": 7,
   "metadata": {
    "ExecuteTime": {
     "end_time": "2021-01-16T01:30:52.103873Z",
     "start_time": "2021-01-16T01:30:52.101533Z"
    }
   },
   "outputs": [],
   "source": [
    "from collections import Counter"
   ]
  },
  {
   "cell_type": "code",
   "execution_count": 8,
   "metadata": {
    "ExecuteTime": {
     "end_time": "2021-01-16T01:30:52.248029Z",
     "start_time": "2021-01-16T01:30:52.107135Z"
    }
   },
   "outputs": [],
   "source": [
    "eng_vocab, ch_vocab = [], []\n",
    "\n",
    "for sentence in eng_lines:\n",
    "    for word in sentence:\n",
    "        eng_vocab.append(word)\n",
    "        \n",
    "for sentence in ch_lines:\n",
    "    for word in sentence:\n",
    "        ch_vocab.append(word)"
   ]
  },
  {
   "cell_type": "code",
   "execution_count": 9,
   "metadata": {
    "ExecuteTime": {
     "end_time": "2021-01-16T01:30:52.366100Z",
     "start_time": "2021-01-16T01:30:52.250204Z"
    }
   },
   "outputs": [
    {
     "name": "stdout",
     "output_type": "stream",
     "text": [
      "Most Common English Word: [('.', 49461), ('?', 14511), ('the', 10472), ('i', 10013), (',', 9489), ('!', 8807), ('you', 7493), ('a', 6860), (\"'\", 5555), ('it', 5524)]\n",
      "Most Common Chinese Word: [('。', 44900), ('我', 15087), ('？', 14454), ('你', 9087), ('！', 8915), ('了', 8663), ('的', 8053), ('，', 7291), ('一', 6091), ('是', 5946)]\n"
     ]
    }
   ],
   "source": [
    "print(f'Most Common English Word: {Counter(eng_vocab).most_common(10)}')\n",
    "print(f'Most Common Chinese Word: {Counter(ch_vocab).most_common(10)}')"
   ]
  },
  {
   "cell_type": "code",
   "execution_count": 10,
   "metadata": {
    "ExecuteTime": {
     "end_time": "2021-01-16T01:30:52.371516Z",
     "start_time": "2021-01-16T01:30:52.368462Z"
    }
   },
   "outputs": [],
   "source": [
    "def add_word_to_dict(word2idx, idx2word, word):\n",
    "    if word in word2idx:\n",
    "        return\n",
    "    index = len(word2idx)\n",
    "    word2idx[word] = index\n",
    "    idx2word[index] = word"
   ]
  },
  {
   "cell_type": "code",
   "execution_count": 11,
   "metadata": {
    "ExecuteTime": {
     "end_time": "2021-01-16T01:30:52.431182Z",
     "start_time": "2021-01-16T01:30:52.373552Z"
    }
   },
   "outputs": [],
   "source": [
    "spec_words = ['<eos>','<start>','<end>','<unk>']\n",
    "eng_word2idx, eng_idx2word, ch_word2idx, ch_idx2word = {}, {}, {}, {}\n",
    "\n",
    "for word in spec_words:\n",
    "    add_word_to_dict(eng_word2idx, eng_idx2word, word)\n",
    "    add_word_to_dict(ch_word2idx, ch_idx2word, word)\n",
    "    \n",
    "for word in set(eng_vocab):\n",
    "    add_word_to_dict(eng_word2idx, eng_idx2word, word)\n",
    "    \n",
    "for word in set(ch_vocab):\n",
    "    add_word_to_dict(ch_word2idx, ch_idx2word, word)"
   ]
  },
  {
   "cell_type": "code",
   "execution_count": 12,
   "metadata": {
    "ExecuteTime": {
     "end_time": "2021-01-16T01:30:52.436216Z",
     "start_time": "2021-01-16T01:30:52.433451Z"
    }
   },
   "outputs": [
    {
     "name": "stdout",
     "output_type": "stream",
     "text": [
      "Size of English Dict: 21743\n",
      "Size of Chinese Dict: 4058\n"
     ]
    }
   ],
   "source": [
    "print(f'Size of English Dict: {len(eng_word2idx)}')\n",
    "print(f'Size of Chinese Dict: {len(ch_word2idx)}')"
   ]
  },
  {
   "cell_type": "markdown",
   "metadata": {},
   "source": [
    "# Prepare Data"
   ]
  },
  {
   "cell_type": "code",
   "execution_count": 13,
   "metadata": {
    "ExecuteTime": {
     "end_time": "2021-01-16T01:30:56.445517Z",
     "start_time": "2021-01-16T01:30:52.438170Z"
    }
   },
   "outputs": [],
   "source": [
    "import tensorflow.compat.v1 as tf"
   ]
  },
  {
   "cell_type": "code",
   "execution_count": 14,
   "metadata": {
    "ExecuteTime": {
     "end_time": "2021-01-16T01:30:57.122956Z",
     "start_time": "2021-01-16T01:30:56.448318Z"
    }
   },
   "outputs": [],
   "source": [
    "data_x_in, data_y_in, data_y_out = [], [], []\n",
    "data_x_len, data_y_len = [], []\n",
    "\n",
    "for eng_line in eng_lines:\n",
    "    indices = [eng_word2idx.get(word, eng_word2idx['<unk>'])for word in eng_line] + [eng_word2idx['<eos>']]\n",
    "    data_x_in.append(indices)\n",
    "    data_x_len.append(len(indices))\n",
    "    \n",
    "for ch_line in ch_lines:\n",
    "    indices = [ch_word2idx.get(word, ch_word2idx['<unk>'])for word in ch_line]\n",
    "    data_y_in.append([ch_word2idx['<start>']] + indices)\n",
    "    data_y_out.append(indices + [ch_word2idx['<eos>']])\n",
    "    data_y_len.append(len(indices) + 1)"
   ]
  },
  {
   "cell_type": "code",
   "execution_count": 15,
   "metadata": {
    "ExecuteTime": {
     "end_time": "2021-01-16T01:30:57.128703Z",
     "start_time": "2021-01-16T01:30:57.124698Z"
    }
   },
   "outputs": [
    {
     "name": "stdout",
     "output_type": "stream",
     "text": [
      "['deuces', 'the', 'winner', '.', '<eos>']\n",
      "['<start>', '一', '对', '二', '胜', '。']\n",
      "['一', '对', '二', '胜', '。', '<eos>']\n"
     ]
    }
   ],
   "source": [
    "print([eng_idx2word[idx] for idx in data_x_in[0]])\n",
    "print([ch_idx2word[idx] for idx in data_y_in[0]])\n",
    "print([ch_idx2word[idx] for idx in data_y_out[0]])"
   ]
  },
  {
   "cell_type": "code",
   "execution_count": 16,
   "metadata": {
    "ExecuteTime": {
     "end_time": "2021-01-16T01:30:58.517521Z",
     "start_time": "2021-01-16T01:30:57.131439Z"
    }
   },
   "outputs": [],
   "source": [
    "data_x_in_pad = tf.keras.preprocessing.sequence.pad_sequences(data_x_in, padding='post', value=eng_word2idx['<eos>'])\n",
    "data_y_in_pad = tf.keras.preprocessing.sequence.pad_sequences(data_y_in, padding='post', value=eng_word2idx['<end>'])\n",
    "data_y_out_pad = tf.keras.preprocessing.sequence.pad_sequences(data_y_out, padding='post', value=eng_word2idx['<end>'])\n",
    "\n",
    "data_x_len = np.asarray(data_x_len)\n",
    "data_y_len = np.asarray(data_y_len)"
   ]
  },
  {
   "cell_type": "code",
   "execution_count": 17,
   "metadata": {
    "ExecuteTime": {
     "end_time": "2021-01-16T01:30:58.524543Z",
     "start_time": "2021-01-16T01:30:58.520096Z"
    }
   },
   "outputs": [
    {
     "name": "stdout",
     "output_type": "stream",
     "text": [
      "data_x_in_pad shape: (103912, 6)\n",
      "data_y_in_pad shape: (103912, 6)\n",
      "data_y_out_pad shape: (103912, 6)\n",
      "data_x_len shape: (103912,)\n",
      "data_y_len shape: (103912,)\n"
     ]
    }
   ],
   "source": [
    "print(f'data_x_in_pad shape: {data_x_in_pad.shape}')\n",
    "print(f'data_y_in_pad shape: {data_y_in_pad.shape}')\n",
    "print(f'data_y_out_pad shape: {data_y_out_pad.shape}')\n",
    "print(f'data_x_len shape: {data_x_len.shape}')\n",
    "print(f'data_y_len shape: {data_y_len.shape}')"
   ]
  },
  {
   "cell_type": "markdown",
   "metadata": {},
   "source": [
    "# Model"
   ]
  },
  {
   "cell_type": "code",
   "execution_count": 18,
   "metadata": {
    "ExecuteTime": {
     "end_time": "2021-01-16T01:30:58.654230Z",
     "start_time": "2021-01-16T01:30:58.527516Z"
    }
   },
   "outputs": [],
   "source": [
    "import tensorflow.compat.v1 as tf\n",
    "import tensorflow_addons as tfa\n",
    "from tensorflow.python.layers import core as layers_core"
   ]
  },
  {
   "cell_type": "code",
   "execution_count": 19,
   "metadata": {
    "ExecuteTime": {
     "end_time": "2021-01-16T01:30:58.659497Z",
     "start_time": "2021-01-16T01:30:58.656056Z"
    }
   },
   "outputs": [],
   "source": [
    "EMB_SIZE = 512   #word embedding vector length\n",
    "HIDDEN_SIZE = 512        #hidden layer size\n",
    "SRC_VOCAB_SIZE, TRG_VOCAB_SIZE = len(eng_word2idx), len(ch_word2idx)\n",
    "SEQ_MAX_LEN = SENTENCE_LEN + 1\n",
    "MAX_PRED_LEN = 10\n",
    "MAX_GRAD = 1.0"
   ]
  },
  {
   "cell_type": "code",
   "execution_count": 20,
   "metadata": {
    "ExecuteTime": {
     "end_time": "2021-01-16T01:30:59.700635Z",
     "start_time": "2021-01-16T01:30:58.662502Z"
    },
    "code_folding": []
   },
   "outputs": [
    {
     "name": "stdout",
     "output_type": "stream",
     "text": [
      "WARNING:tensorflow:From <ipython-input-20-a76e090abf45>:35: dynamic_rnn (from tensorflow.python.ops.rnn) is deprecated and will be removed in a future version.\n",
      "Instructions for updating:\n",
      "Please use `keras.layers.RNN(cell)`, which is equivalent to this API\n",
      "WARNING:tensorflow:From /Users/songyihe/opt/anaconda3/envs/ai_camp/lib/python3.6/site-packages/tensorflow/python/keras/layers/legacy_rnn/rnn_cell_impl.py:753: calling Zeros.__init__ (from tensorflow.python.ops.init_ops) with dtype is deprecated and will be removed in a future version.\n",
      "Instructions for updating:\n",
      "Call initializer instance with the dtype argument instead of passing it to the constructor\n",
      "ERROR:tensorflow:==================================\n",
      "Object was never used (type <class 'tensorflow.python.framework.ops.Operation'>):\n",
      "<tf.Operation 'decode_layer_1/decoder/assert_greater/Assert/Assert' type=Assert>\n",
      "If you want to mark it as used call its \"mark_used()\" method.\n",
      "It was originally created here:\n",
      "  File \"/Users/songyihe/opt/anaconda3/envs/ai_camp/lib/python3.6/site-packages/tensorflow/python/util/dispatch.py\", line 201, in wrapper\n",
      "    return target(*args, **kwargs)  File \"/Users/songyihe/opt/anaconda3/envs/ai_camp/lib/python3.6/site-packages/tensorflow/python/ops/check_ops.py\", line 992, in assert_greater\n",
      "    y, data, summarize, message, name)  File \"/Users/songyihe/opt/anaconda3/envs/ai_camp/lib/python3.6/site-packages/tensorflow/python/ops/check_ops.py\", line 373, in _binary_assert\n",
      "    return control_flow_ops.Assert(condition, data, summarize=summarize)  File \"/Users/songyihe/opt/anaconda3/envs/ai_camp/lib/python3.6/site-packages/tensorflow/python/util/dispatch.py\", line 201, in wrapper\n",
      "    return target(*args, **kwargs)  File \"/Users/songyihe/opt/anaconda3/envs/ai_camp/lib/python3.6/site-packages/tensorflow/python/util/tf_should_use.py\", line 249, in wrapped\n",
      "    error_in_function=error_in_function)\n",
      "==================================\n",
      "<tf.Variable 'embedding_encoder:0' shape=(21743, 512) dtype=float32>\n",
      "<tf.Variable 'embedding_decoder:0' shape=(4058, 512) dtype=float32>\n",
      "<tf.Variable 'rnn/basic_lstm_cell/kernel:0' shape=(1024, 2048) dtype=float32>\n",
      "<tf.Variable 'rnn/basic_lstm_cell/bias:0' shape=(2048,) dtype=float32>\n",
      "<tf.Variable 'decode_layer/basic_lstm_cell/kernel:0' shape=(1024, 2048) dtype=float32>\n",
      "<tf.Variable 'decode_layer/basic_lstm_cell/bias:0' shape=(2048,) dtype=float32>\n",
      "<tf.Variable 'decode_layer/dense/kernel:0' shape=(512, 4058) dtype=float32>\n"
     ]
    }
   ],
   "source": [
    "rnn_graph = tf.Graph()\n",
    "with rnn_graph.as_default():      \n",
    "    ### Initializer\n",
    "    initializer = tf.random_uniform_initializer(-0.08, 0.08)\n",
    "    tf.get_variable_scope().set_initializer(initializer)\n",
    "        \n",
    "    ### Model Inputs\n",
    "    x_in = tf.placeholder(dtype=tf.int32, shape=[None, None], name='x_in')\n",
    "    x_len = tf.placeholder(dtype=tf.int32, shape=[None], name='x_len')\n",
    "    y_in = tf.placeholder(dtype=tf.int32, shape=[None, None], name='y_in')\n",
    "    y_out = tf.placeholder(dtype=tf.int32, shape=[None, None], name='y_out')\n",
    "    y_len = tf.placeholder(dtype=tf.int32, shape=[None], name='y_len')\n",
    "    lr = tf.placeholder(dtype=tf.float32, shape=[], name='lr')\n",
    "        \n",
    "    ### I.Embedding Layer\n",
    "    embedding_encoder = tf.get_variable(name=\"embedding_encoder\",\n",
    "                                        shape=[SRC_VOCAB_SIZE, EMB_SIZE],\n",
    "                                        dtype=tf.float32)\n",
    "    embedding_decoder = tf.get_variable(name=\"embedding_decoder\",\n",
    "                                        shape=[TRG_VOCAB_SIZE, EMB_SIZE],\n",
    "                                        dtype=tf.float32)\n",
    "    # embedded_..._input: [-1, SEQ_LEN, EMB_SIZE]\n",
    "    embedded_encoder_input = tf.nn.embedding_lookup(params=embedding_encoder, \n",
    "                                                    ids=x_in)\n",
    "    embedded_decoder_input = tf.nn.embedding_lookup(params=embedding_decoder, \n",
    "                                                    ids=y_in)\n",
    "        \n",
    "    ### II.Encoder\n",
    "    encoder_lstm_cell = tf.nn.rnn_cell.BasicLSTMCell(num_units=HIDDEN_SIZE)\n",
    "    # state: 2 * [batch_size, HIDDEN_SIZE] (2 for cell state and hidden state in LSTM)\n",
    "    encoder_outputs, encoder_state = tf.nn.dynamic_rnn(cell=encoder_lstm_cell, \n",
    "                                                       inputs=embedded_encoder_input,\n",
    "                                                       sequence_length=x_len,\n",
    "                                                       time_major=False,\n",
    "                                                       dtype=tf.float32)\n",
    "        \n",
    "    ### III.Decoder - Version for Training\n",
    "    batch_size = tf.shape(x_in)[0]\n",
    "    projection_layer = layers_core.Dense(len(ch_word2idx), use_bias=False)\n",
    "    with tf.variable_scope(\"decode_layer\"):\n",
    "        sampler = tfa.seq2seq.TrainingSampler(time_major=False)\n",
    "        sampler.initialize(embedded_decoder_input, y_len)\n",
    "        decoder_lstm_cell = tf.nn.rnn_cell.BasicLSTMCell(num_units=HIDDEN_SIZE)\n",
    "        decoder = tfa.seq2seq.BasicDecoder(cell=decoder_lstm_cell, \n",
    "                                           sampler=sampler, \n",
    "                                           output_layer=projection_layer)\n",
    "        outputs, _, _ = tfa.seq2seq.dynamic_decode(decoder=decoder,\n",
    "                                                   decoder_init_input = embedded_decoder_input,\n",
    "                                                   decoder_init_kwargs= {\n",
    "                                                       'initial_state' : encoder_state,\n",
    "                                                       'sequence_length': y_len\n",
    "                                                   })      \n",
    "        logits = outputs.rnn_output\n",
    "        target_weights = tf.sequence_mask(y_len, SEQ_MAX_LEN, dtype=logits.dtype)\n",
    "        \n",
    "    ### III.Decoder - Version for Predicting\n",
    "    with tf.variable_scope(\"decode_layer\", reuse=True):\n",
    "        sampler = tfa.seq2seq.GreedyEmbeddingSampler()\n",
    "        decoder = tfa.seq2seq.BasicDecoder(decoder_lstm_cell, sampler, output_layer=projection_layer)       \n",
    "        outputs, _ , __= tfa.seq2seq.dynamic_decode(decoder=decoder, \n",
    "                                                    maximum_iterations=MAX_PRED_LEN, \n",
    "                                                    decoder_init_input = embedding_decoder,\n",
    "                                                    decoder_init_kwargs= {\n",
    "                                                        'initial_state' : encoder_state,\n",
    "                                                        'start_tokens': tf.fill([batch_size], ch_word2idx['<start>']), \n",
    "                                                        'end_token': ch_word2idx['<end>']\n",
    "                                                    })\n",
    "        translations = outputs.sample_id\n",
    "    \n",
    "    # Loss\n",
    "    crossentropy = tf.nn.sparse_softmax_cross_entropy_with_logits(labels=y_out, logits=logits)\n",
    "    loss = (tf.reduce_sum(crossentropy * target_weights) / tf.cast(batch_size, tf.float32))\n",
    "        \n",
    "    # Optimizer with Gradient Clip\n",
    "    optimizer_origin = tf.train.GradientDescentOptimizer(learning_rate=lr)\n",
    "    variables = tf.trainable_variables()\n",
    "    gradients = tf.gradients(loss, variables)\n",
    "    clipped_gradients, _ = tf.clip_by_global_norm(gradients, MAX_GRAD)\n",
    "    global_step = tf.Variable(0, trainable=False, name='global_step')\n",
    "    optimizer = optimizer_origin.apply_gradients(grads_and_vars=zip(clipped_gradients, variables),\n",
    "                                                 global_step=global_step)\n",
    "    \n",
    "    # Show Trainable Variables\n",
    "    print(*tf.trainable_variables(), sep='\\n')"
   ]
  },
  {
   "cell_type": "markdown",
   "metadata": {},
   "source": [
    "# Train and Predict"
   ]
  },
  {
   "cell_type": "code",
   "execution_count": 21,
   "metadata": {
    "ExecuteTime": {
     "end_time": "2021-01-16T01:30:59.704493Z",
     "start_time": "2021-01-16T01:30:59.702330Z"
    }
   },
   "outputs": [],
   "source": [
    "BATCH_SIZE = 256"
   ]
  },
  {
   "cell_type": "code",
   "execution_count": 22,
   "metadata": {
    "ExecuteTime": {
     "end_time": "2021-01-16T01:40:18.780212Z",
     "start_time": "2021-01-16T01:30:59.710704Z"
    }
   },
   "outputs": [
    {
     "name": "stderr",
     "output_type": "stream",
     "text": [
      "100%|██████████| 406/406 [04:47<00:00,  1.41it/s]\n",
      "100%|██████████| 406/406 [04:30<00:00,  1.50it/s]"
     ]
    },
    {
     "name": "stdout",
     "output_type": "stream",
     "text": [
      "['一', '起', '<eos>', '<eos>', '<eos>', '<eos>', '<eos>', '<eos>', '<eos>', '<eos>']\n"
     ]
    },
    {
     "name": "stderr",
     "output_type": "stream",
     "text": [
      "\n"
     ]
    }
   ],
   "source": [
    "with tf.Session(graph=rnn_graph) as sess:\n",
    "    sess.run(tf.global_variables_initializer())\n",
    "    \n",
    "    # Train\n",
    "    losses = []\n",
    "    beginning_lr = 4\n",
    "    for epoch in range(0,2):\n",
    "        data_indices = np.asarray(list(range(len(data_x_in))))\n",
    "        np.random.shuffle(data_indices)      \n",
    "        for index in tqdm(range(0, len(data_indices), BATCH_SIZE)):\n",
    "            batch_indices = data_indices[index: index+BATCH_SIZE]\n",
    "            batch_lr = beginning_lr if epoch < 20 else beginning_lr * 0.5 ** (one_epoch - 20)\n",
    "            _, batch_loss = sess.run([optimizer, loss],\n",
    "                                     feed_dict={\n",
    "                                         x_in: data_x_in_pad[batch_indices],\n",
    "                                         y_in: data_y_in_pad[batch_indices],\n",
    "                                         y_out: data_y_out_pad[batch_indices],\n",
    "                                         x_len: data_x_len[batch_indices],\n",
    "                                         y_len: data_y_len[batch_indices],\n",
    "                                         lr: batch_lr})\n",
    "            losses.append(batch_loss)\n",
    "            \n",
    "    # Predict for a Sample\n",
    "    sample_sentence = 'eat food'\n",
    "    indices = [eng_word2idx[i.lower()] for i in sample_sentence.split()]\n",
    "    batch_x_in = np.asarray([indices])\n",
    "    batch_x_len = np.asarray([len(indices)])\n",
    "    traslation = sess.run(translations, feed_dict={\n",
    "        x_in: batch_x_in,\n",
    "        x_len: batch_x_len,\n",
    "    })[0]\n",
    "    print([ch_idx2word[i] for i in traslation])"
   ]
  },
  {
   "cell_type": "code",
   "execution_count": 23,
   "metadata": {
    "ExecuteTime": {
     "end_time": "2021-01-16T01:40:19.494244Z",
     "start_time": "2021-01-16T01:40:18.782681Z"
    }
   },
   "outputs": [
    {
     "data": {
      "text/plain": [
       "<AxesSubplot:>"
      ]
     },
     "execution_count": 23,
     "metadata": {},
     "output_type": "execute_result"
    },
    {
     "data": {
      "image/png": "[encoded data removed]",
      "text/plain": [
       "<Figure size 432x288 with 1 Axes>"
      ]
     },
     "metadata": {
      "needs_background": "light"
     },
     "output_type": "display_data"
    }
   ],
   "source": [
    "pd.DataFrame(losses).plot()"
   ]
  }
 ],
 "metadata": {
  "kernelspec": {
   "display_name": "Python 3",
   "language": "python",
   "name": "python3"
  },
  "language_info": {
   "codemirror_mode": {
    "name": "ipython",
    "version": 3
   },
   "file_extension": ".py",
   "mimetype": "text/x-python",
   "name": "python",
   "nbconvert_exporter": "python",
   "pygments_lexer": "ipython3",
   "version": "3.8.3"
  },
  "toc": {
   "base_numbering": 1,
   "nav_menu": {},
   "number_sections": true,
   "sideBar": true,
   "skip_h1_title": false,
   "title_cell": "Table of Contents",
   "title_sidebar": "Contents",
   "toc_cell": false,
   "toc_position": {},
   "toc_section_display": true,
   "toc_window_display": false
  },
  "varInspector": {
   "cols": {
    "lenName": 16,
    "lenType": 16,
    "lenVar": 40
   },
   "kernels_config": {
    "python": {
     "delete_cmd_postfix": "",
     "delete_cmd_prefix": "del ",
     "library": "var_list.py",
     "varRefreshCmd": "print(var_dic_list())"
    },
    "r": {
     "delete_cmd_postfix": ") ",
     "delete_cmd_prefix": "rm(",
     "library": "var_list.r",
     "varRefreshCmd": "cat(var_dic_list()) "
    }
   },
   "types_to_exclude": [
    "module",
    "function",
    "builtin_function_or_method",
    "instance",
    "_Feature"
   ],
   "window_display": false
  }
 },
 "nbformat": 4,
 "nbformat_minor": 4
}
