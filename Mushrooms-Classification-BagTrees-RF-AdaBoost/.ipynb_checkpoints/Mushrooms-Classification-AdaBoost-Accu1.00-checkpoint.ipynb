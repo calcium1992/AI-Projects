{
 "cells": [
  {
   "cell_type": "markdown",
   "metadata": {
    "ExecuteTime": {
     "end_time": "2020-12-25T21:06:55.124488Z",
     "start_time": "2020-12-25T21:06:55.117559Z"
    }
   },
   "source": [
    "Kaggle: https://www.kaggle.com/jiuzhang/ninechapter-rf"
   ]
  },
  {
   "cell_type": "markdown",
   "metadata": {},
   "source": [
    "Tutorial: https://www.kaggle.com/jiuzhang/aicamp-ensemble-exercise-4-adaboost"
   ]
  },
  {
   "cell_type": "code",
   "execution_count": 1,
   "metadata": {
    "ExecuteTime": {
     "end_time": "2020-12-27T21:36:52.964780Z",
     "start_time": "2020-12-27T21:36:51.890572Z"
    }
   },
   "outputs": [],
   "source": [
    "import numpy as np\n",
    "import pandas as pd\n",
    "import warnings\n",
    "warnings.filterwarnings('ignore')\n",
    "\n",
    "from sklearn.preprocessing import LabelEncoder"
   ]
  },
  {
   "cell_type": "code",
   "execution_count": 2,
   "metadata": {
    "ExecuteTime": {
     "end_time": "2020-12-27T21:36:52.968879Z",
     "start_time": "2020-12-27T21:36:52.966660Z"
    }
   },
   "outputs": [],
   "source": [
    "TRAIN_DIR = './input/mushrooms.csv'"
   ]
  },
  {
   "cell_type": "markdown",
   "metadata": {},
   "source": [
    "# Explantory Data Analyisis - Take a Glance at the Data"
   ]
  },
  {
   "cell_type": "code",
   "execution_count": 3,
   "metadata": {
    "ExecuteTime": {
     "end_time": "2020-12-27T21:36:52.998352Z",
     "start_time": "2020-12-27T21:36:52.971509Z"
    }
   },
   "outputs": [],
   "source": [
    "train = pd.read_csv(TRAIN_DIR, sep=',', header=0)"
   ]
  },
  {
   "cell_type": "code",
   "execution_count": 4,
   "metadata": {
    "ExecuteTime": {
     "end_time": "2020-12-27T21:36:53.031265Z",
     "start_time": "2020-12-27T21:36:53.001405Z"
    }
   },
   "outputs": [
    {
     "data": {
      "text/html": [
       "<div>\n",
       "<style scoped>\n",
       "    .dataframe tbody tr th:only-of-type {\n",
       "        vertical-align: middle;\n",
       "    }\n",
       "\n",
       "    .dataframe tbody tr th {\n",
       "        vertical-align: top;\n",
       "    }\n",
       "\n",
       "    .dataframe thead th {\n",
       "        text-align: right;\n",
       "    }\n",
       "</style>\n",
       "<table border=\"1\" class=\"dataframe\">\n",
       "  <thead>\n",
       "    <tr style=\"text-align: right;\">\n",
       "      <th></th>\n",
       "      <th>class</th>\n",
       "      <th>cap-shape</th>\n",
       "      <th>cap-surface</th>\n",
       "      <th>cap-color</th>\n",
       "      <th>bruises</th>\n",
       "      <th>odor</th>\n",
       "      <th>gill-attachment</th>\n",
       "      <th>gill-spacing</th>\n",
       "      <th>gill-size</th>\n",
       "      <th>gill-color</th>\n",
       "      <th>...</th>\n",
       "      <th>stalk-surface-below-ring</th>\n",
       "      <th>stalk-color-above-ring</th>\n",
       "      <th>stalk-color-below-ring</th>\n",
       "      <th>veil-type</th>\n",
       "      <th>veil-color</th>\n",
       "      <th>ring-number</th>\n",
       "      <th>ring-type</th>\n",
       "      <th>spore-print-color</th>\n",
       "      <th>population</th>\n",
       "      <th>habitat</th>\n",
       "    </tr>\n",
       "  </thead>\n",
       "  <tbody>\n",
       "    <tr>\n",
       "      <th>0</th>\n",
       "      <td>p</td>\n",
       "      <td>x</td>\n",
       "      <td>s</td>\n",
       "      <td>n</td>\n",
       "      <td>t</td>\n",
       "      <td>p</td>\n",
       "      <td>f</td>\n",
       "      <td>c</td>\n",
       "      <td>n</td>\n",
       "      <td>k</td>\n",
       "      <td>...</td>\n",
       "      <td>s</td>\n",
       "      <td>w</td>\n",
       "      <td>w</td>\n",
       "      <td>p</td>\n",
       "      <td>w</td>\n",
       "      <td>o</td>\n",
       "      <td>p</td>\n",
       "      <td>k</td>\n",
       "      <td>s</td>\n",
       "      <td>u</td>\n",
       "    </tr>\n",
       "    <tr>\n",
       "      <th>1</th>\n",
       "      <td>e</td>\n",
       "      <td>x</td>\n",
       "      <td>s</td>\n",
       "      <td>y</td>\n",
       "      <td>t</td>\n",
       "      <td>a</td>\n",
       "      <td>f</td>\n",
       "      <td>c</td>\n",
       "      <td>b</td>\n",
       "      <td>k</td>\n",
       "      <td>...</td>\n",
       "      <td>s</td>\n",
       "      <td>w</td>\n",
       "      <td>w</td>\n",
       "      <td>p</td>\n",
       "      <td>w</td>\n",
       "      <td>o</td>\n",
       "      <td>p</td>\n",
       "      <td>n</td>\n",
       "      <td>n</td>\n",
       "      <td>g</td>\n",
       "    </tr>\n",
       "    <tr>\n",
       "      <th>2</th>\n",
       "      <td>e</td>\n",
       "      <td>b</td>\n",
       "      <td>s</td>\n",
       "      <td>w</td>\n",
       "      <td>t</td>\n",
       "      <td>l</td>\n",
       "      <td>f</td>\n",
       "      <td>c</td>\n",
       "      <td>b</td>\n",
       "      <td>n</td>\n",
       "      <td>...</td>\n",
       "      <td>s</td>\n",
       "      <td>w</td>\n",
       "      <td>w</td>\n",
       "      <td>p</td>\n",
       "      <td>w</td>\n",
       "      <td>o</td>\n",
       "      <td>p</td>\n",
       "      <td>n</td>\n",
       "      <td>n</td>\n",
       "      <td>m</td>\n",
       "    </tr>\n",
       "    <tr>\n",
       "      <th>3</th>\n",
       "      <td>p</td>\n",
       "      <td>x</td>\n",
       "      <td>y</td>\n",
       "      <td>w</td>\n",
       "      <td>t</td>\n",
       "      <td>p</td>\n",
       "      <td>f</td>\n",
       "      <td>c</td>\n",
       "      <td>n</td>\n",
       "      <td>n</td>\n",
       "      <td>...</td>\n",
       "      <td>s</td>\n",
       "      <td>w</td>\n",
       "      <td>w</td>\n",
       "      <td>p</td>\n",
       "      <td>w</td>\n",
       "      <td>o</td>\n",
       "      <td>p</td>\n",
       "      <td>k</td>\n",
       "      <td>s</td>\n",
       "      <td>u</td>\n",
       "    </tr>\n",
       "    <tr>\n",
       "      <th>4</th>\n",
       "      <td>e</td>\n",
       "      <td>x</td>\n",
       "      <td>s</td>\n",
       "      <td>g</td>\n",
       "      <td>f</td>\n",
       "      <td>n</td>\n",
       "      <td>f</td>\n",
       "      <td>w</td>\n",
       "      <td>b</td>\n",
       "      <td>k</td>\n",
       "      <td>...</td>\n",
       "      <td>s</td>\n",
       "      <td>w</td>\n",
       "      <td>w</td>\n",
       "      <td>p</td>\n",
       "      <td>w</td>\n",
       "      <td>o</td>\n",
       "      <td>e</td>\n",
       "      <td>n</td>\n",
       "      <td>a</td>\n",
       "      <td>g</td>\n",
       "    </tr>\n",
       "  </tbody>\n",
       "</table>\n",
       "<p>5 rows × 23 columns</p>\n",
       "</div>"
      ],
      "text/plain": [
       "  class cap-shape cap-surface cap-color bruises odor gill-attachment  \\\n",
       "0     p         x           s         n       t    p               f   \n",
       "1     e         x           s         y       t    a               f   \n",
       "2     e         b           s         w       t    l               f   \n",
       "3     p         x           y         w       t    p               f   \n",
       "4     e         x           s         g       f    n               f   \n",
       "\n",
       "  gill-spacing gill-size gill-color  ... stalk-surface-below-ring  \\\n",
       "0            c         n          k  ...                        s   \n",
       "1            c         b          k  ...                        s   \n",
       "2            c         b          n  ...                        s   \n",
       "3            c         n          n  ...                        s   \n",
       "4            w         b          k  ...                        s   \n",
       "\n",
       "  stalk-color-above-ring stalk-color-below-ring veil-type veil-color  \\\n",
       "0                      w                      w         p          w   \n",
       "1                      w                      w         p          w   \n",
       "2                      w                      w         p          w   \n",
       "3                      w                      w         p          w   \n",
       "4                      w                      w         p          w   \n",
       "\n",
       "  ring-number ring-type spore-print-color population habitat  \n",
       "0           o         p                 k          s       u  \n",
       "1           o         p                 n          n       g  \n",
       "2           o         p                 n          n       m  \n",
       "3           o         p                 k          s       u  \n",
       "4           o         e                 n          a       g  \n",
       "\n",
       "[5 rows x 23 columns]"
      ]
     },
     "execution_count": 4,
     "metadata": {},
     "output_type": "execute_result"
    }
   ],
   "source": [
    "train.head()"
   ]
  },
  {
   "cell_type": "code",
   "execution_count": 5,
   "metadata": {
    "ExecuteTime": {
     "end_time": "2020-12-27T21:36:53.036573Z",
     "start_time": "2020-12-27T21:36:53.033209Z"
    }
   },
   "outputs": [
    {
     "data": {
      "text/plain": [
       "(8124, 23)"
      ]
     },
     "execution_count": 5,
     "metadata": {},
     "output_type": "execute_result"
    }
   ],
   "source": [
    "train.shape"
   ]
  },
  {
   "cell_type": "markdown",
   "metadata": {},
   "source": [
    "# Prepare Data"
   ]
  },
  {
   "cell_type": "code",
   "execution_count": 6,
   "metadata": {
    "ExecuteTime": {
     "end_time": "2020-12-27T21:36:53.044383Z",
     "start_time": "2020-12-27T21:36:53.038095Z"
    },
    "code_folding": []
   },
   "outputs": [],
   "source": [
    "def label_encode_data(data):\n",
    "    # Create Encoders\n",
    "    encoders = {}\n",
    "    for col in data.columns:\n",
    "        data.loc[data[col].isnull(), col] = 'missing'\n",
    "        \n",
    "        encoder = LabelEncoder()\n",
    "        values = data[col].tolist() + ['missing']\n",
    "        encoder.fit(values)\n",
    "        encoders[col] = encoder\n",
    "        \n",
    "    # Calculate Dimension\n",
    "    dim = 0\n",
    "    for col, encoder in encoders.items():\n",
    "        dim += len(encoder.classes_)\n",
    "    \n",
    "    # Create X\n",
    "    num_sample = data.shape[0]\n",
    "    X = np.zeros((num_sample, dim))\n",
    "    col_num = 0\n",
    "    for col, encoder in encoders.items():\n",
    "        num_elements = len(encoder.classes_)\n",
    "        X[np.arange(num_sample), encoder.transform(data[col]) + col_num] = 1\n",
    "        col_num += len(encoder.classes_)\n",
    "        \n",
    "    return pd.DataFrame(X, dtype=np.int64)"
   ]
  },
  {
   "cell_type": "code",
   "execution_count": 7,
   "metadata": {
    "ExecuteTime": {
     "end_time": "2020-12-27T21:36:53.150147Z",
     "start_time": "2020-12-27T21:36:53.046209Z"
    }
   },
   "outputs": [
    {
     "name": "stdout",
     "output_type": "stream",
     "text": [
      "X shape: (8124, 139)\n",
      "y shape: (8124,)\n"
     ]
    }
   ],
   "source": [
    "X = label_encode_data(train.iloc[:, 1:])\n",
    "y = np.array(train.iloc[:, 0].apply(lambda x: -1 if x == 'e' else 1))\n",
    "print(f'X shape: {X.shape}')\n",
    "print(f'y shape: {y.shape}')"
   ]
  },
  {
   "cell_type": "markdown",
   "metadata": {},
   "source": [
    "# Models"
   ]
  },
  {
   "cell_type": "code",
   "execution_count": 8,
   "metadata": {
    "ExecuteTime": {
     "end_time": "2020-12-27T21:36:53.211564Z",
     "start_time": "2020-12-27T21:36:53.153943Z"
    }
   },
   "outputs": [],
   "source": [
    "from sklearn.model_selection import cross_val_score"
   ]
  },
  {
   "cell_type": "markdown",
   "metadata": {},
   "source": [
    "1.Logistic Regression"
   ]
  },
  {
   "cell_type": "code",
   "execution_count": 9,
   "metadata": {
    "ExecuteTime": {
     "end_time": "2020-12-27T21:36:54.051901Z",
     "start_time": "2020-12-27T21:36:53.214871Z"
    }
   },
   "outputs": [
    {
     "data": {
      "text/plain": [
       "0.9260029188161825"
      ]
     },
     "execution_count": 9,
     "metadata": {},
     "output_type": "execute_result"
    }
   ],
   "source": [
    "from sklearn.linear_model import LogisticRegression\n",
    "logreg = LogisticRegression()\n",
    "cross_val_score(logreg, X, y, cv=8).mean()"
   ]
  },
  {
   "cell_type": "markdown",
   "metadata": {},
   "source": [
    "2.Decision Tree"
   ]
  },
  {
   "cell_type": "code",
   "execution_count": 10,
   "metadata": {
    "ExecuteTime": {
     "end_time": "2020-12-27T21:36:54.364786Z",
     "start_time": "2020-12-27T21:36:54.054295Z"
    }
   },
   "outputs": [
    {
     "data": {
      "text/plain": [
       "0.9655492416896163"
      ]
     },
     "execution_count": 10,
     "metadata": {},
     "output_type": "execute_result"
    }
   ],
   "source": [
    "from sklearn.tree import DecisionTreeClassifier\n",
    "dt = DecisionTreeClassifier(max_depth=6)\n",
    "cross_val_score(dt, X, y, cv=8).mean()"
   ]
  },
  {
   "cell_type": "markdown",
   "metadata": {},
   "source": [
    "3.AdaBoost"
   ]
  },
  {
   "cell_type": "code",
   "execution_count": 11,
   "metadata": {
    "ExecuteTime": {
     "end_time": "2020-12-27T21:37:00.371731Z",
     "start_time": "2020-12-27T21:36:54.366647Z"
    }
   },
   "outputs": [
    {
     "data": {
      "text/plain": [
       "0.9330359567123074"
      ]
     },
     "execution_count": 11,
     "metadata": {},
     "output_type": "execute_result"
    }
   ],
   "source": [
    "from sklearn.ensemble import AdaBoostClassifier\n",
    "ada = AdaBoostClassifier(base_estimator=DecisionTreeClassifier(max_depth=3), n_estimators=40)\n",
    "cross_val_score(ada, X, y, cv=8).mean()"
   ]
  },
  {
   "cell_type": "markdown",
   "metadata": {},
   "source": [
    "4.AdaBoost (Manual Implementation)"
   ]
  },
  {
   "cell_type": "code",
   "execution_count": 12,
   "metadata": {
    "ExecuteTime": {
     "end_time": "2020-12-27T21:37:00.376482Z",
     "start_time": "2020-12-27T21:37:00.373809Z"
    }
   },
   "outputs": [],
   "source": [
    "from sklearn.base import BaseEstimator"
   ]
  },
  {
   "cell_type": "code",
   "execution_count": 13,
   "metadata": {
    "ExecuteTime": {
     "end_time": "2020-12-27T21:37:00.387188Z",
     "start_time": "2020-12-27T21:37:00.378472Z"
    },
    "code_folding": [
     0
    ]
   },
   "outputs": [],
   "source": [
    "class AdaBoost(BaseEstimator):    \n",
    "    def __init__(self, n_estimators):\n",
    "        self.n_estimators = n_estimators \n",
    "        \n",
    "    def fit(self, X, y):\n",
    "        self.models = []\n",
    "        self.model_weights = []\n",
    "        num_samples = X.shape[0]\n",
    "        alpha = np.ones(num_samples) / num_samples\n",
    "        \n",
    "        for m in range(self.n_estimators):\n",
    "            tree = DecisionTreeClassifier(max_depth=2)\n",
    "            tree.fit(X, y, sample_weight=alpha)\n",
    "            prediction = tree.predict(X)\n",
    "            weighted_error = alpha.dot(prediction != y)\n",
    "            \n",
    "            model_weight = 0.5 * (np.log(1 - weighted_error) - np.log(weighted_error))\n",
    "            \n",
    "            alpha = alpha * np.exp(-model_weight * y * prediction)\n",
    "            alpha = alpha / alpha.sum()\n",
    "            \n",
    "            self.models.append(tree)\n",
    "            self.model_weights.append(model_weight)          \n",
    "              \n",
    "    def predict(self, X):\n",
    "        num_samples = len(X)\n",
    "        results = np.zeros(num_samples)\n",
    "        for model, model_weight in zip(self.models, self.model_weights):\n",
    "            results += model_weight * model.predict(X)\n",
    "        return np.sign(results)\n",
    "    \n",
    "    def score(self, X, y):\n",
    "        y_pred = self.predict(X)\n",
    "        return np.mean(y_pred == y)"
   ]
  },
  {
   "cell_type": "code",
   "execution_count": 14,
   "metadata": {
    "ExecuteTime": {
     "end_time": "2020-12-27T21:37:07.538047Z",
     "start_time": "2020-12-27T21:37:00.389084Z"
    },
    "code_folding": [
     0,
     1
    ]
   },
   "outputs": [
    {
     "data": {
      "text/plain": [
       "1.0"
      ]
     },
     "execution_count": 14,
     "metadata": {},
     "output_type": "execute_result"
    }
   ],
   "source": [
    "ada2 = AdaBoost(n_estimators=50)\n",
    "cross_val_score(ada2, X, y, cv=8).mean()"
   ]
  },
  {
   "cell_type": "markdown",
   "metadata": {
    "ExecuteTime": {
     "end_time": "2020-12-27T19:51:59.213220Z",
     "start_time": "2020-12-27T19:51:51.868155Z"
    }
   },
   "source": [
    "5.AdaBoost (Full Manual Implementation)"
   ]
  },
  {
   "cell_type": "code",
   "execution_count": 15,
   "metadata": {
    "ExecuteTime": {
     "end_time": "2020-12-27T21:37:07.542695Z",
     "start_time": "2020-12-27T21:37:07.539727Z"
    },
    "code_folding": [
     0
    ]
   },
   "outputs": [],
   "source": [
    "class TreeNode:\n",
    "    def __init__(self, is_leaf, prediction, split_feature):\n",
    "        self.is_leaf = is_leaf\n",
    "        self.prediction = prediction\n",
    "        self.split_feature = split_feature\n",
    "        self.left = None\n",
    "        self.right = None"
   ]
  },
  {
   "cell_type": "code",
   "execution_count": 16,
   "metadata": {
    "ExecuteTime": {
     "end_time": "2020-12-27T21:37:07.564650Z",
     "start_time": "2020-12-27T21:37:07.544513Z"
    },
    "code_folding": [
     1,
     21,
     67,
     84
    ]
   },
   "outputs": [],
   "source": [
    "class WeightedDecisionTree(BaseEstimator):\n",
    "    def __init__(self, max_depth, min_error, verbose=False):\n",
    "        self.max_depth = max_depth\n",
    "        self.min_error = min_error\n",
    "        self.verbose = verbose\n",
    "    \n",
    "    def fit(self, X, y, data_weights=None):\n",
    "        if data_weights is None:\n",
    "            data_weights = np.ones(X.shape[0]) / X.shape[0]      \n",
    "        features = X.columns\n",
    "        self.label_col = 'label'\n",
    "        data = pd.concat([pd.DataFrame(y, columns=['label']), X], axis=1)\n",
    "        self.root_node = self.__create_tree(data, data_weights, features, 0)\n",
    "        \n",
    "    def predict(self, X):\n",
    "        return X.apply(lambda row: self.__predict_single_data(self.root_node, row), axis=1)\n",
    "    \n",
    "    def score(self, X, y):\n",
    "        y_pred = self.predict(X)\n",
    "        return np.mean(y_pred == y)\n",
    "    \n",
    "    def __create_tree(self, data, data_weights, features, curr_depth):\n",
    "        # Exit Rule 1: No remaining features\n",
    "        if len(features) == 0:\n",
    "            if self.verbose:\n",
    "                print('No remaining features.')\n",
    "            return self.__create_leaf(data, data_weights)\n",
    "        # Exit Rule 2: Reached max depth.\n",
    "        if curr_depth >= self.max_depth:\n",
    "            if self.verbose:\n",
    "                print('Reached max depth.')\n",
    "            return self.__create_leaf(data, data_weights)\n",
    "            \n",
    "        split_feature = self.__find_best_feature(data, data_weights, features)\n",
    "        features = features.drop(split_feature)\n",
    "        if self.verbose:\n",
    "            print(f'Split on feature: {split_feature}')\n",
    "        \n",
    "        left_split = data[data[split_feature] == 0]\n",
    "        left_data_weights = data_weights[data[split_feature] == 0]\n",
    "        right_split = data[data[split_feature] == 1]\n",
    "        right_data_weights = data_weights[data[split_feature] == 1]   \n",
    "        \n",
    "        # Exit Rule 3: Perfect Split\n",
    "        if len(left_split) == 0:\n",
    "            if self.verbose:\n",
    "                print('Perfect Split.')\n",
    "            return self.__create_leaf(right_split, right_data_weights)\n",
    "        if len(right_split) == 0:\n",
    "            if self.verbose:\n",
    "                print('Perfect Split.')\n",
    "            return self.__create_leaf(left_split, left_data_weights)\n",
    "            \n",
    "        left_tree = self.__create_tree(left_split, left_data_weights, features, curr_depth+1)\n",
    "        right_tree = self.__create_tree(right_split, right_data_weights, features, curr_depth+1)\n",
    "        \n",
    "        curr_node = TreeNode(is_leaf=False, prediction=None, split_feature=split_feature)\n",
    "        curr_node.left = left_tree\n",
    "        curr_node.right = right_tree\n",
    "        \n",
    "        return curr_node\n",
    "    \n",
    "    def __create_leaf(self, data, data_weights):\n",
    "        leaf = TreeNode(True, None, None)\n",
    "        _, leaf.prediction = self.__calculate_node_error(data, data_weights)\n",
    "        return leaf\n",
    "           \n",
    "    def __find_best_feature(self, data, data_weights, features):\n",
    "        num_samples = float(len(data))\n",
    "        best_feature, best_error = None, float('inf')       \n",
    "        for feature in features:\n",
    "            left_split = data[data[feature] == 0]\n",
    "            left_data_weights = data_weights[data[feature] == 0]\n",
    "            left_error, left_predict = self.__calculate_node_error(left_split, left_data_weights)\n",
    "            \n",
    "            right_split = data[data[feature] == 1]\n",
    "            right_data_weights = data_weights[data[feature] == 1]   \n",
    "            right_error, right_predict = self.__calculate_node_error(right_split, right_data_weights)\n",
    "            \n",
    "            error = (left_error + right_error) / sum(data_weights)\n",
    "            if error < best_error:\n",
    "                best_feature, best_error = feature, error\n",
    "        return best_feature          \n",
    "    \n",
    "    def __calculate_node_error(self, data, data_weights):\n",
    "        weight_positive = sum(data_weights[data[self.label_col]==1])\n",
    "        error_predict_negative = weight_positive\n",
    "        \n",
    "        weight_negative = sum(data_weights[data[self.label_col]==-1])\n",
    "        error_predict_positive = weight_negative\n",
    "        \n",
    "        if error_predict_negative < error_predict_positive:\n",
    "            return (error_predict_negative, -1)\n",
    "        else:\n",
    "            return (error_predict_positive, 1)\n",
    "           \n",
    "    def __predict_single_data(self, tree_node, x):\n",
    "        # Exit Rule\n",
    "        if tree_node.is_leaf:\n",
    "            return tree_node.prediction\n",
    "        \n",
    "        if x[tree_node.split_feature] == 0:\n",
    "            return self.__predict_single_data(tree_node.left, x)\n",
    "        else:\n",
    "            return self.__predict_single_data(tree_node.right, x)"
   ]
  },
  {
   "cell_type": "code",
   "execution_count": 17,
   "metadata": {
    "ExecuteTime": {
     "end_time": "2020-12-27T21:37:19.865871Z",
     "start_time": "2020-12-27T21:37:07.567131Z"
    }
   },
   "outputs": [
    {
     "data": {
      "text/plain": [
       "array([       nan,        nan,        nan,        nan,        nan,\n",
       "              nan,        nan, 0.99211823])"
      ]
     },
     "execution_count": 17,
     "metadata": {},
     "output_type": "execute_result"
    }
   ],
   "source": [
    "wdt = WeightedDecisionTree(max_depth=6, min_error=1e-5)\n",
    "cross_val_score(wdt, X, y, cv=8)"
   ]
  },
  {
   "cell_type": "code",
   "execution_count": 18,
   "metadata": {
    "ExecuteTime": {
     "end_time": "2020-12-27T21:37:19.875953Z",
     "start_time": "2020-12-27T21:37:19.867946Z"
    },
    "code_folding": []
   },
   "outputs": [],
   "source": [
    "class FullAdaBoost(BaseEstimator):    \n",
    "    def __init__(self, n_estimators):\n",
    "        self.n_estimators = n_estimators \n",
    "        \n",
    "    def fit(self, X, y):\n",
    "        self.models = []\n",
    "        self.model_weights = []\n",
    "        \n",
    "        num_samples = X.shape[0]\n",
    "        alpha = np.ones(num_samples) / num_samples\n",
    "        \n",
    "        for m in range(self.n_estimators):\n",
    "            tree = WeightedDecisionTree(max_depth=2, min_error=1e-5)\n",
    "            tree.fit(X, y, data_weights=alpha)\n",
    "            prediction = tree.predict(X)\n",
    "            weighted_error = alpha.dot(prediction != y)\n",
    "            \n",
    "            model_weight = 0.5 * (np.log(1 - weighted_error) - np.log(weighted_error))\n",
    "            \n",
    "            alpha = alpha * np.exp(-model_weight * y * prediction)\n",
    "            alpha = alpha / alpha.sum()\n",
    "            \n",
    "            self.models.append(tree)\n",
    "            self.model_weights.append(model_weight)          \n",
    "              \n",
    "    def predict(self, X):\n",
    "        num_samples = len(X)\n",
    "        results = np.zeros(num_samples)\n",
    "        for model, model_weight in zip(self.models, self.model_weights):\n",
    "            results += model_weight * model.predict(X)\n",
    "        return np.sign(results)\n",
    "    \n",
    "    def score(self, X, y):\n",
    "        y_pred = self.predict(X)\n",
    "        return np.mean(y_pred == y)"
   ]
  },
  {
   "cell_type": "code",
   "execution_count": 19,
   "metadata": {
    "ExecuteTime": {
     "end_time": "2020-12-27T21:39:03.997281Z",
     "start_time": "2020-12-27T21:37:19.877597Z"
    }
   },
   "outputs": [
    {
     "data": {
      "text/plain": [
       "array([nan, nan, nan, nan, nan, nan, nan,  1.])"
      ]
     },
     "execution_count": 19,
     "metadata": {},
     "output_type": "execute_result"
    }
   ],
   "source": [
    "ada3 = FullAdaBoost(n_estimators=50)\n",
    "cross_val_score(ada3, X, y, cv=8)"
   ]
  }
 ],
 "metadata": {
  "kernelspec": {
   "display_name": "Python 3",
   "language": "python",
   "name": "python3"
  },
  "language_info": {
   "codemirror_mode": {
    "name": "ipython",
    "version": 3
   },
   "file_extension": ".py",
   "mimetype": "text/x-python",
   "name": "python",
   "nbconvert_exporter": "python",
   "pygments_lexer": "ipython3",
   "version": "3.6.12"
  },
  "toc": {
   "base_numbering": 1,
   "nav_menu": {},
   "number_sections": true,
   "sideBar": true,
   "skip_h1_title": false,
   "title_cell": "Table of Contents",
   "title_sidebar": "Contents",
   "toc_cell": false,
   "toc_position": {},
   "toc_section_display": true,
   "toc_window_display": false
  },
  "varInspector": {
   "cols": {
    "lenName": 16,
    "lenType": 16,
    "lenVar": 40
   },
   "kernels_config": {
    "python": {
     "delete_cmd_postfix": "",
     "delete_cmd_prefix": "del ",
     "library": "var_list.py",
     "varRefreshCmd": "print(var_dic_list())"
    },
    "r": {
     "delete_cmd_postfix": ") ",
     "delete_cmd_prefix": "rm(",
     "library": "var_list.r",
     "varRefreshCmd": "cat(var_dic_list()) "
    }
   },
   "types_to_exclude": [
    "module",
    "function",
    "builtin_function_or_method",
    "instance",
    "_Feature"
   ],
   "window_display": false
  }
 },
 "nbformat": 4,
 "nbformat_minor": 4
}
